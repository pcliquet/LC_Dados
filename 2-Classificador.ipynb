{
 "cells": [
  {
   "cell_type": "markdown",
   "metadata": {},
   "source": [
    "# Projeto 1 - Ciência dos Dados"
   ]
  },
  {
   "cell_type": "markdown",
   "metadata": {},
   "source": [
    "Nome: Pedro Cliquet Amaral\n",
    "\n",
    "Nome: Luciano Felix Dias"
   ]
  },
  {
   "cell_type": "markdown",
   "metadata": {},
   "source": [
    "Atenção: Serão permitidos grupos de três pessoas, mas com uma rubrica mais exigente. Grupos deste tamanho precisarão fazer um questionário de avaliação de trabalho em equipe"
   ]
  },
  {
   "cell_type": "markdown",
   "metadata": {},
   "source": [
    "### Projeto\n"
   ]
  },
  {
   "cell_type": "markdown",
   "metadata": {},
   "source": [
    "No projeto 1, iremos desenvoler um classificador de tweets a partir de um produto, que nos escolhemos o jogo League of Legends. Com base no que aprendemos durante as aulas de Ciência de Dados, iremos coletar tweets e usa-los para ensinar nossa maquina o que é relevante ou irrelevante em relação ao jogo."
   ]
  },
  {
   "cell_type": "markdown",
   "metadata": {},
   "source": [
    "### 1.1 Coleta e classificação"
   ]
  },
  {
   "cell_type": "markdown",
   "metadata": {},
   "source": [
    "Usaremos um arquivo do excel para salvar o tweets coletados. Após a coleta, classificaremos manualmente a relevância deles."
   ]
  },
  {
   "cell_type": "markdown",
   "metadata": {},
   "source": [
    "___\n",
    "Carregando algumas bibliotecas:"
   ]
  },
  {
   "cell_type": "code",
   "execution_count": 1,
   "metadata": {},
   "outputs": [],
   "source": [
    "%matplotlib inline\n",
    "import pandas as pd\n",
    "import matplotlib.pyplot as plt\n",
    "import numpy as np\n",
    "import os\n",
    "import re\n",
    "from numpy import random"
   ]
  },
  {
   "cell_type": "code",
   "execution_count": 2,
   "metadata": {
    "scrolled": false
   },
   "outputs": [
    {
     "output_type": "stream",
     "name": "stdout",
     "text": [
      "Esperamos trabalhar no diretório\nc:\\Users\\Lucius\\Documents\\Insper\\s2_2021.1\\CDados\\Projeto 1\n"
     ]
    }
   ],
   "source": [
    "print('Esperamos trabalhar no diretório')\n",
    "print(os.getcwd())"
   ]
  },
  {
   "cell_type": "markdown",
   "metadata": {},
   "source": [
    "Carregando a base de dados com os tweets classificados como relevantes e não relevantes:"
   ]
  },
  {
   "cell_type": "code",
   "execution_count": 3,
   "metadata": {},
   "outputs": [],
   "source": [
    "filename = 'League of Legends_1.xlsx'"
   ]
  },
  {
   "cell_type": "code",
   "execution_count": 4,
   "metadata": {},
   "outputs": [
    {
     "output_type": "execute_result",
     "data": {
      "text/plain": [
       "                                              Tweets  Relevancia\n",
       "0  @aakkari @furia tem um champ no league of lege...           0\n",
       "1  @raylerchil @noideapraisso @paulokogos_ofc kkk...           0\n",
       "2  a faculdade ta atrapalhando meu desempenho no ...           1\n",
       "3  league of legends é pior do que perder q vida ...           1\n",
       "4    eu te odeio league of legends lixo de jogo lixo           1"
      ],
      "text/html": "<div>\n<style scoped>\n    .dataframe tbody tr th:only-of-type {\n        vertical-align: middle;\n    }\n\n    .dataframe tbody tr th {\n        vertical-align: top;\n    }\n\n    .dataframe thead th {\n        text-align: right;\n    }\n</style>\n<table border=\"1\" class=\"dataframe\">\n  <thead>\n    <tr style=\"text-align: right;\">\n      <th></th>\n      <th>Tweets</th>\n      <th>Relevancia</th>\n    </tr>\n  </thead>\n  <tbody>\n    <tr>\n      <th>0</th>\n      <td>@aakkari @furia tem um champ no league of lege...</td>\n      <td>0</td>\n    </tr>\n    <tr>\n      <th>1</th>\n      <td>@raylerchil @noideapraisso @paulokogos_ofc kkk...</td>\n      <td>0</td>\n    </tr>\n    <tr>\n      <th>2</th>\n      <td>a faculdade ta atrapalhando meu desempenho no ...</td>\n      <td>1</td>\n    </tr>\n    <tr>\n      <th>3</th>\n      <td>league of legends é pior do que perder q vida ...</td>\n      <td>1</td>\n    </tr>\n    <tr>\n      <th>4</th>\n      <td>eu te odeio league of legends lixo de jogo lixo</td>\n      <td>1</td>\n    </tr>\n  </tbody>\n</table>\n</div>"
     },
     "metadata": {},
     "execution_count": 4
    }
   ],
   "source": [
    "train = pd.read_excel(filename, sheet_name = 'Treinamento')\n",
    "train.head(5)"
   ]
  },
  {
   "cell_type": "code",
   "execution_count": 5,
   "metadata": {},
   "outputs": [
    {
     "output_type": "execute_result",
     "data": {
      "text/plain": [
       "                                              Tweets  Relevancia\n",
       "0  uma call do supermercado vendo anime e a outra...           0\n",
       "1  #pulgapreta #leagueoflegends #nimotv pulgapret...           0\n",
       "2  fico de cara que vem uns zé buceta fala \"ah ma...           0\n",
       "3  @hastadvalorant esquece league of legends e ba...           0\n",
       "4        saudade de jogar league of legends com elas           1"
      ],
      "text/html": "<div>\n<style scoped>\n    .dataframe tbody tr th:only-of-type {\n        vertical-align: middle;\n    }\n\n    .dataframe tbody tr th {\n        vertical-align: top;\n    }\n\n    .dataframe thead th {\n        text-align: right;\n    }\n</style>\n<table border=\"1\" class=\"dataframe\">\n  <thead>\n    <tr style=\"text-align: right;\">\n      <th></th>\n      <th>Tweets</th>\n      <th>Relevancia</th>\n    </tr>\n  </thead>\n  <tbody>\n    <tr>\n      <th>0</th>\n      <td>uma call do supermercado vendo anime e a outra...</td>\n      <td>0</td>\n    </tr>\n    <tr>\n      <th>1</th>\n      <td>#pulgapreta #leagueoflegends #nimotv pulgapret...</td>\n      <td>0</td>\n    </tr>\n    <tr>\n      <th>2</th>\n      <td>fico de cara que vem uns zé buceta fala \"ah ma...</td>\n      <td>0</td>\n    </tr>\n    <tr>\n      <th>3</th>\n      <td>@hastadvalorant esquece league of legends e ba...</td>\n      <td>0</td>\n    </tr>\n    <tr>\n      <th>4</th>\n      <td>saudade de jogar league of legends com elas</td>\n      <td>1</td>\n    </tr>\n  </tbody>\n</table>\n</div>"
     },
     "metadata": {},
     "execution_count": 5
    }
   ],
   "source": [
    "test = pd.read_excel(filename, sheet_name = 'Teste')\n",
    "test.head(5)"
   ]
  },
  {
   "cell_type": "markdown",
   "metadata": {},
   "source": [
    "___\n",
    "## Classificador automático de sentimento\n"
   ]
  },
  {
   "cell_type": "markdown",
   "metadata": {},
   "source": [
    "Para classificar a relevância consideramos elogios, convites para jogar, críticas e formas de engajamento. Os tweets relevantes são: os elogios, críticas e convites para jogar. Já os irrelevantes são: engajamento em que a pessoa utiliza o produto para auto-divulgação e comentários com conteúdo do jogo."
   ]
  },
  {
   "cell_type": "markdown",
   "metadata": {},
   "source": [
    "### Cleaner"
   ]
  },
  {
   "cell_type": "code",
   "execution_count": 6,
   "metadata": {},
   "outputs": [],
   "source": [
    "def normalize (text):\n",
    "    \"\"\"\n",
    "        Função que normaliza os caracteres dos tweets.\n",
    "    \"\"\"\n",
    "    text_lower = text.lower()\n",
    "    matches = [\n",
    "        R\"[!-.\\:\\;\\\"\\'/\\\\]\",         # Pontuações\n",
    "        R\"\\b\\w{,2}\\b\",               # Palavras curtas\n",
    "        R\"[@#]\\S+\",                  # Marcações e Hashtags\n",
    "        R\"https?:\\/\\/\\S+|www.\\S+\"    # Links\n",
    "    ]\n",
    "    match_pattern = \"|\".join(matches)\n",
    "    pattern = re.compile(match_pattern)\n",
    "    normalized = re.sub(pattern, '', text_lower)\n",
    "    return normalized"
   ]
  },
  {
   "cell_type": "markdown",
   "metadata": {},
   "source": [
    "### Dicionário de palavras"
   ]
  },
  {
   "cell_type": "code",
   "execution_count": 7,
   "metadata": {},
   "outputs": [],
   "source": [
    "def extract_words (series):\n",
    "    \"\"\"\n",
    "        Função que extrai as palavras de uma Series.\n",
    "    \"\"\"\n",
    "    split = [line.split() for line in series]\n",
    "    words = [word for line in split for word in line]\n",
    "    \n",
    "    return pd.Series(words)\n"
   ]
  },
  {
   "cell_type": "markdown",
   "metadata": {},
   "source": [
    "### Naive-Baies"
   ]
  },
  {
   "cell_type": "code",
   "execution_count": 8,
   "metadata": {},
   "outputs": [],
   "source": [
    "def P_palavra (palavra, dicio, length):\n",
    "    \"\"\"\n",
    "        Função que calcula a probabilidade de uma palavra dado um dicionário de palavras com suavização por Naive-Bayes.\n",
    "    \"\"\"\n",
    "    ocor = dicio[palavra] if palavra in dicio else 0\n",
    "    prob = (ocor + 1) / (length + len(dicio))\n",
    "\n",
    "    return prob\n"
   ]
  },
  {
   "cell_type": "markdown",
   "metadata": {},
   "source": [
    "### Classificador"
   ]
  },
  {
   "cell_type": "code",
   "execution_count": 9,
   "metadata": {},
   "outputs": [],
   "source": [
    "class classificador:\n",
    "    def __init__ (self, df, data_column, category_column):\n",
    "        self.columns = (data_column, category_column)\n",
    "\n",
    "        data = df[data_column]\n",
    "        words = extract_words(data)\n",
    "        self.length = len(words)\n",
    "\n",
    "        categories = df[category_column].cat.categories\n",
    "\n",
    "        self.categories = {}\n",
    "        for category in categories:\n",
    "            cat_filter = df[category_column] == category\n",
    "            filtered = df.loc[cat_filter]\n",
    "            data = filtered[data_column]\n",
    "            words = extract_words(data)\n",
    "\n",
    "            self.categories[category] = {\n",
    "                \"table\": words.value_counts(),\n",
    "                \"length\": len(words)\n",
    "            }\n",
    "    \n",
    "    def probabilidades (self, frase):\n",
    "        normalized = normalize(frase)\n",
    "        \n",
    "        P_list = []\n",
    "        for category, data in self.categories.items():\n",
    "            table = data[\"table\"]\n",
    "            length = data[\"length\"]\n",
    "            \n",
    "            P_cat = length / self.length\n",
    "            P_frase_dado_cat = 1\n",
    "\n",
    "            for palavra in normalized.split():\n",
    "                P = P_palavra(palavra, table, length)\n",
    "                P_frase_dado_cat *= P\n",
    "\n",
    "            P_cat_dado_frase = P_frase_dado_cat * P_cat\n",
    "            P_list.append((category, P_cat_dado_frase))\n",
    "\n",
    "        return pd.DataFrame(P_list, columns=self.columns)\n",
    "\n",
    "    def classifica (self, frase):\n",
    "        sorted_prob = self.probabilidades(frase).sort_values(by=\"Relevancia\", ascending=False)\n",
    "\n",
    "        return sorted_prob.iloc[0, 0]\n"
   ]
  },
  {
   "cell_type": "markdown",
   "metadata": {},
   "source": [
    "### Criando variáveis"
   ]
  },
  {
   "cell_type": "code",
   "execution_count": 10,
   "metadata": {},
   "outputs": [
    {
     "output_type": "execute_result",
     "data": {
      "text/plain": [
       "                                                Tweets   Relevancia\n",
       "0      tem  champ  league  legends que  chama akali...  Irrelevante\n",
       "1       kkkkkkkkkkkkkkkkkkkkkkkkkkkkkkkkkkkkkkkkkkk...  Irrelevante\n",
       "2     faculdade  atrapalhando meu desempenho  leagu...    Relevante\n",
       "3         league  legends  pior  que perder  vida sim     Relevante\n",
       "4                odeio league  legends lixo  jogo lixo    Relevante\n",
       "..                                                 ...          ...\n",
       "295   não sei   continuo jogando esse jogo desgraça...    Relevante\n",
       "296    larguei  league  legends vou voltar virar gente    Relevante\n",
       "297                              odeio league  legends    Relevante\n",
       "298  esse league  legends  uma puta pediu pra atual...    Relevante\n",
       "299             mulheres estou jogando league  legends  Irrelevante\n",
       "\n",
       "[300 rows x 2 columns]"
      ],
      "text/html": "<div>\n<style scoped>\n    .dataframe tbody tr th:only-of-type {\n        vertical-align: middle;\n    }\n\n    .dataframe tbody tr th {\n        vertical-align: top;\n    }\n\n    .dataframe thead th {\n        text-align: right;\n    }\n</style>\n<table border=\"1\" class=\"dataframe\">\n  <thead>\n    <tr style=\"text-align: right;\">\n      <th></th>\n      <th>Tweets</th>\n      <th>Relevancia</th>\n    </tr>\n  </thead>\n  <tbody>\n    <tr>\n      <th>0</th>\n      <td>tem  champ  league  legends que  chama akali...</td>\n      <td>Irrelevante</td>\n    </tr>\n    <tr>\n      <th>1</th>\n      <td>kkkkkkkkkkkkkkkkkkkkkkkkkkkkkkkkkkkkkkkkkkk...</td>\n      <td>Irrelevante</td>\n    </tr>\n    <tr>\n      <th>2</th>\n      <td>faculdade  atrapalhando meu desempenho  leagu...</td>\n      <td>Relevante</td>\n    </tr>\n    <tr>\n      <th>3</th>\n      <td>league  legends  pior  que perder  vida sim</td>\n      <td>Relevante</td>\n    </tr>\n    <tr>\n      <th>4</th>\n      <td>odeio league  legends lixo  jogo lixo</td>\n      <td>Relevante</td>\n    </tr>\n    <tr>\n      <th>...</th>\n      <td>...</td>\n      <td>...</td>\n    </tr>\n    <tr>\n      <th>295</th>\n      <td>não sei   continuo jogando esse jogo desgraça...</td>\n      <td>Relevante</td>\n    </tr>\n    <tr>\n      <th>296</th>\n      <td>larguei  league  legends vou voltar virar gente</td>\n      <td>Relevante</td>\n    </tr>\n    <tr>\n      <th>297</th>\n      <td>odeio league  legends</td>\n      <td>Relevante</td>\n    </tr>\n    <tr>\n      <th>298</th>\n      <td>esse league  legends  uma puta pediu pra atual...</td>\n      <td>Relevante</td>\n    </tr>\n    <tr>\n      <th>299</th>\n      <td>mulheres estou jogando league  legends</td>\n      <td>Irrelevante</td>\n    </tr>\n  </tbody>\n</table>\n<p>300 rows × 2 columns</p>\n</div>"
     },
     "metadata": {},
     "execution_count": 10
    }
   ],
   "source": [
    "# Normalização dos tweets\n",
    "train[\"Tweets\"] = train[\"Tweets\"].apply(normalize)\n",
    "\n",
    "# Criação das categorias de relevância\n",
    "train.Relevancia = train.Relevancia.astype(\"category\")\n",
    "train.Relevancia.cat.categories = [\"Irrelevante\",\"Relevante\"]\n",
    "\n",
    "train"
   ]
  },
  {
   "cell_type": "code",
   "execution_count": 11,
   "metadata": {},
   "outputs": [
    {
     "output_type": "execute_result",
     "data": {
      "text/plain": [
       "                                              Tweets Relevancia\n",
       "2   faculdade  atrapalhando meu desempenho  leagu...  Relevante\n",
       "3       league  legends  pior  que perder  vida sim   Relevante\n",
       "4              odeio league  legends lixo  jogo lixo  Relevante\n",
       "7               league  legends   jogo podre nojento  Relevante\n",
       "8   vezes  acho que  fato  não poder jogar league...  Relevante"
      ],
      "text/html": "<div>\n<style scoped>\n    .dataframe tbody tr th:only-of-type {\n        vertical-align: middle;\n    }\n\n    .dataframe tbody tr th {\n        vertical-align: top;\n    }\n\n    .dataframe thead th {\n        text-align: right;\n    }\n</style>\n<table border=\"1\" class=\"dataframe\">\n  <thead>\n    <tr style=\"text-align: right;\">\n      <th></th>\n      <th>Tweets</th>\n      <th>Relevancia</th>\n    </tr>\n  </thead>\n  <tbody>\n    <tr>\n      <th>2</th>\n      <td>faculdade  atrapalhando meu desempenho  leagu...</td>\n      <td>Relevante</td>\n    </tr>\n    <tr>\n      <th>3</th>\n      <td>league  legends  pior  que perder  vida sim</td>\n      <td>Relevante</td>\n    </tr>\n    <tr>\n      <th>4</th>\n      <td>odeio league  legends lixo  jogo lixo</td>\n      <td>Relevante</td>\n    </tr>\n    <tr>\n      <th>7</th>\n      <td>league  legends   jogo podre nojento</td>\n      <td>Relevante</td>\n    </tr>\n    <tr>\n      <th>8</th>\n      <td>vezes  acho que  fato  não poder jogar league...</td>\n      <td>Relevante</td>\n    </tr>\n  </tbody>\n</table>\n</div>"
     },
     "metadata": {},
     "execution_count": 11
    }
   ],
   "source": [
    "relevante = train[\"Relevancia\"] == \"Relevante\"\n",
    "train_R = train.loc[relevante]\n",
    "\n",
    "train_R.head()"
   ]
  },
  {
   "cell_type": "code",
   "execution_count": 12,
   "metadata": {},
   "outputs": [
    {
     "output_type": "execute_result",
     "data": {
      "text/plain": [
       "                                               Tweets   Relevancia\n",
       "0     tem  champ  league  legends que  chama akali...  Irrelevante\n",
       "1      kkkkkkkkkkkkkkkkkkkkkkkkkkkkkkkkkkkkkkkkkkk...  Irrelevante\n",
       "5    unico defeito  kim heechul  ser diamante  jog...  Irrelevante\n",
       "6   league  legends  segredos para chegar  mestre ...  Irrelevante\n",
       "10                      vivo jogando league  legends   Irrelevante"
      ],
      "text/html": "<div>\n<style scoped>\n    .dataframe tbody tr th:only-of-type {\n        vertical-align: middle;\n    }\n\n    .dataframe tbody tr th {\n        vertical-align: top;\n    }\n\n    .dataframe thead th {\n        text-align: right;\n    }\n</style>\n<table border=\"1\" class=\"dataframe\">\n  <thead>\n    <tr style=\"text-align: right;\">\n      <th></th>\n      <th>Tweets</th>\n      <th>Relevancia</th>\n    </tr>\n  </thead>\n  <tbody>\n    <tr>\n      <th>0</th>\n      <td>tem  champ  league  legends que  chama akali...</td>\n      <td>Irrelevante</td>\n    </tr>\n    <tr>\n      <th>1</th>\n      <td>kkkkkkkkkkkkkkkkkkkkkkkkkkkkkkkkkkkkkkkkkkk...</td>\n      <td>Irrelevante</td>\n    </tr>\n    <tr>\n      <th>5</th>\n      <td>unico defeito  kim heechul  ser diamante  jog...</td>\n      <td>Irrelevante</td>\n    </tr>\n    <tr>\n      <th>6</th>\n      <td>league  legends  segredos para chegar  mestre ...</td>\n      <td>Irrelevante</td>\n    </tr>\n    <tr>\n      <th>10</th>\n      <td>vivo jogando league  legends</td>\n      <td>Irrelevante</td>\n    </tr>\n  </tbody>\n</table>\n</div>"
     },
     "metadata": {},
     "execution_count": 12
    }
   ],
   "source": [
    "irrelevante = train[\"Relevancia\"] == \"Irrelevante\"\n",
    "train_I = train.loc[irrelevante]\n",
    "\n",
    "train_I.head()"
   ]
  },
  {
   "cell_type": "code",
   "execution_count": 13,
   "metadata": {},
   "outputs": [],
   "source": [
    "classificador_tweets_lol = classificador(train, \"Tweets\", \"Relevancia\")"
   ]
  },
  {
   "cell_type": "code",
   "execution_count": 14,
   "metadata": {},
   "outputs": [
    {
     "output_type": "execute_result",
     "data": {
      "text/plain": [
       "{'Irrelevante': 2491, 'Relevante': 1286}"
      ]
     },
     "metadata": {},
     "execution_count": 14
    }
   ],
   "source": [
    "{cat: val[\"length\"] for cat, val in classificador_tweets_lol.categories.items()}"
   ]
  },
  {
   "cell_type": "code",
   "execution_count": 15,
   "metadata": {},
   "outputs": [
    {
     "output_type": "execute_result",
     "data": {
      "text/plain": [
       "        Tweets    Relevancia\n",
       "1    Relevante  5.248769e-11\n",
       "0  Irrelevante  1.467939e-11"
      ],
      "text/html": "<div>\n<style scoped>\n    .dataframe tbody tr th:only-of-type {\n        vertical-align: middle;\n    }\n\n    .dataframe tbody tr th {\n        vertical-align: top;\n    }\n\n    .dataframe thead th {\n        text-align: right;\n    }\n</style>\n<table border=\"1\" class=\"dataframe\">\n  <thead>\n    <tr style=\"text-align: right;\">\n      <th></th>\n      <th>Tweets</th>\n      <th>Relevancia</th>\n    </tr>\n  </thead>\n  <tbody>\n    <tr>\n      <th>1</th>\n      <td>Relevante</td>\n      <td>5.248769e-11</td>\n    </tr>\n    <tr>\n      <th>0</th>\n      <td>Irrelevante</td>\n      <td>1.467939e-11</td>\n    </tr>\n  </tbody>\n</table>\n</div>"
     },
     "metadata": {},
     "execution_count": 15
    }
   ],
   "source": [
    "frase = \"lalaaaa bib tsd\"\n",
    "\n",
    "P_frase = classificador_tweets_lol.probabilidades(frase)\n",
    "\n",
    "P_frase.sort_values(by=\"Relevancia\", ascending=False).head()"
   ]
  },
  {
   "cell_type": "markdown",
   "metadata": {},
   "source": [
    "### Teste"
   ]
  },
  {
   "cell_type": "code",
   "execution_count": 16,
   "metadata": {},
   "outputs": [
    {
     "output_type": "execute_result",
     "data": {
      "text/plain": [
       "                                                Tweets   Relevancia  \\\n",
       "0    uma call  supermercado vendo anime   outra jog...  Irrelevante   \n",
       "1    pulgapreta leagueoflegends nimotv pulgapreta e...  Irrelevante   \n",
       "2    fico  cara que vem uns  buceta fala  mas   tan...  Irrelevante   \n",
       "3     esquece league  legends  baixa algum moba  ce...  Irrelevante   \n",
       "4              saudade  jogar league  legends com elas    Relevante   \n",
       "..                                                 ...          ...   \n",
       "195  depois  assalto  valença que levaram meu celul...    Relevante   \n",
       "196   time  league  legends  furb  dos lineups  fur...  Irrelevante   \n",
       "197  mal vejo  hora  chegar  casa pra jogar aquele ...    Relevante   \n",
       "198             como  bom xingar  jogo league  legends    Relevante   \n",
       "199     league  legends tem  poder  acabar com meu dia    Relevante   \n",
       "\n",
       "        Verifica   Acerto  \n",
       "0      Relevante    Errou  \n",
       "1    Irrelevante  Acertou  \n",
       "2      Relevante    Errou  \n",
       "3      Relevante    Errou  \n",
       "4      Relevante  Acertou  \n",
       "..           ...      ...  \n",
       "195    Relevante  Acertou  \n",
       "196    Relevante    Errou  \n",
       "197    Relevante  Acertou  \n",
       "198    Relevante  Acertou  \n",
       "199    Relevante  Acertou  \n",
       "\n",
       "[200 rows x 4 columns]"
      ],
      "text/html": "<div>\n<style scoped>\n    .dataframe tbody tr th:only-of-type {\n        vertical-align: middle;\n    }\n\n    .dataframe tbody tr th {\n        vertical-align: top;\n    }\n\n    .dataframe thead th {\n        text-align: right;\n    }\n</style>\n<table border=\"1\" class=\"dataframe\">\n  <thead>\n    <tr style=\"text-align: right;\">\n      <th></th>\n      <th>Tweets</th>\n      <th>Relevancia</th>\n      <th>Verifica</th>\n      <th>Acerto</th>\n    </tr>\n  </thead>\n  <tbody>\n    <tr>\n      <th>0</th>\n      <td>uma call  supermercado vendo anime   outra jog...</td>\n      <td>Irrelevante</td>\n      <td>Relevante</td>\n      <td>Errou</td>\n    </tr>\n    <tr>\n      <th>1</th>\n      <td>pulgapreta leagueoflegends nimotv pulgapreta e...</td>\n      <td>Irrelevante</td>\n      <td>Irrelevante</td>\n      <td>Acertou</td>\n    </tr>\n    <tr>\n      <th>2</th>\n      <td>fico  cara que vem uns  buceta fala  mas   tan...</td>\n      <td>Irrelevante</td>\n      <td>Relevante</td>\n      <td>Errou</td>\n    </tr>\n    <tr>\n      <th>3</th>\n      <td>esquece league  legends  baixa algum moba  ce...</td>\n      <td>Irrelevante</td>\n      <td>Relevante</td>\n      <td>Errou</td>\n    </tr>\n    <tr>\n      <th>4</th>\n      <td>saudade  jogar league  legends com elas</td>\n      <td>Relevante</td>\n      <td>Relevante</td>\n      <td>Acertou</td>\n    </tr>\n    <tr>\n      <th>...</th>\n      <td>...</td>\n      <td>...</td>\n      <td>...</td>\n      <td>...</td>\n    </tr>\n    <tr>\n      <th>195</th>\n      <td>depois  assalto  valença que levaram meu celul...</td>\n      <td>Relevante</td>\n      <td>Relevante</td>\n      <td>Acertou</td>\n    </tr>\n    <tr>\n      <th>196</th>\n      <td>time  league  legends  furb  dos lineups  fur...</td>\n      <td>Irrelevante</td>\n      <td>Relevante</td>\n      <td>Errou</td>\n    </tr>\n    <tr>\n      <th>197</th>\n      <td>mal vejo  hora  chegar  casa pra jogar aquele ...</td>\n      <td>Relevante</td>\n      <td>Relevante</td>\n      <td>Acertou</td>\n    </tr>\n    <tr>\n      <th>198</th>\n      <td>como  bom xingar  jogo league  legends</td>\n      <td>Relevante</td>\n      <td>Relevante</td>\n      <td>Acertou</td>\n    </tr>\n    <tr>\n      <th>199</th>\n      <td>league  legends tem  poder  acabar com meu dia</td>\n      <td>Relevante</td>\n      <td>Relevante</td>\n      <td>Acertou</td>\n    </tr>\n  </tbody>\n</table>\n<p>200 rows × 4 columns</p>\n</div>"
     },
     "metadata": {},
     "execution_count": 16
    }
   ],
   "source": [
    "test[\"Tweets\"] = test[\"Tweets\"].apply(normalize)\n",
    "\n",
    "test.Relevancia = test.Relevancia.astype(\"category\")\n",
    "test.Relevancia.cat.categories = [\"Irrelevante\",\"Relevante\"]\n",
    "\n",
    "test[\"Verifica\"] = test[\"Tweets\"].apply(classificador_tweets_lol.classifica)\n",
    "\n",
    "test[\"Acerto\"] = test[\"Verifica\"] == test[\"Relevancia\"]\n",
    "test[\"Acerto\"] = test[\"Acerto\"].astype(\"category\")\n",
    "test[\"Acerto\"].cat.categories = [\"Errou\", \"Acertou\"]\n",
    "\n",
    "test"
   ]
  },
  {
   "cell_type": "markdown",
   "metadata": {},
   "source": [
    "___\n",
    "### Verificando a performance do Classificador\n",
    "\n",
    "Agora você deve testar o seu classificador com a base de Testes."
   ]
  },
  {
   "cell_type": "code",
   "execution_count": 17,
   "metadata": {},
   "outputs": [
    {
     "output_type": "execute_result",
     "data": {
      "text/plain": [
       "Acerto       Errou  Acertou\n",
       "Relevancia                 \n",
       "Irrelevante  0.470    0.075\n",
       "Relevante    0.005    0.450"
      ],
      "text/html": "<div>\n<style scoped>\n    .dataframe tbody tr th:only-of-type {\n        vertical-align: middle;\n    }\n\n    .dataframe tbody tr th {\n        vertical-align: top;\n    }\n\n    .dataframe thead th {\n        text-align: right;\n    }\n</style>\n<table border=\"1\" class=\"dataframe\">\n  <thead>\n    <tr style=\"text-align: right;\">\n      <th>Acerto</th>\n      <th>Errou</th>\n      <th>Acertou</th>\n    </tr>\n    <tr>\n      <th>Relevancia</th>\n      <th></th>\n      <th></th>\n    </tr>\n  </thead>\n  <tbody>\n    <tr>\n      <th>Irrelevante</th>\n      <td>0.470</td>\n      <td>0.075</td>\n    </tr>\n    <tr>\n      <th>Relevante</th>\n      <td>0.005</td>\n      <td>0.450</td>\n    </tr>\n  </tbody>\n</table>\n</div>"
     },
     "metadata": {},
     "execution_count": 17
    }
   ],
   "source": [
    "pd.crosstab(test[\"Relevancia\"], test[\"Acerto\"], normalize=True)"
   ]
  },
  {
   "cell_type": "markdown",
   "metadata": {},
   "source": [
    "___\n",
    "### Concluindo"
   ]
  },
  {
   "cell_type": "markdown",
   "metadata": {},
   "source": [
    "* nosso classificador errou muito\n",
    "* como o classificador apenas classifica como relevante e irrelevante a partir das nossas avaliações manuais do arquivo excel, ele não identifica sarcasmo e dupla negação. Entretanto, pelo formato de classificação ser binário, as caracteristicas desses comentário são irrelevantes na hora da maquina classificar.\n",
    "* Uma proposta de melhoria seria adotar as caracteristicas citadas acima, e também dar importancia para a ordem das palavras. Assim a maquina poderá iterar e classificar comentários de uma forma mais realista.\n",
    "* Classificar email como spam(aberto)\n",
    "* Interpretação de texto via machine learning\n",
    "* Por que eles devem continuar financiando o seu projeto? por que ao expandir a forma do classificador no questio interpretação, podemos identificar eventuais problemas que os consumidores estão passando, ou pontos que mantem-os como fieis jogadores. E isso pode ajudar nas melhorias a longo prazo, e quissá, trazer novos players com os feedbacks positivos que a empresa terá ROUBANDO DADOS DA GALERA PELO TWITI!"
   ]
  },
  {
   "cell_type": "markdown",
   "metadata": {},
   "source": [
    "___\n",
    "### Qualidade do Classificador a partir de novas separações dos tweets entre Treinamento e Teste\n",
    "\n",
    "Caso for fazer esse item do Projeto"
   ]
  },
  {
   "cell_type": "code",
   "execution_count": 18,
   "metadata": {},
   "outputs": [
    {
     "output_type": "execute_result",
     "data": {
      "text/plain": [
       "                                                Tweets   Relevancia\n",
       "0      tem  champ  league  legends que  chama akali...  Irrelevante\n",
       "1       kkkkkkkkkkkkkkkkkkkkkkkkkkkkkkkkkkkkkkkkkkk...  Irrelevante\n",
       "2     faculdade  atrapalhando meu desempenho  leagu...    Relevante\n",
       "3         league  legends  pior  que perder  vida sim     Relevante\n",
       "4                odeio league  legends lixo  jogo lixo    Relevante\n",
       "..                                                 ...          ...\n",
       "495  depois  assalto  valença que levaram meu celul...    Relevante\n",
       "496   time  league  legends  furb  dos lineups  fur...  Irrelevante\n",
       "497  mal vejo  hora  chegar  casa pra jogar aquele ...    Relevante\n",
       "498             como  bom xingar  jogo league  legends    Relevante\n",
       "499     league  legends tem  poder  acabar com meu dia    Relevante\n",
       "\n",
       "[500 rows x 2 columns]"
      ],
      "text/html": "<div>\n<style scoped>\n    .dataframe tbody tr th:only-of-type {\n        vertical-align: middle;\n    }\n\n    .dataframe tbody tr th {\n        vertical-align: top;\n    }\n\n    .dataframe thead th {\n        text-align: right;\n    }\n</style>\n<table border=\"1\" class=\"dataframe\">\n  <thead>\n    <tr style=\"text-align: right;\">\n      <th></th>\n      <th>Tweets</th>\n      <th>Relevancia</th>\n    </tr>\n  </thead>\n  <tbody>\n    <tr>\n      <th>0</th>\n      <td>tem  champ  league  legends que  chama akali...</td>\n      <td>Irrelevante</td>\n    </tr>\n    <tr>\n      <th>1</th>\n      <td>kkkkkkkkkkkkkkkkkkkkkkkkkkkkkkkkkkkkkkkkkkk...</td>\n      <td>Irrelevante</td>\n    </tr>\n    <tr>\n      <th>2</th>\n      <td>faculdade  atrapalhando meu desempenho  leagu...</td>\n      <td>Relevante</td>\n    </tr>\n    <tr>\n      <th>3</th>\n      <td>league  legends  pior  que perder  vida sim</td>\n      <td>Relevante</td>\n    </tr>\n    <tr>\n      <th>4</th>\n      <td>odeio league  legends lixo  jogo lixo</td>\n      <td>Relevante</td>\n    </tr>\n    <tr>\n      <th>...</th>\n      <td>...</td>\n      <td>...</td>\n    </tr>\n    <tr>\n      <th>495</th>\n      <td>depois  assalto  valença que levaram meu celul...</td>\n      <td>Relevante</td>\n    </tr>\n    <tr>\n      <th>496</th>\n      <td>time  league  legends  furb  dos lineups  fur...</td>\n      <td>Irrelevante</td>\n    </tr>\n    <tr>\n      <th>497</th>\n      <td>mal vejo  hora  chegar  casa pra jogar aquele ...</td>\n      <td>Relevante</td>\n    </tr>\n    <tr>\n      <th>498</th>\n      <td>como  bom xingar  jogo league  legends</td>\n      <td>Relevante</td>\n    </tr>\n    <tr>\n      <th>499</th>\n      <td>league  legends tem  poder  acabar com meu dia</td>\n      <td>Relevante</td>\n    </tr>\n  </tbody>\n</table>\n<p>500 rows × 2 columns</p>\n</div>"
     },
     "metadata": {},
     "execution_count": 18
    }
   ],
   "source": [
    "assert_train = pd.read_excel(filename, sheet_name = \"Treinamento\")\n",
    "assert_test = pd.read_excel(filename, sheet_name = \"Teste\")\n",
    "assert_df = pd.concat([assert_train, assert_test], ignore_index=True)\n",
    "\n",
    "assert_df[\"Tweets\"] = assert_df[\"Tweets\"].apply(normalize)\n",
    "\n",
    "assert_df[\"Relevancia\"] = assert_df[\"Relevancia\"].astype(\"category\")\n",
    "assert_df[\"Relevancia\"].cat.categories = ([\"Irrelevante\",\"Relevante\"])\n",
    "\n",
    "assert_df"
   ]
  },
  {
   "cell_type": "code",
   "execution_count": 19,
   "metadata": {},
   "outputs": [
    {
     "output_type": "stream",
     "name": "stderr",
     "text": [
      "<ipython-input-19-c8931832cb8e>:12: SettingWithCopyWarning: \nA value is trying to be set on a copy of a slice from a DataFrame.\nTry using .loc[row_indexer,col_indexer] = value instead\n\nSee the caveats in the documentation: https://pandas.pydata.org/pandas-docs/stable/user_guide/indexing.html#returning-a-view-versus-a-copy\n  permute_test[\"verifica\"] = permute_test[\"Tweets\"].apply(classificador_tweets_lol.classifica)\n"
     ]
    }
   ],
   "source": [
    "\n",
    "acerto_R_list = []\n",
    "acerto_I_list = []\n",
    "erro_R_list   = []\n",
    "erro_I_list   = []\n",
    "\n",
    "for i in range(100):\n",
    "    df_permute    = assert_df.reindex(random.permutation(assert_df.index))\n",
    "    permute_test  = df_permute.iloc[0:200]\n",
    "    permute_train = df_permute.iloc[200:500]\n",
    "\n",
    "    classificador_tweets_lol = classificador(permute_train, \"Tweets\", \"Relevancia\")\n",
    "    permute_test[\"verifica\"] = permute_test[\"Tweets\"].apply(classificador_tweets_lol.classifica)\n",
    "\n",
    "    hits = permute_test[\"verifica\"] == permute_test[\"Relevancia\"]\n",
    "    cross_table = pd.crosstab(permute_test[\"verifica\"], hits, normalize=True)\n",
    "\n",
    "    acerto_R = cross_table.loc[\"Relevante\", True]\n",
    "    acerto_I = cross_table.loc[\"Irrelevante\", True]\n",
    "    erro_R   = cross_table.loc[\"Relevante\", False]\n",
    "    erro_I   = cross_table.loc[\"Irrelevante\", False]\n",
    "\n",
    "    acerto_R_list.append(acerto_R)\n",
    "    acerto_I_list.append(acerto_I)\n",
    "    erro_R_list.append(erro_R)\n",
    "    erro_I_list.append(erro_I)"
   ]
  },
  {
   "cell_type": "code",
   "execution_count": 20,
   "metadata": {},
   "outputs": [
    {
     "output_type": "display_data",
     "data": {
      "text/plain": "<Figure size 1080x720 with 4 Axes>",
      "image/svg+xml": "<?xml version=\"1.0\" encoding=\"utf-8\" standalone=\"no\"?>\r\n<!DOCTYPE svg PUBLIC \"-//W3C//DTD SVG 1.1//EN\"\r\n  \"http://www.w3.org/Graphics/SVG/1.1/DTD/svg11.dtd\">\r\n<!-- Created with matplotlib (https://matplotlib.org/) -->\r\n<svg height=\"603.474375pt\" version=\"1.1\" viewBox=\"0 0 894.34375 603.474375\" width=\"894.34375pt\" xmlns=\"http://www.w3.org/2000/svg\" xmlns:xlink=\"http://www.w3.org/1999/xlink\">\r\n <defs>\r\n  <style type=\"text/css\">\r\n*{stroke-linecap:butt;stroke-linejoin:round;}\r\n  </style>\r\n </defs>\r\n <g id=\"figure_1\">\r\n  <g id=\"patch_1\">\r\n   <path d=\"M 0 603.474375 \r\nL 894.34375 603.474375 \r\nL 894.34375 0 \r\nL 0 0 \r\nz\r\n\" style=\"fill:none;\"/>\r\n  </g>\r\n  <g id=\"axes_1\">\r\n   <g id=\"patch_2\">\r\n    <path d=\"M 50.14375 269.409034 \r\nL 430.598295 269.409034 \r\nL 430.598295 22.318125 \r\nL 50.14375 22.318125 \r\nz\r\n\" style=\"fill:#ffffff;\"/>\r\n   </g>\r\n   <g id=\"patch_3\">\r\n    <path clip-path=\"url(#pa2f9a29c5b)\" d=\"M 67.437138 269.409034 \r\nL 102.023915 269.409034 \r\nL 102.023915 235.791223 \r\nL 67.437138 235.791223 \r\nz\r\n\" style=\"fill:#22bb22;stroke:#ffffff;stroke-linejoin:miter;\"/>\r\n   </g>\r\n   <g id=\"patch_4\">\r\n    <path clip-path=\"url(#pa2f9a29c5b)\" d=\"M 102.023915 269.409034 \r\nL 136.610692 269.409034 \r\nL 136.610692 244.195676 \r\nL 102.023915 244.195676 \r\nz\r\n\" style=\"fill:#22bb22;stroke:#ffffff;stroke-linejoin:miter;\"/>\r\n   </g>\r\n   <g id=\"patch_5\">\r\n    <path clip-path=\"url(#pa2f9a29c5b)\" d=\"M 136.610692 269.409034 \r\nL 171.197469 269.409034 \r\nL 171.197469 218.982318 \r\nL 136.610692 218.982318 \r\nz\r\n\" style=\"fill:#22bb22;stroke:#ffffff;stroke-linejoin:miter;\"/>\r\n   </g>\r\n   <g id=\"patch_6\">\r\n    <path clip-path=\"url(#pa2f9a29c5b)\" d=\"M 171.197469 269.409034 \r\nL 205.784246 269.409034 \r\nL 205.784246 168.555602 \r\nL 171.197469 168.555602 \r\nz\r\n\" style=\"fill:#22bb22;stroke:#ffffff;stroke-linejoin:miter;\"/>\r\n   </g>\r\n   <g id=\"patch_7\">\r\n    <path clip-path=\"url(#pa2f9a29c5b)\" d=\"M 205.784246 269.409034 \r\nL 240.371023 269.409034 \r\nL 240.371023 118.128886 \r\nL 205.784246 118.128886 \r\nz\r\n\" style=\"fill:#22bb22;stroke:#ffffff;stroke-linejoin:miter;\"/>\r\n   </g>\r\n   <g id=\"patch_8\">\r\n    <path clip-path=\"url(#pa2f9a29c5b)\" d=\"M 240.371023 269.409034 \r\nL 274.9578 269.409034 \r\nL 274.9578 34.084359 \r\nL 240.371023 34.084359 \r\nz\r\n\" style=\"fill:#22bb22;stroke:#ffffff;stroke-linejoin:miter;\"/>\r\n   </g>\r\n   <g id=\"patch_9\">\r\n    <path clip-path=\"url(#pa2f9a29c5b)\" d=\"M 274.9578 269.409034 \r\nL 309.544576 269.409034 \r\nL 309.544576 176.960054 \r\nL 274.9578 176.960054 \r\nz\r\n\" style=\"fill:#22bb22;stroke:#ffffff;stroke-linejoin:miter;\"/>\r\n   </g>\r\n   <g id=\"patch_10\">\r\n    <path clip-path=\"url(#pa2f9a29c5b)\" d=\"M 309.544576 269.409034 \r\nL 344.131353 269.409034 \r\nL 344.131353 160.151149 \r\nL 309.544576 160.151149 \r\nz\r\n\" style=\"fill:#22bb22;stroke:#ffffff;stroke-linejoin:miter;\"/>\r\n   </g>\r\n   <g id=\"patch_11\">\r\n    <path clip-path=\"url(#pa2f9a29c5b)\" d=\"M 344.131353 269.409034 \r\nL 378.71813 269.409034 \r\nL 378.71813 252.600129 \r\nL 344.131353 252.600129 \r\nz\r\n\" style=\"fill:#22bb22;stroke:#ffffff;stroke-linejoin:miter;\"/>\r\n   </g>\r\n   <g id=\"patch_12\">\r\n    <path clip-path=\"url(#pa2f9a29c5b)\" d=\"M 378.71813 269.409034 \r\nL 413.304907 269.409034 \r\nL 413.304907 244.195676 \r\nL 378.71813 244.195676 \r\nz\r\n\" style=\"fill:#22bb22;stroke:#ffffff;stroke-linejoin:miter;\"/>\r\n   </g>\r\n   <g id=\"matplotlib.axis_1\">\r\n    <g id=\"xtick_1\">\r\n     <g id=\"line2d_1\">\r\n      <defs>\r\n       <path d=\"M 0 0 \r\nL 0 3.5 \r\n\" id=\"m80dcd4a4cc\" style=\"stroke:#000000;stroke-width:0.8;\"/>\r\n      </defs>\r\n      <g>\r\n       <use style=\"stroke:#000000;stroke-width:0.8;\" x=\"54.627221\" xlink:href=\"#m80dcd4a4cc\" y=\"269.409034\"/>\r\n      </g>\r\n     </g>\r\n     <g id=\"text_1\">\r\n      <!-- 0.38 -->\r\n      <defs>\r\n       <path d=\"M 31.78125 66.40625 \r\nQ 24.171875 66.40625 20.328125 58.90625 \r\nQ 16.5 51.421875 16.5 36.375 \r\nQ 16.5 21.390625 20.328125 13.890625 \r\nQ 24.171875 6.390625 31.78125 6.390625 \r\nQ 39.453125 6.390625 43.28125 13.890625 \r\nQ 47.125 21.390625 47.125 36.375 \r\nQ 47.125 51.421875 43.28125 58.90625 \r\nQ 39.453125 66.40625 31.78125 66.40625 \r\nz\r\nM 31.78125 74.21875 \r\nQ 44.046875 74.21875 50.515625 64.515625 \r\nQ 56.984375 54.828125 56.984375 36.375 \r\nQ 56.984375 17.96875 50.515625 8.265625 \r\nQ 44.046875 -1.421875 31.78125 -1.421875 \r\nQ 19.53125 -1.421875 13.0625 8.265625 \r\nQ 6.59375 17.96875 6.59375 36.375 \r\nQ 6.59375 54.828125 13.0625 64.515625 \r\nQ 19.53125 74.21875 31.78125 74.21875 \r\nz\r\n\" id=\"DejaVuSans-48\"/>\r\n       <path d=\"M 10.6875 12.40625 \r\nL 21 12.40625 \r\nL 21 0 \r\nL 10.6875 0 \r\nz\r\n\" id=\"DejaVuSans-46\"/>\r\n       <path d=\"M 40.578125 39.3125 \r\nQ 47.65625 37.796875 51.625 33 \r\nQ 55.609375 28.21875 55.609375 21.1875 \r\nQ 55.609375 10.40625 48.1875 4.484375 \r\nQ 40.765625 -1.421875 27.09375 -1.421875 \r\nQ 22.515625 -1.421875 17.65625 -0.515625 \r\nQ 12.796875 0.390625 7.625 2.203125 \r\nL 7.625 11.71875 \r\nQ 11.71875 9.328125 16.59375 8.109375 \r\nQ 21.484375 6.890625 26.8125 6.890625 \r\nQ 36.078125 6.890625 40.9375 10.546875 \r\nQ 45.796875 14.203125 45.796875 21.1875 \r\nQ 45.796875 27.640625 41.28125 31.265625 \r\nQ 36.765625 34.90625 28.71875 34.90625 \r\nL 20.21875 34.90625 \r\nL 20.21875 43.015625 \r\nL 29.109375 43.015625 \r\nQ 36.375 43.015625 40.234375 45.921875 \r\nQ 44.09375 48.828125 44.09375 54.296875 \r\nQ 44.09375 59.90625 40.109375 62.90625 \r\nQ 36.140625 65.921875 28.71875 65.921875 \r\nQ 24.65625 65.921875 20.015625 65.03125 \r\nQ 15.375 64.15625 9.8125 62.3125 \r\nL 9.8125 71.09375 \r\nQ 15.4375 72.65625 20.34375 73.4375 \r\nQ 25.25 74.21875 29.59375 74.21875 \r\nQ 40.828125 74.21875 47.359375 69.109375 \r\nQ 53.90625 64.015625 53.90625 55.328125 \r\nQ 53.90625 49.265625 50.4375 45.09375 \r\nQ 46.96875 40.921875 40.578125 39.3125 \r\nz\r\n\" id=\"DejaVuSans-51\"/>\r\n       <path d=\"M 31.78125 34.625 \r\nQ 24.75 34.625 20.71875 30.859375 \r\nQ 16.703125 27.09375 16.703125 20.515625 \r\nQ 16.703125 13.921875 20.71875 10.15625 \r\nQ 24.75 6.390625 31.78125 6.390625 \r\nQ 38.8125 6.390625 42.859375 10.171875 \r\nQ 46.921875 13.96875 46.921875 20.515625 \r\nQ 46.921875 27.09375 42.890625 30.859375 \r\nQ 38.875 34.625 31.78125 34.625 \r\nz\r\nM 21.921875 38.8125 \r\nQ 15.578125 40.375 12.03125 44.71875 \r\nQ 8.5 49.078125 8.5 55.328125 \r\nQ 8.5 64.0625 14.71875 69.140625 \r\nQ 20.953125 74.21875 31.78125 74.21875 \r\nQ 42.671875 74.21875 48.875 69.140625 \r\nQ 55.078125 64.0625 55.078125 55.328125 \r\nQ 55.078125 49.078125 51.53125 44.71875 \r\nQ 48 40.375 41.703125 38.8125 \r\nQ 48.828125 37.15625 52.796875 32.3125 \r\nQ 56.78125 27.484375 56.78125 20.515625 \r\nQ 56.78125 9.90625 50.3125 4.234375 \r\nQ 43.84375 -1.421875 31.78125 -1.421875 \r\nQ 19.734375 -1.421875 13.25 4.234375 \r\nQ 6.78125 9.90625 6.78125 20.515625 \r\nQ 6.78125 27.484375 10.78125 32.3125 \r\nQ 14.796875 37.15625 21.921875 38.8125 \r\nz\r\nM 18.3125 54.390625 \r\nQ 18.3125 48.734375 21.84375 45.5625 \r\nQ 25.390625 42.390625 31.78125 42.390625 \r\nQ 38.140625 42.390625 41.71875 45.5625 \r\nQ 45.3125 48.734375 45.3125 54.390625 \r\nQ 45.3125 60.0625 41.71875 63.234375 \r\nQ 38.140625 66.40625 31.78125 66.40625 \r\nQ 25.390625 66.40625 21.84375 63.234375 \r\nQ 18.3125 60.0625 18.3125 54.390625 \r\nz\r\n\" id=\"DejaVuSans-56\"/>\r\n      </defs>\r\n      <g transform=\"translate(43.494409 284.007472)scale(0.1 -0.1)\">\r\n       <use xlink:href=\"#DejaVuSans-48\"/>\r\n       <use x=\"63.623047\" xlink:href=\"#DejaVuSans-46\"/>\r\n       <use x=\"95.410156\" xlink:href=\"#DejaVuSans-51\"/>\r\n       <use x=\"159.033203\" xlink:href=\"#DejaVuSans-56\"/>\r\n      </g>\r\n     </g>\r\n    </g>\r\n    <g id=\"xtick_2\">\r\n     <g id=\"line2d_2\">\r\n      <g>\r\n       <use style=\"stroke:#000000;stroke-width:0.8;\" x=\"105.86689\" xlink:href=\"#m80dcd4a4cc\" y=\"269.409034\"/>\r\n      </g>\r\n     </g>\r\n     <g id=\"text_2\">\r\n      <!-- 0.40 -->\r\n      <defs>\r\n       <path d=\"M 37.796875 64.3125 \r\nL 12.890625 25.390625 \r\nL 37.796875 25.390625 \r\nz\r\nM 35.203125 72.90625 \r\nL 47.609375 72.90625 \r\nL 47.609375 25.390625 \r\nL 58.015625 25.390625 \r\nL 58.015625 17.1875 \r\nL 47.609375 17.1875 \r\nL 47.609375 0 \r\nL 37.796875 0 \r\nL 37.796875 17.1875 \r\nL 4.890625 17.1875 \r\nL 4.890625 26.703125 \r\nz\r\n\" id=\"DejaVuSans-52\"/>\r\n      </defs>\r\n      <g transform=\"translate(94.734078 284.007472)scale(0.1 -0.1)\">\r\n       <use xlink:href=\"#DejaVuSans-48\"/>\r\n       <use x=\"63.623047\" xlink:href=\"#DejaVuSans-46\"/>\r\n       <use x=\"95.410156\" xlink:href=\"#DejaVuSans-52\"/>\r\n       <use x=\"159.033203\" xlink:href=\"#DejaVuSans-48\"/>\r\n      </g>\r\n     </g>\r\n    </g>\r\n    <g id=\"xtick_3\">\r\n     <g id=\"line2d_3\">\r\n      <g>\r\n       <use style=\"stroke:#000000;stroke-width:0.8;\" x=\"157.10656\" xlink:href=\"#m80dcd4a4cc\" y=\"269.409034\"/>\r\n      </g>\r\n     </g>\r\n     <g id=\"text_3\">\r\n      <!-- 0.42 -->\r\n      <defs>\r\n       <path d=\"M 19.1875 8.296875 \r\nL 53.609375 8.296875 \r\nL 53.609375 0 \r\nL 7.328125 0 \r\nL 7.328125 8.296875 \r\nQ 12.9375 14.109375 22.625 23.890625 \r\nQ 32.328125 33.6875 34.8125 36.53125 \r\nQ 39.546875 41.84375 41.421875 45.53125 \r\nQ 43.3125 49.21875 43.3125 52.78125 \r\nQ 43.3125 58.59375 39.234375 62.25 \r\nQ 35.15625 65.921875 28.609375 65.921875 \r\nQ 23.96875 65.921875 18.8125 64.3125 \r\nQ 13.671875 62.703125 7.8125 59.421875 \r\nL 7.8125 69.390625 \r\nQ 13.765625 71.78125 18.9375 73 \r\nQ 24.125 74.21875 28.421875 74.21875 \r\nQ 39.75 74.21875 46.484375 68.546875 \r\nQ 53.21875 62.890625 53.21875 53.421875 \r\nQ 53.21875 48.921875 51.53125 44.890625 \r\nQ 49.859375 40.875 45.40625 35.40625 \r\nQ 44.1875 33.984375 37.640625 27.21875 \r\nQ 31.109375 20.453125 19.1875 8.296875 \r\nz\r\n\" id=\"DejaVuSans-50\"/>\r\n      </defs>\r\n      <g transform=\"translate(145.973747 284.007472)scale(0.1 -0.1)\">\r\n       <use xlink:href=\"#DejaVuSans-48\"/>\r\n       <use x=\"63.623047\" xlink:href=\"#DejaVuSans-46\"/>\r\n       <use x=\"95.410156\" xlink:href=\"#DejaVuSans-52\"/>\r\n       <use x=\"159.033203\" xlink:href=\"#DejaVuSans-50\"/>\r\n      </g>\r\n     </g>\r\n    </g>\r\n    <g id=\"xtick_4\">\r\n     <g id=\"line2d_4\">\r\n      <g>\r\n       <use style=\"stroke:#000000;stroke-width:0.8;\" x=\"208.346229\" xlink:href=\"#m80dcd4a4cc\" y=\"269.409034\"/>\r\n      </g>\r\n     </g>\r\n     <g id=\"text_4\">\r\n      <!-- 0.44 -->\r\n      <g transform=\"translate(197.213417 284.007472)scale(0.1 -0.1)\">\r\n       <use xlink:href=\"#DejaVuSans-48\"/>\r\n       <use x=\"63.623047\" xlink:href=\"#DejaVuSans-46\"/>\r\n       <use x=\"95.410156\" xlink:href=\"#DejaVuSans-52\"/>\r\n       <use x=\"159.033203\" xlink:href=\"#DejaVuSans-52\"/>\r\n      </g>\r\n     </g>\r\n    </g>\r\n    <g id=\"xtick_5\">\r\n     <g id=\"line2d_5\">\r\n      <g>\r\n       <use style=\"stroke:#000000;stroke-width:0.8;\" x=\"259.585899\" xlink:href=\"#m80dcd4a4cc\" y=\"269.409034\"/>\r\n      </g>\r\n     </g>\r\n     <g id=\"text_5\">\r\n      <!-- 0.46 -->\r\n      <defs>\r\n       <path d=\"M 33.015625 40.375 \r\nQ 26.375 40.375 22.484375 35.828125 \r\nQ 18.609375 31.296875 18.609375 23.390625 \r\nQ 18.609375 15.53125 22.484375 10.953125 \r\nQ 26.375 6.390625 33.015625 6.390625 \r\nQ 39.65625 6.390625 43.53125 10.953125 \r\nQ 47.40625 15.53125 47.40625 23.390625 \r\nQ 47.40625 31.296875 43.53125 35.828125 \r\nQ 39.65625 40.375 33.015625 40.375 \r\nz\r\nM 52.59375 71.296875 \r\nL 52.59375 62.3125 \r\nQ 48.875 64.0625 45.09375 64.984375 \r\nQ 41.3125 65.921875 37.59375 65.921875 \r\nQ 27.828125 65.921875 22.671875 59.328125 \r\nQ 17.53125 52.734375 16.796875 39.40625 \r\nQ 19.671875 43.65625 24.015625 45.921875 \r\nQ 28.375 48.1875 33.59375 48.1875 \r\nQ 44.578125 48.1875 50.953125 41.515625 \r\nQ 57.328125 34.859375 57.328125 23.390625 \r\nQ 57.328125 12.15625 50.6875 5.359375 \r\nQ 44.046875 -1.421875 33.015625 -1.421875 \r\nQ 20.359375 -1.421875 13.671875 8.265625 \r\nQ 6.984375 17.96875 6.984375 36.375 \r\nQ 6.984375 53.65625 15.1875 63.9375 \r\nQ 23.390625 74.21875 37.203125 74.21875 \r\nQ 40.921875 74.21875 44.703125 73.484375 \r\nQ 48.484375 72.75 52.59375 71.296875 \r\nz\r\n\" id=\"DejaVuSans-54\"/>\r\n      </defs>\r\n      <g transform=\"translate(248.453086 284.007472)scale(0.1 -0.1)\">\r\n       <use xlink:href=\"#DejaVuSans-48\"/>\r\n       <use x=\"63.623047\" xlink:href=\"#DejaVuSans-46\"/>\r\n       <use x=\"95.410156\" xlink:href=\"#DejaVuSans-52\"/>\r\n       <use x=\"159.033203\" xlink:href=\"#DejaVuSans-54\"/>\r\n      </g>\r\n     </g>\r\n    </g>\r\n    <g id=\"xtick_6\">\r\n     <g id=\"line2d_6\">\r\n      <g>\r\n       <use style=\"stroke:#000000;stroke-width:0.8;\" x=\"310.825568\" xlink:href=\"#m80dcd4a4cc\" y=\"269.409034\"/>\r\n      </g>\r\n     </g>\r\n     <g id=\"text_6\">\r\n      <!-- 0.48 -->\r\n      <g transform=\"translate(299.692756 284.007472)scale(0.1 -0.1)\">\r\n       <use xlink:href=\"#DejaVuSans-48\"/>\r\n       <use x=\"63.623047\" xlink:href=\"#DejaVuSans-46\"/>\r\n       <use x=\"95.410156\" xlink:href=\"#DejaVuSans-52\"/>\r\n       <use x=\"159.033203\" xlink:href=\"#DejaVuSans-56\"/>\r\n      </g>\r\n     </g>\r\n    </g>\r\n    <g id=\"xtick_7\">\r\n     <g id=\"line2d_7\">\r\n      <g>\r\n       <use style=\"stroke:#000000;stroke-width:0.8;\" x=\"362.065238\" xlink:href=\"#m80dcd4a4cc\" y=\"269.409034\"/>\r\n      </g>\r\n     </g>\r\n     <g id=\"text_7\">\r\n      <!-- 0.50 -->\r\n      <defs>\r\n       <path d=\"M 10.796875 72.90625 \r\nL 49.515625 72.90625 \r\nL 49.515625 64.59375 \r\nL 19.828125 64.59375 \r\nL 19.828125 46.734375 \r\nQ 21.96875 47.46875 24.109375 47.828125 \r\nQ 26.265625 48.1875 28.421875 48.1875 \r\nQ 40.625 48.1875 47.75 41.5 \r\nQ 54.890625 34.8125 54.890625 23.390625 \r\nQ 54.890625 11.625 47.5625 5.09375 \r\nQ 40.234375 -1.421875 26.90625 -1.421875 \r\nQ 22.3125 -1.421875 17.546875 -0.640625 \r\nQ 12.796875 0.140625 7.71875 1.703125 \r\nL 7.71875 11.625 \r\nQ 12.109375 9.234375 16.796875 8.0625 \r\nQ 21.484375 6.890625 26.703125 6.890625 \r\nQ 35.15625 6.890625 40.078125 11.328125 \r\nQ 45.015625 15.765625 45.015625 23.390625 \r\nQ 45.015625 31 40.078125 35.4375 \r\nQ 35.15625 39.890625 26.703125 39.890625 \r\nQ 22.75 39.890625 18.8125 39.015625 \r\nQ 14.890625 38.140625 10.796875 36.28125 \r\nz\r\n\" id=\"DejaVuSans-53\"/>\r\n      </defs>\r\n      <g transform=\"translate(350.932425 284.007472)scale(0.1 -0.1)\">\r\n       <use xlink:href=\"#DejaVuSans-48\"/>\r\n       <use x=\"63.623047\" xlink:href=\"#DejaVuSans-46\"/>\r\n       <use x=\"95.410156\" xlink:href=\"#DejaVuSans-53\"/>\r\n       <use x=\"159.033203\" xlink:href=\"#DejaVuSans-48\"/>\r\n      </g>\r\n     </g>\r\n    </g>\r\n    <g id=\"xtick_8\">\r\n     <g id=\"line2d_8\">\r\n      <g>\r\n       <use style=\"stroke:#000000;stroke-width:0.8;\" x=\"413.304907\" xlink:href=\"#m80dcd4a4cc\" y=\"269.409034\"/>\r\n      </g>\r\n     </g>\r\n     <g id=\"text_8\">\r\n      <!-- 0.52 -->\r\n      <g transform=\"translate(402.172095 284.007472)scale(0.1 -0.1)\">\r\n       <use xlink:href=\"#DejaVuSans-48\"/>\r\n       <use x=\"63.623047\" xlink:href=\"#DejaVuSans-46\"/>\r\n       <use x=\"95.410156\" xlink:href=\"#DejaVuSans-53\"/>\r\n       <use x=\"159.033203\" xlink:href=\"#DejaVuSans-50\"/>\r\n      </g>\r\n     </g>\r\n    </g>\r\n    <g id=\"text_9\">\r\n     <!-- % de Acertos -->\r\n     <defs>\r\n      <path d=\"M 72.703125 32.078125 \r\nQ 68.453125 32.078125 66.03125 28.46875 \r\nQ 63.625 24.859375 63.625 18.40625 \r\nQ 63.625 12.0625 66.03125 8.421875 \r\nQ 68.453125 4.78125 72.703125 4.78125 \r\nQ 76.859375 4.78125 79.265625 8.421875 \r\nQ 81.6875 12.0625 81.6875 18.40625 \r\nQ 81.6875 24.8125 79.265625 28.4375 \r\nQ 76.859375 32.078125 72.703125 32.078125 \r\nz\r\nM 72.703125 38.28125 \r\nQ 80.421875 38.28125 84.953125 32.90625 \r\nQ 89.5 27.546875 89.5 18.40625 \r\nQ 89.5 9.28125 84.9375 3.921875 \r\nQ 80.375 -1.421875 72.703125 -1.421875 \r\nQ 64.890625 -1.421875 60.34375 3.921875 \r\nQ 55.8125 9.28125 55.8125 18.40625 \r\nQ 55.8125 27.59375 60.375 32.9375 \r\nQ 64.9375 38.28125 72.703125 38.28125 \r\nz\r\nM 22.3125 68.015625 \r\nQ 18.109375 68.015625 15.6875 64.375 \r\nQ 13.28125 60.75 13.28125 54.390625 \r\nQ 13.28125 47.953125 15.671875 44.328125 \r\nQ 18.0625 40.71875 22.3125 40.71875 \r\nQ 26.5625 40.71875 28.96875 44.328125 \r\nQ 31.390625 47.953125 31.390625 54.390625 \r\nQ 31.390625 60.6875 28.953125 64.34375 \r\nQ 26.515625 68.015625 22.3125 68.015625 \r\nz\r\nM 66.40625 74.21875 \r\nL 74.21875 74.21875 \r\nL 28.609375 -1.421875 \r\nL 20.796875 -1.421875 \r\nz\r\nM 22.3125 74.21875 \r\nQ 30.03125 74.21875 34.609375 68.875 \r\nQ 39.203125 63.53125 39.203125 54.390625 \r\nQ 39.203125 45.171875 34.640625 39.84375 \r\nQ 30.078125 34.515625 22.3125 34.515625 \r\nQ 14.546875 34.515625 10.03125 39.859375 \r\nQ 5.515625 45.21875 5.515625 54.390625 \r\nQ 5.515625 63.484375 10.046875 68.84375 \r\nQ 14.59375 74.21875 22.3125 74.21875 \r\nz\r\n\" id=\"DejaVuSans-37\"/>\r\n      <path id=\"DejaVuSans-32\"/>\r\n      <path d=\"M 45.40625 46.390625 \r\nL 45.40625 75.984375 \r\nL 54.390625 75.984375 \r\nL 54.390625 0 \r\nL 45.40625 0 \r\nL 45.40625 8.203125 \r\nQ 42.578125 3.328125 38.25 0.953125 \r\nQ 33.9375 -1.421875 27.875 -1.421875 \r\nQ 17.96875 -1.421875 11.734375 6.484375 \r\nQ 5.515625 14.40625 5.515625 27.296875 \r\nQ 5.515625 40.1875 11.734375 48.09375 \r\nQ 17.96875 56 27.875 56 \r\nQ 33.9375 56 38.25 53.625 \r\nQ 42.578125 51.265625 45.40625 46.390625 \r\nz\r\nM 14.796875 27.296875 \r\nQ 14.796875 17.390625 18.875 11.75 \r\nQ 22.953125 6.109375 30.078125 6.109375 \r\nQ 37.203125 6.109375 41.296875 11.75 \r\nQ 45.40625 17.390625 45.40625 27.296875 \r\nQ 45.40625 37.203125 41.296875 42.84375 \r\nQ 37.203125 48.484375 30.078125 48.484375 \r\nQ 22.953125 48.484375 18.875 42.84375 \r\nQ 14.796875 37.203125 14.796875 27.296875 \r\nz\r\n\" id=\"DejaVuSans-100\"/>\r\n      <path d=\"M 56.203125 29.59375 \r\nL 56.203125 25.203125 \r\nL 14.890625 25.203125 \r\nQ 15.484375 15.921875 20.484375 11.0625 \r\nQ 25.484375 6.203125 34.421875 6.203125 \r\nQ 39.59375 6.203125 44.453125 7.46875 \r\nQ 49.3125 8.734375 54.109375 11.28125 \r\nL 54.109375 2.78125 \r\nQ 49.265625 0.734375 44.1875 -0.34375 \r\nQ 39.109375 -1.421875 33.890625 -1.421875 \r\nQ 20.796875 -1.421875 13.15625 6.1875 \r\nQ 5.515625 13.8125 5.515625 26.8125 \r\nQ 5.515625 40.234375 12.765625 48.109375 \r\nQ 20.015625 56 32.328125 56 \r\nQ 43.359375 56 49.78125 48.890625 \r\nQ 56.203125 41.796875 56.203125 29.59375 \r\nz\r\nM 47.21875 32.234375 \r\nQ 47.125 39.59375 43.09375 43.984375 \r\nQ 39.0625 48.390625 32.421875 48.390625 \r\nQ 24.90625 48.390625 20.390625 44.140625 \r\nQ 15.875 39.890625 15.1875 32.171875 \r\nz\r\n\" id=\"DejaVuSans-101\"/>\r\n      <path d=\"M 34.1875 63.1875 \r\nL 20.796875 26.90625 \r\nL 47.609375 26.90625 \r\nz\r\nM 28.609375 72.90625 \r\nL 39.796875 72.90625 \r\nL 67.578125 0 \r\nL 57.328125 0 \r\nL 50.6875 18.703125 \r\nL 17.828125 18.703125 \r\nL 11.1875 0 \r\nL 0.78125 0 \r\nz\r\n\" id=\"DejaVuSans-65\"/>\r\n      <path d=\"M 48.78125 52.59375 \r\nL 48.78125 44.1875 \r\nQ 44.96875 46.296875 41.140625 47.34375 \r\nQ 37.3125 48.390625 33.40625 48.390625 \r\nQ 24.65625 48.390625 19.8125 42.84375 \r\nQ 14.984375 37.3125 14.984375 27.296875 \r\nQ 14.984375 17.28125 19.8125 11.734375 \r\nQ 24.65625 6.203125 33.40625 6.203125 \r\nQ 37.3125 6.203125 41.140625 7.25 \r\nQ 44.96875 8.296875 48.78125 10.40625 \r\nL 48.78125 2.09375 \r\nQ 45.015625 0.34375 40.984375 -0.53125 \r\nQ 36.96875 -1.421875 32.421875 -1.421875 \r\nQ 20.0625 -1.421875 12.78125 6.34375 \r\nQ 5.515625 14.109375 5.515625 27.296875 \r\nQ 5.515625 40.671875 12.859375 48.328125 \r\nQ 20.21875 56 33.015625 56 \r\nQ 37.15625 56 41.109375 55.140625 \r\nQ 45.0625 54.296875 48.78125 52.59375 \r\nz\r\n\" id=\"DejaVuSans-99\"/>\r\n      <path d=\"M 41.109375 46.296875 \r\nQ 39.59375 47.171875 37.8125 47.578125 \r\nQ 36.03125 48 33.890625 48 \r\nQ 26.265625 48 22.1875 43.046875 \r\nQ 18.109375 38.09375 18.109375 28.8125 \r\nL 18.109375 0 \r\nL 9.078125 0 \r\nL 9.078125 54.6875 \r\nL 18.109375 54.6875 \r\nL 18.109375 46.1875 \r\nQ 20.953125 51.171875 25.484375 53.578125 \r\nQ 30.03125 56 36.53125 56 \r\nQ 37.453125 56 38.578125 55.875 \r\nQ 39.703125 55.765625 41.0625 55.515625 \r\nz\r\n\" id=\"DejaVuSans-114\"/>\r\n      <path d=\"M 18.3125 70.21875 \r\nL 18.3125 54.6875 \r\nL 36.8125 54.6875 \r\nL 36.8125 47.703125 \r\nL 18.3125 47.703125 \r\nL 18.3125 18.015625 \r\nQ 18.3125 11.328125 20.140625 9.421875 \r\nQ 21.96875 7.515625 27.59375 7.515625 \r\nL 36.8125 7.515625 \r\nL 36.8125 0 \r\nL 27.59375 0 \r\nQ 17.1875 0 13.234375 3.875 \r\nQ 9.28125 7.765625 9.28125 18.015625 \r\nL 9.28125 47.703125 \r\nL 2.6875 47.703125 \r\nL 2.6875 54.6875 \r\nL 9.28125 54.6875 \r\nL 9.28125 70.21875 \r\nz\r\n\" id=\"DejaVuSans-116\"/>\r\n      <path d=\"M 30.609375 48.390625 \r\nQ 23.390625 48.390625 19.1875 42.75 \r\nQ 14.984375 37.109375 14.984375 27.296875 \r\nQ 14.984375 17.484375 19.15625 11.84375 \r\nQ 23.34375 6.203125 30.609375 6.203125 \r\nQ 37.796875 6.203125 41.984375 11.859375 \r\nQ 46.1875 17.53125 46.1875 27.296875 \r\nQ 46.1875 37.015625 41.984375 42.703125 \r\nQ 37.796875 48.390625 30.609375 48.390625 \r\nz\r\nM 30.609375 56 \r\nQ 42.328125 56 49.015625 48.375 \r\nQ 55.71875 40.765625 55.71875 27.296875 \r\nQ 55.71875 13.875 49.015625 6.21875 \r\nQ 42.328125 -1.421875 30.609375 -1.421875 \r\nQ 18.84375 -1.421875 12.171875 6.21875 \r\nQ 5.515625 13.875 5.515625 27.296875 \r\nQ 5.515625 40.765625 12.171875 48.375 \r\nQ 18.84375 56 30.609375 56 \r\nz\r\n\" id=\"DejaVuSans-111\"/>\r\n      <path d=\"M 44.28125 53.078125 \r\nL 44.28125 44.578125 \r\nQ 40.484375 46.53125 36.375 47.5 \r\nQ 32.28125 48.484375 27.875 48.484375 \r\nQ 21.1875 48.484375 17.84375 46.4375 \r\nQ 14.5 44.390625 14.5 40.28125 \r\nQ 14.5 37.15625 16.890625 35.375 \r\nQ 19.28125 33.59375 26.515625 31.984375 \r\nL 29.59375 31.296875 \r\nQ 39.15625 29.25 43.1875 25.515625 \r\nQ 47.21875 21.78125 47.21875 15.09375 \r\nQ 47.21875 7.46875 41.1875 3.015625 \r\nQ 35.15625 -1.421875 24.609375 -1.421875 \r\nQ 20.21875 -1.421875 15.453125 -0.5625 \r\nQ 10.6875 0.296875 5.421875 2 \r\nL 5.421875 11.28125 \r\nQ 10.40625 8.6875 15.234375 7.390625 \r\nQ 20.0625 6.109375 24.8125 6.109375 \r\nQ 31.15625 6.109375 34.5625 8.28125 \r\nQ 37.984375 10.453125 37.984375 14.40625 \r\nQ 37.984375 18.0625 35.515625 20.015625 \r\nQ 33.0625 21.96875 24.703125 23.78125 \r\nL 21.578125 24.515625 \r\nQ 13.234375 26.265625 9.515625 29.90625 \r\nQ 5.8125 33.546875 5.8125 39.890625 \r\nQ 5.8125 47.609375 11.28125 51.796875 \r\nQ 16.75 56 26.8125 56 \r\nQ 31.78125 56 36.171875 55.265625 \r\nQ 40.578125 54.546875 44.28125 53.078125 \r\nz\r\n\" id=\"DejaVuSans-115\"/>\r\n     </defs>\r\n     <g transform=\"translate(207.353054 297.685597)scale(0.1 -0.1)\">\r\n      <use xlink:href=\"#DejaVuSans-37\"/>\r\n      <use x=\"95.019531\" xlink:href=\"#DejaVuSans-32\"/>\r\n      <use x=\"126.806641\" xlink:href=\"#DejaVuSans-100\"/>\r\n      <use x=\"190.283203\" xlink:href=\"#DejaVuSans-101\"/>\r\n      <use x=\"251.806641\" xlink:href=\"#DejaVuSans-32\"/>\r\n      <use x=\"283.59375\" xlink:href=\"#DejaVuSans-65\"/>\r\n      <use x=\"350.251953\" xlink:href=\"#DejaVuSans-99\"/>\r\n      <use x=\"405.232422\" xlink:href=\"#DejaVuSans-101\"/>\r\n      <use x=\"466.755859\" xlink:href=\"#DejaVuSans-114\"/>\r\n      <use x=\"507.869141\" xlink:href=\"#DejaVuSans-116\"/>\r\n      <use x=\"547.078125\" xlink:href=\"#DejaVuSans-111\"/>\r\n      <use x=\"608.259766\" xlink:href=\"#DejaVuSans-115\"/>\r\n     </g>\r\n    </g>\r\n   </g>\r\n   <g id=\"matplotlib.axis_2\">\r\n    <g id=\"ytick_1\">\r\n     <g id=\"line2d_9\">\r\n      <path clip-path=\"url(#pa2f9a29c5b)\" d=\"M 50.14375 269.409034 \r\nL 430.598295 269.409034 \r\n\" style=\"fill:none;stroke:#b0b0b0;stroke-linecap:square;stroke-width:0.8;\"/>\r\n     </g>\r\n     <g id=\"line2d_10\">\r\n      <defs>\r\n       <path d=\"M 0 0 \r\nL -3.5 0 \r\n\" id=\"m756d668c0b\" style=\"stroke:#000000;stroke-width:0.8;\"/>\r\n      </defs>\r\n      <g>\r\n       <use style=\"stroke:#000000;stroke-width:0.8;\" x=\"50.14375\" xlink:href=\"#m756d668c0b\" y=\"269.409034\"/>\r\n      </g>\r\n     </g>\r\n     <g id=\"text_10\">\r\n      <!-- 0.0 -->\r\n      <g transform=\"translate(27.240625 273.208253)scale(0.1 -0.1)\">\r\n       <use xlink:href=\"#DejaVuSans-48\"/>\r\n       <use x=\"63.623047\" xlink:href=\"#DejaVuSans-46\"/>\r\n       <use x=\"95.410156\" xlink:href=\"#DejaVuSans-48\"/>\r\n      </g>\r\n     </g>\r\n    </g>\r\n    <g id=\"ytick_2\">\r\n     <g id=\"line2d_11\">\r\n      <path clip-path=\"url(#pa2f9a29c5b)\" d=\"M 50.14375 241.044006 \r\nL 430.598295 241.044006 \r\n\" style=\"fill:none;stroke:#b0b0b0;stroke-linecap:square;stroke-width:0.8;\"/>\r\n     </g>\r\n     <g id=\"line2d_12\">\r\n      <g>\r\n       <use style=\"stroke:#000000;stroke-width:0.8;\" x=\"50.14375\" xlink:href=\"#m756d668c0b\" y=\"241.044006\"/>\r\n      </g>\r\n     </g>\r\n     <g id=\"text_11\">\r\n      <!-- 2.5 -->\r\n      <g transform=\"translate(27.240625 244.843225)scale(0.1 -0.1)\">\r\n       <use xlink:href=\"#DejaVuSans-50\"/>\r\n       <use x=\"63.623047\" xlink:href=\"#DejaVuSans-46\"/>\r\n       <use x=\"95.410156\" xlink:href=\"#DejaVuSans-53\"/>\r\n      </g>\r\n     </g>\r\n    </g>\r\n    <g id=\"ytick_3\">\r\n     <g id=\"line2d_13\">\r\n      <path clip-path=\"url(#pa2f9a29c5b)\" d=\"M 50.14375 212.678978 \r\nL 430.598295 212.678978 \r\n\" style=\"fill:none;stroke:#b0b0b0;stroke-linecap:square;stroke-width:0.8;\"/>\r\n     </g>\r\n     <g id=\"line2d_14\">\r\n      <g>\r\n       <use style=\"stroke:#000000;stroke-width:0.8;\" x=\"50.14375\" xlink:href=\"#m756d668c0b\" y=\"212.678978\"/>\r\n      </g>\r\n     </g>\r\n     <g id=\"text_12\">\r\n      <!-- 5.0 -->\r\n      <g transform=\"translate(27.240625 216.478197)scale(0.1 -0.1)\">\r\n       <use xlink:href=\"#DejaVuSans-53\"/>\r\n       <use x=\"63.623047\" xlink:href=\"#DejaVuSans-46\"/>\r\n       <use x=\"95.410156\" xlink:href=\"#DejaVuSans-48\"/>\r\n      </g>\r\n     </g>\r\n    </g>\r\n    <g id=\"ytick_4\">\r\n     <g id=\"line2d_15\">\r\n      <path clip-path=\"url(#pa2f9a29c5b)\" d=\"M 50.14375 184.313951 \r\nL 430.598295 184.313951 \r\n\" style=\"fill:none;stroke:#b0b0b0;stroke-linecap:square;stroke-width:0.8;\"/>\r\n     </g>\r\n     <g id=\"line2d_16\">\r\n      <g>\r\n       <use style=\"stroke:#000000;stroke-width:0.8;\" x=\"50.14375\" xlink:href=\"#m756d668c0b\" y=\"184.313951\"/>\r\n      </g>\r\n     </g>\r\n     <g id=\"text_13\">\r\n      <!-- 7.5 -->\r\n      <defs>\r\n       <path d=\"M 8.203125 72.90625 \r\nL 55.078125 72.90625 \r\nL 55.078125 68.703125 \r\nL 28.609375 0 \r\nL 18.3125 0 \r\nL 43.21875 64.59375 \r\nL 8.203125 64.59375 \r\nz\r\n\" id=\"DejaVuSans-55\"/>\r\n      </defs>\r\n      <g transform=\"translate(27.240625 188.113169)scale(0.1 -0.1)\">\r\n       <use xlink:href=\"#DejaVuSans-55\"/>\r\n       <use x=\"63.623047\" xlink:href=\"#DejaVuSans-46\"/>\r\n       <use x=\"95.410156\" xlink:href=\"#DejaVuSans-53\"/>\r\n      </g>\r\n     </g>\r\n    </g>\r\n    <g id=\"ytick_5\">\r\n     <g id=\"line2d_17\">\r\n      <path clip-path=\"url(#pa2f9a29c5b)\" d=\"M 50.14375 155.948923 \r\nL 430.598295 155.948923 \r\n\" style=\"fill:none;stroke:#b0b0b0;stroke-linecap:square;stroke-width:0.8;\"/>\r\n     </g>\r\n     <g id=\"line2d_18\">\r\n      <g>\r\n       <use style=\"stroke:#000000;stroke-width:0.8;\" x=\"50.14375\" xlink:href=\"#m756d668c0b\" y=\"155.948923\"/>\r\n      </g>\r\n     </g>\r\n     <g id=\"text_14\">\r\n      <!-- 10.0 -->\r\n      <defs>\r\n       <path d=\"M 12.40625 8.296875 \r\nL 28.515625 8.296875 \r\nL 28.515625 63.921875 \r\nL 10.984375 60.40625 \r\nL 10.984375 69.390625 \r\nL 28.421875 72.90625 \r\nL 38.28125 72.90625 \r\nL 38.28125 8.296875 \r\nL 54.390625 8.296875 \r\nL 54.390625 0 \r\nL 12.40625 0 \r\nz\r\n\" id=\"DejaVuSans-49\"/>\r\n      </defs>\r\n      <g transform=\"translate(20.878125 159.748142)scale(0.1 -0.1)\">\r\n       <use xlink:href=\"#DejaVuSans-49\"/>\r\n       <use x=\"63.623047\" xlink:href=\"#DejaVuSans-48\"/>\r\n       <use x=\"127.246094\" xlink:href=\"#DejaVuSans-46\"/>\r\n       <use x=\"159.033203\" xlink:href=\"#DejaVuSans-48\"/>\r\n      </g>\r\n     </g>\r\n    </g>\r\n    <g id=\"ytick_6\">\r\n     <g id=\"line2d_19\">\r\n      <path clip-path=\"url(#pa2f9a29c5b)\" d=\"M 50.14375 127.583895 \r\nL 430.598295 127.583895 \r\n\" style=\"fill:none;stroke:#b0b0b0;stroke-linecap:square;stroke-width:0.8;\"/>\r\n     </g>\r\n     <g id=\"line2d_20\">\r\n      <g>\r\n       <use style=\"stroke:#000000;stroke-width:0.8;\" x=\"50.14375\" xlink:href=\"#m756d668c0b\" y=\"127.583895\"/>\r\n      </g>\r\n     </g>\r\n     <g id=\"text_15\">\r\n      <!-- 12.5 -->\r\n      <g transform=\"translate(20.878125 131.383114)scale(0.1 -0.1)\">\r\n       <use xlink:href=\"#DejaVuSans-49\"/>\r\n       <use x=\"63.623047\" xlink:href=\"#DejaVuSans-50\"/>\r\n       <use x=\"127.246094\" xlink:href=\"#DejaVuSans-46\"/>\r\n       <use x=\"159.033203\" xlink:href=\"#DejaVuSans-53\"/>\r\n      </g>\r\n     </g>\r\n    </g>\r\n    <g id=\"ytick_7\">\r\n     <g id=\"line2d_21\">\r\n      <path clip-path=\"url(#pa2f9a29c5b)\" d=\"M 50.14375 99.218867 \r\nL 430.598295 99.218867 \r\n\" style=\"fill:none;stroke:#b0b0b0;stroke-linecap:square;stroke-width:0.8;\"/>\r\n     </g>\r\n     <g id=\"line2d_22\">\r\n      <g>\r\n       <use style=\"stroke:#000000;stroke-width:0.8;\" x=\"50.14375\" xlink:href=\"#m756d668c0b\" y=\"99.218867\"/>\r\n      </g>\r\n     </g>\r\n     <g id=\"text_16\">\r\n      <!-- 15.0 -->\r\n      <g transform=\"translate(20.878125 103.018086)scale(0.1 -0.1)\">\r\n       <use xlink:href=\"#DejaVuSans-49\"/>\r\n       <use x=\"63.623047\" xlink:href=\"#DejaVuSans-53\"/>\r\n       <use x=\"127.246094\" xlink:href=\"#DejaVuSans-46\"/>\r\n       <use x=\"159.033203\" xlink:href=\"#DejaVuSans-48\"/>\r\n      </g>\r\n     </g>\r\n    </g>\r\n    <g id=\"ytick_8\">\r\n     <g id=\"line2d_23\">\r\n      <path clip-path=\"url(#pa2f9a29c5b)\" d=\"M 50.14375 70.853839 \r\nL 430.598295 70.853839 \r\n\" style=\"fill:none;stroke:#b0b0b0;stroke-linecap:square;stroke-width:0.8;\"/>\r\n     </g>\r\n     <g id=\"line2d_24\">\r\n      <g>\r\n       <use style=\"stroke:#000000;stroke-width:0.8;\" x=\"50.14375\" xlink:href=\"#m756d668c0b\" y=\"70.853839\"/>\r\n      </g>\r\n     </g>\r\n     <g id=\"text_17\">\r\n      <!-- 17.5 -->\r\n      <g transform=\"translate(20.878125 74.653058)scale(0.1 -0.1)\">\r\n       <use xlink:href=\"#DejaVuSans-49\"/>\r\n       <use x=\"63.623047\" xlink:href=\"#DejaVuSans-55\"/>\r\n       <use x=\"127.246094\" xlink:href=\"#DejaVuSans-46\"/>\r\n       <use x=\"159.033203\" xlink:href=\"#DejaVuSans-53\"/>\r\n      </g>\r\n     </g>\r\n    </g>\r\n    <g id=\"ytick_9\">\r\n     <g id=\"line2d_25\">\r\n      <path clip-path=\"url(#pa2f9a29c5b)\" d=\"M 50.14375 42.488811 \r\nL 430.598295 42.488811 \r\n\" style=\"fill:none;stroke:#b0b0b0;stroke-linecap:square;stroke-width:0.8;\"/>\r\n     </g>\r\n     <g id=\"line2d_26\">\r\n      <g>\r\n       <use style=\"stroke:#000000;stroke-width:0.8;\" x=\"50.14375\" xlink:href=\"#m756d668c0b\" y=\"42.488811\"/>\r\n      </g>\r\n     </g>\r\n     <g id=\"text_18\">\r\n      <!-- 20.0 -->\r\n      <g transform=\"translate(20.878125 46.28803)scale(0.1 -0.1)\">\r\n       <use xlink:href=\"#DejaVuSans-50\"/>\r\n       <use x=\"63.623047\" xlink:href=\"#DejaVuSans-48\"/>\r\n       <use x=\"127.246094\" xlink:href=\"#DejaVuSans-46\"/>\r\n       <use x=\"159.033203\" xlink:href=\"#DejaVuSans-48\"/>\r\n      </g>\r\n     </g>\r\n    </g>\r\n    <g id=\"text_19\">\r\n     <!-- % de ocorrencias -->\r\n     <defs>\r\n      <path d=\"M 54.890625 33.015625 \r\nL 54.890625 0 \r\nL 45.90625 0 \r\nL 45.90625 32.71875 \r\nQ 45.90625 40.484375 42.875 44.328125 \r\nQ 39.84375 48.1875 33.796875 48.1875 \r\nQ 26.515625 48.1875 22.3125 43.546875 \r\nQ 18.109375 38.921875 18.109375 30.90625 \r\nL 18.109375 0 \r\nL 9.078125 0 \r\nL 9.078125 54.6875 \r\nL 18.109375 54.6875 \r\nL 18.109375 46.1875 \r\nQ 21.34375 51.125 25.703125 53.5625 \r\nQ 30.078125 56 35.796875 56 \r\nQ 45.21875 56 50.046875 50.171875 \r\nQ 54.890625 44.34375 54.890625 33.015625 \r\nz\r\n\" id=\"DejaVuSans-110\"/>\r\n      <path d=\"M 9.421875 54.6875 \r\nL 18.40625 54.6875 \r\nL 18.40625 0 \r\nL 9.421875 0 \r\nz\r\nM 9.421875 75.984375 \r\nL 18.40625 75.984375 \r\nL 18.40625 64.59375 \r\nL 9.421875 64.59375 \r\nz\r\n\" id=\"DejaVuSans-105\"/>\r\n      <path d=\"M 34.28125 27.484375 \r\nQ 23.390625 27.484375 19.1875 25 \r\nQ 14.984375 22.515625 14.984375 16.5 \r\nQ 14.984375 11.71875 18.140625 8.90625 \r\nQ 21.296875 6.109375 26.703125 6.109375 \r\nQ 34.1875 6.109375 38.703125 11.40625 \r\nQ 43.21875 16.703125 43.21875 25.484375 \r\nL 43.21875 27.484375 \r\nz\r\nM 52.203125 31.203125 \r\nL 52.203125 0 \r\nL 43.21875 0 \r\nL 43.21875 8.296875 \r\nQ 40.140625 3.328125 35.546875 0.953125 \r\nQ 30.953125 -1.421875 24.3125 -1.421875 \r\nQ 15.921875 -1.421875 10.953125 3.296875 \r\nQ 6 8.015625 6 15.921875 \r\nQ 6 25.140625 12.171875 29.828125 \r\nQ 18.359375 34.515625 30.609375 34.515625 \r\nL 43.21875 34.515625 \r\nL 43.21875 35.40625 \r\nQ 43.21875 41.609375 39.140625 45 \r\nQ 35.0625 48.390625 27.6875 48.390625 \r\nQ 23 48.390625 18.546875 47.265625 \r\nQ 14.109375 46.140625 10.015625 43.890625 \r\nL 10.015625 52.203125 \r\nQ 14.9375 54.109375 19.578125 55.046875 \r\nQ 24.21875 56 28.609375 56 \r\nQ 40.484375 56 46.34375 49.84375 \r\nQ 52.203125 43.703125 52.203125 31.203125 \r\nz\r\n\" id=\"DejaVuSans-97\"/>\r\n     </defs>\r\n     <g transform=\"translate(14.798438 188.874517)rotate(-90)scale(0.1 -0.1)\">\r\n      <use xlink:href=\"#DejaVuSans-37\"/>\r\n      <use x=\"95.019531\" xlink:href=\"#DejaVuSans-32\"/>\r\n      <use x=\"126.806641\" xlink:href=\"#DejaVuSans-100\"/>\r\n      <use x=\"190.283203\" xlink:href=\"#DejaVuSans-101\"/>\r\n      <use x=\"251.806641\" xlink:href=\"#DejaVuSans-32\"/>\r\n      <use x=\"283.59375\" xlink:href=\"#DejaVuSans-111\"/>\r\n      <use x=\"344.775391\" xlink:href=\"#DejaVuSans-99\"/>\r\n      <use x=\"399.755859\" xlink:href=\"#DejaVuSans-111\"/>\r\n      <use x=\"460.9375\" xlink:href=\"#DejaVuSans-114\"/>\r\n      <use x=\"500.300781\" xlink:href=\"#DejaVuSans-114\"/>\r\n      <use x=\"539.164062\" xlink:href=\"#DejaVuSans-101\"/>\r\n      <use x=\"600.6875\" xlink:href=\"#DejaVuSans-110\"/>\r\n      <use x=\"664.066406\" xlink:href=\"#DejaVuSans-99\"/>\r\n      <use x=\"719.046875\" xlink:href=\"#DejaVuSans-105\"/>\r\n      <use x=\"746.830078\" xlink:href=\"#DejaVuSans-97\"/>\r\n      <use x=\"808.109375\" xlink:href=\"#DejaVuSans-115\"/>\r\n     </g>\r\n    </g>\r\n   </g>\r\n   <g id=\"patch_13\">\r\n    <path d=\"M 50.14375 269.409034 \r\nL 50.14375 22.318125 \r\n\" style=\"fill:none;stroke:#000000;stroke-linecap:square;stroke-linejoin:miter;stroke-width:0.8;\"/>\r\n   </g>\r\n   <g id=\"patch_14\">\r\n    <path d=\"M 430.598295 269.409034 \r\nL 430.598295 22.318125 \r\n\" style=\"fill:none;stroke:#000000;stroke-linecap:square;stroke-linejoin:miter;stroke-width:0.8;\"/>\r\n   </g>\r\n   <g id=\"patch_15\">\r\n    <path d=\"M 50.14375 269.409034 \r\nL 430.598295 269.409034 \r\n\" style=\"fill:none;stroke:#000000;stroke-linecap:square;stroke-linejoin:miter;stroke-width:0.8;\"/>\r\n   </g>\r\n   <g id=\"patch_16\">\r\n    <path d=\"M 50.14375 22.318125 \r\nL 430.598295 22.318125 \r\n\" style=\"fill:none;stroke:#000000;stroke-linecap:square;stroke-linejoin:miter;stroke-width:0.8;\"/>\r\n   </g>\r\n   <g id=\"text_20\">\r\n    <!-- Acertos Relevantes -->\r\n    <defs>\r\n     <path d=\"M 44.390625 34.1875 \r\nQ 47.5625 33.109375 50.5625 29.59375 \r\nQ 53.5625 26.078125 56.59375 19.921875 \r\nL 66.609375 0 \r\nL 56 0 \r\nL 46.6875 18.703125 \r\nQ 43.0625 26.03125 39.671875 28.421875 \r\nQ 36.28125 30.8125 30.421875 30.8125 \r\nL 19.671875 30.8125 \r\nL 19.671875 0 \r\nL 9.8125 0 \r\nL 9.8125 72.90625 \r\nL 32.078125 72.90625 \r\nQ 44.578125 72.90625 50.734375 67.671875 \r\nQ 56.890625 62.453125 56.890625 51.90625 \r\nQ 56.890625 45.015625 53.6875 40.46875 \r\nQ 50.484375 35.9375 44.390625 34.1875 \r\nz\r\nM 19.671875 64.796875 \r\nL 19.671875 38.921875 \r\nL 32.078125 38.921875 \r\nQ 39.203125 38.921875 42.84375 42.21875 \r\nQ 46.484375 45.515625 46.484375 51.90625 \r\nQ 46.484375 58.296875 42.84375 61.546875 \r\nQ 39.203125 64.796875 32.078125 64.796875 \r\nz\r\n\" id=\"DejaVuSans-82\"/>\r\n     <path d=\"M 9.421875 75.984375 \r\nL 18.40625 75.984375 \r\nL 18.40625 0 \r\nL 9.421875 0 \r\nz\r\n\" id=\"DejaVuSans-108\"/>\r\n     <path d=\"M 2.984375 54.6875 \r\nL 12.5 54.6875 \r\nL 29.59375 8.796875 \r\nL 46.6875 54.6875 \r\nL 56.203125 54.6875 \r\nL 35.6875 0 \r\nL 23.484375 0 \r\nz\r\n\" id=\"DejaVuSans-118\"/>\r\n    </defs>\r\n    <g transform=\"translate(182.70821 16.318125)scale(0.12 -0.12)\">\r\n     <use xlink:href=\"#DejaVuSans-65\"/>\r\n     <use x=\"66.658203\" xlink:href=\"#DejaVuSans-99\"/>\r\n     <use x=\"121.638672\" xlink:href=\"#DejaVuSans-101\"/>\r\n     <use x=\"183.162109\" xlink:href=\"#DejaVuSans-114\"/>\r\n     <use x=\"224.275391\" xlink:href=\"#DejaVuSans-116\"/>\r\n     <use x=\"263.484375\" xlink:href=\"#DejaVuSans-111\"/>\r\n     <use x=\"324.666016\" xlink:href=\"#DejaVuSans-115\"/>\r\n     <use x=\"376.765625\" xlink:href=\"#DejaVuSans-32\"/>\r\n     <use x=\"408.552734\" xlink:href=\"#DejaVuSans-82\"/>\r\n     <use x=\"473.535156\" xlink:href=\"#DejaVuSans-101\"/>\r\n     <use x=\"535.058594\" xlink:href=\"#DejaVuSans-108\"/>\r\n     <use x=\"562.841797\" xlink:href=\"#DejaVuSans-101\"/>\r\n     <use x=\"624.365234\" xlink:href=\"#DejaVuSans-118\"/>\r\n     <use x=\"683.544922\" xlink:href=\"#DejaVuSans-97\"/>\r\n     <use x=\"744.824219\" xlink:href=\"#DejaVuSans-110\"/>\r\n     <use x=\"808.203125\" xlink:href=\"#DejaVuSans-116\"/>\r\n     <use x=\"847.412109\" xlink:href=\"#DejaVuSans-101\"/>\r\n     <use x=\"908.935547\" xlink:href=\"#DejaVuSans-115\"/>\r\n    </g>\r\n   </g>\r\n  </g>\r\n  <g id=\"axes_2\">\r\n   <g id=\"patch_17\">\r\n    <path d=\"M 506.689205 269.409034 \r\nL 887.14375 269.409034 \r\nL 887.14375 22.318125 \r\nL 506.689205 22.318125 \r\nz\r\n\" style=\"fill:#ffffff;\"/>\r\n   </g>\r\n   <g id=\"patch_18\">\r\n    <path clip-path=\"url(#p9e565206d0)\" d=\"M 523.982593 269.409034 \r\nL 558.56937 269.409034 \r\nL 558.56937 207.481488 \r\nL 523.982593 207.481488 \r\nz\r\n\" style=\"fill:#22bb22;stroke:#ffffff;stroke-linejoin:miter;\"/>\r\n   </g>\r\n   <g id=\"patch_19\">\r\n    <path clip-path=\"url(#p9e565206d0)\" d=\"M 558.56937 269.409034 \r\nL 593.156147 269.409034 \r\nL 593.156147 108.397414 \r\nL 558.56937 108.397414 \r\nz\r\n\" style=\"fill:#22bb22;stroke:#ffffff;stroke-linejoin:miter;\"/>\r\n   </g>\r\n   <g id=\"patch_20\">\r\n    <path clip-path=\"url(#p9e565206d0)\" d=\"M 593.156147 269.409034 \r\nL 627.742924 269.409034 \r\nL 627.742924 58.855377 \r\nL 593.156147 58.855377 \r\nz\r\n\" style=\"fill:#22bb22;stroke:#ffffff;stroke-linejoin:miter;\"/>\r\n   </g>\r\n   <g id=\"patch_21\">\r\n    <path clip-path=\"url(#p9e565206d0)\" d=\"M 627.742924 269.409034 \r\nL 662.3297 269.409034 \r\nL 662.3297 83.626396 \r\nL 627.742924 83.626396 \r\nz\r\n\" style=\"fill:#22bb22;stroke:#ffffff;stroke-linejoin:miter;\"/>\r\n   </g>\r\n   <g id=\"patch_22\">\r\n    <path clip-path=\"url(#p9e565206d0)\" d=\"M 662.3297 269.409034 \r\nL 696.916477 269.409034 \r\nL 696.916477 34.084359 \r\nL 662.3297 34.084359 \r\nz\r\n\" style=\"fill:#22bb22;stroke:#ffffff;stroke-linejoin:miter;\"/>\r\n   </g>\r\n   <g id=\"patch_23\">\r\n    <path clip-path=\"url(#p9e565206d0)\" d=\"M 696.916477 269.409034 \r\nL 731.503254 269.409034 \r\nL 731.503254 120.782923 \r\nL 696.916477 120.782923 \r\nz\r\n\" style=\"fill:#22bb22;stroke:#ffffff;stroke-linejoin:miter;\"/>\r\n   </g>\r\n   <g id=\"patch_24\">\r\n    <path clip-path=\"url(#p9e565206d0)\" d=\"M 731.503254 269.409034 \r\nL 766.090031 269.409034 \r\nL 766.090031 232.252506 \r\nL 731.503254 232.252506 \r\nz\r\n\" style=\"fill:#22bb22;stroke:#ffffff;stroke-linejoin:miter;\"/>\r\n   </g>\r\n   <g id=\"patch_25\">\r\n    <path clip-path=\"url(#p9e565206d0)\" d=\"M 766.090031 269.409034 \r\nL 800.676808 269.409034 \r\nL 800.676808 157.939451 \r\nL 766.090031 157.939451 \r\nz\r\n\" style=\"fill:#22bb22;stroke:#ffffff;stroke-linejoin:miter;\"/>\r\n   </g>\r\n   <g id=\"patch_26\">\r\n    <path clip-path=\"url(#p9e565206d0)\" d=\"M 800.676808 269.409034 \r\nL 835.263585 269.409034 \r\nL 835.263585 219.866997 \r\nL 800.676808 219.866997 \r\nz\r\n\" style=\"fill:#22bb22;stroke:#ffffff;stroke-linejoin:miter;\"/>\r\n   </g>\r\n   <g id=\"patch_27\">\r\n    <path clip-path=\"url(#p9e565206d0)\" d=\"M 835.263585 269.409034 \r\nL 869.850362 269.409034 \r\nL 869.850362 232.252506 \r\nL 835.263585 232.252506 \r\nz\r\n\" style=\"fill:#22bb22;stroke:#ffffff;stroke-linejoin:miter;\"/>\r\n   </g>\r\n   <g id=\"matplotlib.axis_3\">\r\n    <g id=\"xtick_9\">\r\n     <g id=\"line2d_27\">\r\n      <g>\r\n       <use style=\"stroke:#000000;stroke-width:0.8;\" x=\"523.982593\" xlink:href=\"#m80dcd4a4cc\" y=\"269.409034\"/>\r\n      </g>\r\n     </g>\r\n     <g id=\"text_21\">\r\n      <!-- 0.06 -->\r\n      <g transform=\"translate(512.84978 284.007472)scale(0.1 -0.1)\">\r\n       <use xlink:href=\"#DejaVuSans-48\"/>\r\n       <use x=\"63.623047\" xlink:href=\"#DejaVuSans-46\"/>\r\n       <use x=\"95.410156\" xlink:href=\"#DejaVuSans-48\"/>\r\n       <use x=\"159.033203\" xlink:href=\"#DejaVuSans-54\"/>\r\n      </g>\r\n     </g>\r\n    </g>\r\n    <g id=\"xtick_10\">\r\n     <g id=\"line2d_28\">\r\n      <g>\r\n       <use style=\"stroke:#000000;stroke-width:0.8;\" x=\"605.363244\" xlink:href=\"#m80dcd4a4cc\" y=\"269.409034\"/>\r\n      </g>\r\n     </g>\r\n     <g id=\"text_22\">\r\n      <!-- 0.08 -->\r\n      <g transform=\"translate(594.230432 284.007472)scale(0.1 -0.1)\">\r\n       <use xlink:href=\"#DejaVuSans-48\"/>\r\n       <use x=\"63.623047\" xlink:href=\"#DejaVuSans-46\"/>\r\n       <use x=\"95.410156\" xlink:href=\"#DejaVuSans-48\"/>\r\n       <use x=\"159.033203\" xlink:href=\"#DejaVuSans-56\"/>\r\n      </g>\r\n     </g>\r\n    </g>\r\n    <g id=\"xtick_11\">\r\n     <g id=\"line2d_29\">\r\n      <g>\r\n       <use style=\"stroke:#000000;stroke-width:0.8;\" x=\"686.743896\" xlink:href=\"#m80dcd4a4cc\" y=\"269.409034\"/>\r\n      </g>\r\n     </g>\r\n     <g id=\"text_23\">\r\n      <!-- 0.10 -->\r\n      <g transform=\"translate(675.611083 284.007472)scale(0.1 -0.1)\">\r\n       <use xlink:href=\"#DejaVuSans-48\"/>\r\n       <use x=\"63.623047\" xlink:href=\"#DejaVuSans-46\"/>\r\n       <use x=\"95.410156\" xlink:href=\"#DejaVuSans-49\"/>\r\n       <use x=\"159.033203\" xlink:href=\"#DejaVuSans-48\"/>\r\n      </g>\r\n     </g>\r\n    </g>\r\n    <g id=\"xtick_12\">\r\n     <g id=\"line2d_30\">\r\n      <g>\r\n       <use style=\"stroke:#000000;stroke-width:0.8;\" x=\"768.124547\" xlink:href=\"#m80dcd4a4cc\" y=\"269.409034\"/>\r\n      </g>\r\n     </g>\r\n     <g id=\"text_24\">\r\n      <!-- 0.12 -->\r\n      <g transform=\"translate(756.991735 284.007472)scale(0.1 -0.1)\">\r\n       <use xlink:href=\"#DejaVuSans-48\"/>\r\n       <use x=\"63.623047\" xlink:href=\"#DejaVuSans-46\"/>\r\n       <use x=\"95.410156\" xlink:href=\"#DejaVuSans-49\"/>\r\n       <use x=\"159.033203\" xlink:href=\"#DejaVuSans-50\"/>\r\n      </g>\r\n     </g>\r\n    </g>\r\n    <g id=\"xtick_13\">\r\n     <g id=\"line2d_31\">\r\n      <g>\r\n       <use style=\"stroke:#000000;stroke-width:0.8;\" x=\"849.505199\" xlink:href=\"#m80dcd4a4cc\" y=\"269.409034\"/>\r\n      </g>\r\n     </g>\r\n     <g id=\"text_25\">\r\n      <!-- 0.14 -->\r\n      <g transform=\"translate(838.372386 284.007472)scale(0.1 -0.1)\">\r\n       <use xlink:href=\"#DejaVuSans-48\"/>\r\n       <use x=\"63.623047\" xlink:href=\"#DejaVuSans-46\"/>\r\n       <use x=\"95.410156\" xlink:href=\"#DejaVuSans-49\"/>\r\n       <use x=\"159.033203\" xlink:href=\"#DejaVuSans-52\"/>\r\n      </g>\r\n     </g>\r\n    </g>\r\n    <g id=\"text_26\">\r\n     <!-- % de Acertos -->\r\n     <g transform=\"translate(663.898509 297.685597)scale(0.1 -0.1)\">\r\n      <use xlink:href=\"#DejaVuSans-37\"/>\r\n      <use x=\"95.019531\" xlink:href=\"#DejaVuSans-32\"/>\r\n      <use x=\"126.806641\" xlink:href=\"#DejaVuSans-100\"/>\r\n      <use x=\"190.283203\" xlink:href=\"#DejaVuSans-101\"/>\r\n      <use x=\"251.806641\" xlink:href=\"#DejaVuSans-32\"/>\r\n      <use x=\"283.59375\" xlink:href=\"#DejaVuSans-65\"/>\r\n      <use x=\"350.251953\" xlink:href=\"#DejaVuSans-99\"/>\r\n      <use x=\"405.232422\" xlink:href=\"#DejaVuSans-101\"/>\r\n      <use x=\"466.755859\" xlink:href=\"#DejaVuSans-114\"/>\r\n      <use x=\"507.869141\" xlink:href=\"#DejaVuSans-116\"/>\r\n      <use x=\"547.078125\" xlink:href=\"#DejaVuSans-111\"/>\r\n      <use x=\"608.259766\" xlink:href=\"#DejaVuSans-115\"/>\r\n     </g>\r\n    </g>\r\n   </g>\r\n   <g id=\"matplotlib.axis_4\">\r\n    <g id=\"ytick_10\">\r\n     <g id=\"line2d_32\">\r\n      <path clip-path=\"url(#p9e565206d0)\" d=\"M 506.689205 269.409034 \r\nL 887.14375 269.409034 \r\n\" style=\"fill:none;stroke:#b0b0b0;stroke-linecap:square;stroke-width:0.8;\"/>\r\n     </g>\r\n     <g id=\"line2d_33\">\r\n      <g>\r\n       <use style=\"stroke:#000000;stroke-width:0.8;\" x=\"506.689205\" xlink:href=\"#m756d668c0b\" y=\"269.409034\"/>\r\n      </g>\r\n     </g>\r\n     <g id=\"text_27\">\r\n      <!-- 0 -->\r\n      <g transform=\"translate(493.326705 273.208253)scale(0.1 -0.1)\">\r\n       <use xlink:href=\"#DejaVuSans-48\"/>\r\n      </g>\r\n     </g>\r\n    </g>\r\n    <g id=\"ytick_11\">\r\n     <g id=\"line2d_34\">\r\n      <path clip-path=\"url(#p9e565206d0)\" d=\"M 506.689205 216.77062 \r\nL 887.14375 216.77062 \r\n\" style=\"fill:none;stroke:#b0b0b0;stroke-linecap:square;stroke-width:0.8;\"/>\r\n     </g>\r\n     <g id=\"line2d_35\">\r\n      <g>\r\n       <use style=\"stroke:#000000;stroke-width:0.8;\" x=\"506.689205\" xlink:href=\"#m756d668c0b\" y=\"216.77062\"/>\r\n      </g>\r\n     </g>\r\n     <g id=\"text_28\">\r\n      <!-- 5 -->\r\n      <g transform=\"translate(493.326705 220.569839)scale(0.1 -0.1)\">\r\n       <use xlink:href=\"#DejaVuSans-53\"/>\r\n      </g>\r\n     </g>\r\n    </g>\r\n    <g id=\"ytick_12\">\r\n     <g id=\"line2d_36\">\r\n      <path clip-path=\"url(#p9e565206d0)\" d=\"M 506.689205 164.132206 \r\nL 887.14375 164.132206 \r\n\" style=\"fill:none;stroke:#b0b0b0;stroke-linecap:square;stroke-width:0.8;\"/>\r\n     </g>\r\n     <g id=\"line2d_37\">\r\n      <g>\r\n       <use style=\"stroke:#000000;stroke-width:0.8;\" x=\"506.689205\" xlink:href=\"#m756d668c0b\" y=\"164.132206\"/>\r\n      </g>\r\n     </g>\r\n     <g id=\"text_29\">\r\n      <!-- 10 -->\r\n      <g transform=\"translate(486.964205 167.931424)scale(0.1 -0.1)\">\r\n       <use xlink:href=\"#DejaVuSans-49\"/>\r\n       <use x=\"63.623047\" xlink:href=\"#DejaVuSans-48\"/>\r\n      </g>\r\n     </g>\r\n    </g>\r\n    <g id=\"ytick_13\">\r\n     <g id=\"line2d_38\">\r\n      <path clip-path=\"url(#p9e565206d0)\" d=\"M 506.689205 111.493791 \r\nL 887.14375 111.493791 \r\n\" style=\"fill:none;stroke:#b0b0b0;stroke-linecap:square;stroke-width:0.8;\"/>\r\n     </g>\r\n     <g id=\"line2d_39\">\r\n      <g>\r\n       <use style=\"stroke:#000000;stroke-width:0.8;\" x=\"506.689205\" xlink:href=\"#m756d668c0b\" y=\"111.493791\"/>\r\n      </g>\r\n     </g>\r\n     <g id=\"text_30\">\r\n      <!-- 15 -->\r\n      <g transform=\"translate(486.964205 115.29301)scale(0.1 -0.1)\">\r\n       <use xlink:href=\"#DejaVuSans-49\"/>\r\n       <use x=\"63.623047\" xlink:href=\"#DejaVuSans-53\"/>\r\n      </g>\r\n     </g>\r\n    </g>\r\n    <g id=\"ytick_14\">\r\n     <g id=\"line2d_40\">\r\n      <path clip-path=\"url(#p9e565206d0)\" d=\"M 506.689205 58.855377 \r\nL 887.14375 58.855377 \r\n\" style=\"fill:none;stroke:#b0b0b0;stroke-linecap:square;stroke-width:0.8;\"/>\r\n     </g>\r\n     <g id=\"line2d_41\">\r\n      <g>\r\n       <use style=\"stroke:#000000;stroke-width:0.8;\" x=\"506.689205\" xlink:href=\"#m756d668c0b\" y=\"58.855377\"/>\r\n      </g>\r\n     </g>\r\n     <g id=\"text_31\">\r\n      <!-- 20 -->\r\n      <g transform=\"translate(486.964205 62.654596)scale(0.1 -0.1)\">\r\n       <use xlink:href=\"#DejaVuSans-50\"/>\r\n       <use x=\"63.623047\" xlink:href=\"#DejaVuSans-48\"/>\r\n      </g>\r\n     </g>\r\n    </g>\r\n    <g id=\"text_32\">\r\n     <!-- % de ocorrencias -->\r\n     <g transform=\"translate(480.884517 188.874517)rotate(-90)scale(0.1 -0.1)\">\r\n      <use xlink:href=\"#DejaVuSans-37\"/>\r\n      <use x=\"95.019531\" xlink:href=\"#DejaVuSans-32\"/>\r\n      <use x=\"126.806641\" xlink:href=\"#DejaVuSans-100\"/>\r\n      <use x=\"190.283203\" xlink:href=\"#DejaVuSans-101\"/>\r\n      <use x=\"251.806641\" xlink:href=\"#DejaVuSans-32\"/>\r\n      <use x=\"283.59375\" xlink:href=\"#DejaVuSans-111\"/>\r\n      <use x=\"344.775391\" xlink:href=\"#DejaVuSans-99\"/>\r\n      <use x=\"399.755859\" xlink:href=\"#DejaVuSans-111\"/>\r\n      <use x=\"460.9375\" xlink:href=\"#DejaVuSans-114\"/>\r\n      <use x=\"500.300781\" xlink:href=\"#DejaVuSans-114\"/>\r\n      <use x=\"539.164062\" xlink:href=\"#DejaVuSans-101\"/>\r\n      <use x=\"600.6875\" xlink:href=\"#DejaVuSans-110\"/>\r\n      <use x=\"664.066406\" xlink:href=\"#DejaVuSans-99\"/>\r\n      <use x=\"719.046875\" xlink:href=\"#DejaVuSans-105\"/>\r\n      <use x=\"746.830078\" xlink:href=\"#DejaVuSans-97\"/>\r\n      <use x=\"808.109375\" xlink:href=\"#DejaVuSans-115\"/>\r\n     </g>\r\n    </g>\r\n   </g>\r\n   <g id=\"patch_28\">\r\n    <path d=\"M 506.689205 269.409034 \r\nL 506.689205 22.318125 \r\n\" style=\"fill:none;stroke:#000000;stroke-linecap:square;stroke-linejoin:miter;stroke-width:0.8;\"/>\r\n   </g>\r\n   <g id=\"patch_29\">\r\n    <path d=\"M 887.14375 269.409034 \r\nL 887.14375 22.318125 \r\n\" style=\"fill:none;stroke:#000000;stroke-linecap:square;stroke-linejoin:miter;stroke-width:0.8;\"/>\r\n   </g>\r\n   <g id=\"patch_30\">\r\n    <path d=\"M 506.689205 269.409034 \r\nL 887.14375 269.409034 \r\n\" style=\"fill:none;stroke:#000000;stroke-linecap:square;stroke-linejoin:miter;stroke-width:0.8;\"/>\r\n   </g>\r\n   <g id=\"patch_31\">\r\n    <path d=\"M 506.689205 22.318125 \r\nL 887.14375 22.318125 \r\n\" style=\"fill:none;stroke:#000000;stroke-linecap:square;stroke-linejoin:miter;stroke-width:0.8;\"/>\r\n   </g>\r\n   <g id=\"text_33\">\r\n    <!-- Acertos Irrelevantes -->\r\n    <defs>\r\n     <path d=\"M 9.8125 72.90625 \r\nL 19.671875 72.90625 \r\nL 19.671875 0 \r\nL 9.8125 0 \r\nz\r\n\" id=\"DejaVuSans-73\"/>\r\n    </defs>\r\n    <g transform=\"translate(636.689602 16.318125)scale(0.12 -0.12)\">\r\n     <use xlink:href=\"#DejaVuSans-65\"/>\r\n     <use x=\"66.658203\" xlink:href=\"#DejaVuSans-99\"/>\r\n     <use x=\"121.638672\" xlink:href=\"#DejaVuSans-101\"/>\r\n     <use x=\"183.162109\" xlink:href=\"#DejaVuSans-114\"/>\r\n     <use x=\"224.275391\" xlink:href=\"#DejaVuSans-116\"/>\r\n     <use x=\"263.484375\" xlink:href=\"#DejaVuSans-111\"/>\r\n     <use x=\"324.666016\" xlink:href=\"#DejaVuSans-115\"/>\r\n     <use x=\"376.765625\" xlink:href=\"#DejaVuSans-32\"/>\r\n     <use x=\"408.552734\" xlink:href=\"#DejaVuSans-73\"/>\r\n     <use x=\"438.044922\" xlink:href=\"#DejaVuSans-114\"/>\r\n     <use x=\"477.408203\" xlink:href=\"#DejaVuSans-114\"/>\r\n     <use x=\"516.271484\" xlink:href=\"#DejaVuSans-101\"/>\r\n     <use x=\"577.794922\" xlink:href=\"#DejaVuSans-108\"/>\r\n     <use x=\"605.578125\" xlink:href=\"#DejaVuSans-101\"/>\r\n     <use x=\"667.101562\" xlink:href=\"#DejaVuSans-118\"/>\r\n     <use x=\"726.28125\" xlink:href=\"#DejaVuSans-97\"/>\r\n     <use x=\"787.560547\" xlink:href=\"#DejaVuSans-110\"/>\r\n     <use x=\"850.939453\" xlink:href=\"#DejaVuSans-116\"/>\r\n     <use x=\"890.148438\" xlink:href=\"#DejaVuSans-101\"/>\r\n     <use x=\"951.671875\" xlink:href=\"#DejaVuSans-115\"/>\r\n    </g>\r\n   </g>\r\n  </g>\r\n  <g id=\"axes_3\">\r\n   <g id=\"patch_32\">\r\n    <path d=\"M 50.14375 565.918125 \r\nL 430.598295 565.918125 \r\nL 430.598295 318.827216 \r\nL 50.14375 318.827216 \r\nz\r\n\" style=\"fill:#ffffff;\"/>\r\n   </g>\r\n   <g id=\"patch_33\">\r\n    <path clip-path=\"url(#p6fe61df6ba)\" d=\"M 67.437138 565.918125 \r\nL 102.023915 565.918125 \r\nL 102.023915 548.486668 \r\nL 67.437138 548.486668 \r\nz\r\n\" style=\"fill:#ff2222;stroke:#ffffff;stroke-linejoin:miter;\"/>\r\n   </g>\r\n   <g id=\"patch_34\">\r\n    <path clip-path=\"url(#p6fe61df6ba)\" d=\"M 102.023915 565.918125 \r\nL 136.610692 565.918125 \r\nL 136.610692 478.760838 \r\nL 102.023915 478.760838 \r\nz\r\n\" style=\"fill:#ff2222;stroke:#ffffff;stroke-linejoin:miter;\"/>\r\n   </g>\r\n   <g id=\"patch_35\">\r\n    <path clip-path=\"url(#p6fe61df6ba)\" d=\"M 136.610692 565.918125 \r\nL 171.197469 565.918125 \r\nL 171.197469 435.182194 \r\nL 136.610692 435.182194 \r\nz\r\n\" style=\"fill:#ff2222;stroke:#ffffff;stroke-linejoin:miter;\"/>\r\n   </g>\r\n   <g id=\"patch_36\">\r\n    <path clip-path=\"url(#p6fe61df6ba)\" d=\"M 171.197469 565.918125 \r\nL 205.784246 565.918125 \r\nL 205.784246 330.59345 \r\nL 171.197469 330.59345 \r\nz\r\n\" style=\"fill:#ff2222;stroke:#ffffff;stroke-linejoin:miter;\"/>\r\n   </g>\r\n   <g id=\"patch_37\">\r\n    <path clip-path=\"url(#p6fe61df6ba)\" d=\"M 205.784246 565.918125 \r\nL 240.371023 565.918125 \r\nL 240.371023 409.035008 \r\nL 205.784246 409.035008 \r\nz\r\n\" style=\"fill:#ff2222;stroke:#ffffff;stroke-linejoin:miter;\"/>\r\n   </g>\r\n   <g id=\"patch_38\">\r\n    <path clip-path=\"url(#p6fe61df6ba)\" d=\"M 240.371023 565.918125 \r\nL 274.9578 565.918125 \r\nL 274.9578 461.32938 \r\nL 240.371023 461.32938 \r\nz\r\n\" style=\"fill:#ff2222;stroke:#ffffff;stroke-linejoin:miter;\"/>\r\n   </g>\r\n   <g id=\"patch_39\">\r\n    <path clip-path=\"url(#p6fe61df6ba)\" d=\"M 274.9578 565.918125 \r\nL 309.544576 565.918125 \r\nL 309.544576 496.192295 \r\nL 274.9578 496.192295 \r\nz\r\n\" style=\"fill:#ff2222;stroke:#ffffff;stroke-linejoin:miter;\"/>\r\n   </g>\r\n   <g id=\"patch_40\">\r\n    <path clip-path=\"url(#p6fe61df6ba)\" d=\"M 309.544576 565.918125 \r\nL 344.131353 565.918125 \r\nL 344.131353 522.339481 \r\nL 309.544576 522.339481 \r\nz\r\n\" style=\"fill:#ff2222;stroke:#ffffff;stroke-linejoin:miter;\"/>\r\n   </g>\r\n   <g id=\"patch_41\">\r\n    <path clip-path=\"url(#p6fe61df6ba)\" d=\"M 344.131353 565.918125 \r\nL 378.71813 565.918125 \r\nL 378.71813 548.486668 \r\nL 344.131353 548.486668 \r\nz\r\n\" style=\"fill:#ff2222;stroke:#ffffff;stroke-linejoin:miter;\"/>\r\n   </g>\r\n   <g id=\"patch_42\">\r\n    <path clip-path=\"url(#p6fe61df6ba)\" d=\"M 378.71813 565.918125 \r\nL 413.304907 565.918125 \r\nL 413.304907 557.202396 \r\nL 378.71813 557.202396 \r\nz\r\n\" style=\"fill:#ff2222;stroke:#ffffff;stroke-linejoin:miter;\"/>\r\n   </g>\r\n   <g id=\"matplotlib.axis_5\">\r\n    <g id=\"xtick_14\">\r\n     <g id=\"line2d_42\">\r\n      <g>\r\n       <use style=\"stroke:#000000;stroke-width:0.8;\" x=\"55.084718\" xlink:href=\"#m80dcd4a4cc\" y=\"565.918125\"/>\r\n      </g>\r\n     </g>\r\n     <g id=\"text_34\">\r\n      <!-- 0.38 -->\r\n      <g transform=\"translate(43.951906 580.516562)scale(0.1 -0.1)\">\r\n       <use xlink:href=\"#DejaVuSans-48\"/>\r\n       <use x=\"63.623047\" xlink:href=\"#DejaVuSans-46\"/>\r\n       <use x=\"95.410156\" xlink:href=\"#DejaVuSans-51\"/>\r\n       <use x=\"159.033203\" xlink:href=\"#DejaVuSans-56\"/>\r\n      </g>\r\n     </g>\r\n    </g>\r\n    <g id=\"xtick_15\">\r\n     <g id=\"line2d_43\">\r\n      <g>\r\n       <use style=\"stroke:#000000;stroke-width:0.8;\" x=\"104.494399\" xlink:href=\"#m80dcd4a4cc\" y=\"565.918125\"/>\r\n      </g>\r\n     </g>\r\n     <g id=\"text_35\">\r\n      <!-- 0.40 -->\r\n      <g transform=\"translate(93.361587 580.516562)scale(0.1 -0.1)\">\r\n       <use xlink:href=\"#DejaVuSans-48\"/>\r\n       <use x=\"63.623047\" xlink:href=\"#DejaVuSans-46\"/>\r\n       <use x=\"95.410156\" xlink:href=\"#DejaVuSans-52\"/>\r\n       <use x=\"159.033203\" xlink:href=\"#DejaVuSans-48\"/>\r\n      </g>\r\n     </g>\r\n    </g>\r\n    <g id=\"xtick_16\">\r\n     <g id=\"line2d_44\">\r\n      <g>\r\n       <use style=\"stroke:#000000;stroke-width:0.8;\" x=\"153.904081\" xlink:href=\"#m80dcd4a4cc\" y=\"565.918125\"/>\r\n      </g>\r\n     </g>\r\n     <g id=\"text_36\">\r\n      <!-- 0.42 -->\r\n      <g transform=\"translate(142.771268 580.516562)scale(0.1 -0.1)\">\r\n       <use xlink:href=\"#DejaVuSans-48\"/>\r\n       <use x=\"63.623047\" xlink:href=\"#DejaVuSans-46\"/>\r\n       <use x=\"95.410156\" xlink:href=\"#DejaVuSans-52\"/>\r\n       <use x=\"159.033203\" xlink:href=\"#DejaVuSans-50\"/>\r\n      </g>\r\n     </g>\r\n    </g>\r\n    <g id=\"xtick_17\">\r\n     <g id=\"line2d_45\">\r\n      <g>\r\n       <use style=\"stroke:#000000;stroke-width:0.8;\" x=\"203.313762\" xlink:href=\"#m80dcd4a4cc\" y=\"565.918125\"/>\r\n      </g>\r\n     </g>\r\n     <g id=\"text_37\">\r\n      <!-- 0.44 -->\r\n      <g transform=\"translate(192.180949 580.516562)scale(0.1 -0.1)\">\r\n       <use xlink:href=\"#DejaVuSans-48\"/>\r\n       <use x=\"63.623047\" xlink:href=\"#DejaVuSans-46\"/>\r\n       <use x=\"95.410156\" xlink:href=\"#DejaVuSans-52\"/>\r\n       <use x=\"159.033203\" xlink:href=\"#DejaVuSans-52\"/>\r\n      </g>\r\n     </g>\r\n    </g>\r\n    <g id=\"xtick_18\">\r\n     <g id=\"line2d_46\">\r\n      <g>\r\n       <use style=\"stroke:#000000;stroke-width:0.8;\" x=\"252.723443\" xlink:href=\"#m80dcd4a4cc\" y=\"565.918125\"/>\r\n      </g>\r\n     </g>\r\n     <g id=\"text_38\">\r\n      <!-- 0.46 -->\r\n      <g transform=\"translate(241.590631 580.516562)scale(0.1 -0.1)\">\r\n       <use xlink:href=\"#DejaVuSans-48\"/>\r\n       <use x=\"63.623047\" xlink:href=\"#DejaVuSans-46\"/>\r\n       <use x=\"95.410156\" xlink:href=\"#DejaVuSans-52\"/>\r\n       <use x=\"159.033203\" xlink:href=\"#DejaVuSans-54\"/>\r\n      </g>\r\n     </g>\r\n    </g>\r\n    <g id=\"xtick_19\">\r\n     <g id=\"line2d_47\">\r\n      <g>\r\n       <use style=\"stroke:#000000;stroke-width:0.8;\" x=\"302.133124\" xlink:href=\"#m80dcd4a4cc\" y=\"565.918125\"/>\r\n      </g>\r\n     </g>\r\n     <g id=\"text_39\">\r\n      <!-- 0.48 -->\r\n      <g transform=\"translate(291.000312 580.516562)scale(0.1 -0.1)\">\r\n       <use xlink:href=\"#DejaVuSans-48\"/>\r\n       <use x=\"63.623047\" xlink:href=\"#DejaVuSans-46\"/>\r\n       <use x=\"95.410156\" xlink:href=\"#DejaVuSans-52\"/>\r\n       <use x=\"159.033203\" xlink:href=\"#DejaVuSans-56\"/>\r\n      </g>\r\n     </g>\r\n    </g>\r\n    <g id=\"xtick_20\">\r\n     <g id=\"line2d_48\">\r\n      <g>\r\n       <use style=\"stroke:#000000;stroke-width:0.8;\" x=\"351.542805\" xlink:href=\"#m80dcd4a4cc\" y=\"565.918125\"/>\r\n      </g>\r\n     </g>\r\n     <g id=\"text_40\">\r\n      <!-- 0.50 -->\r\n      <g transform=\"translate(340.409993 580.516562)scale(0.1 -0.1)\">\r\n       <use xlink:href=\"#DejaVuSans-48\"/>\r\n       <use x=\"63.623047\" xlink:href=\"#DejaVuSans-46\"/>\r\n       <use x=\"95.410156\" xlink:href=\"#DejaVuSans-53\"/>\r\n       <use x=\"159.033203\" xlink:href=\"#DejaVuSans-48\"/>\r\n      </g>\r\n     </g>\r\n    </g>\r\n    <g id=\"xtick_21\">\r\n     <g id=\"line2d_49\">\r\n      <g>\r\n       <use style=\"stroke:#000000;stroke-width:0.8;\" x=\"400.952487\" xlink:href=\"#m80dcd4a4cc\" y=\"565.918125\"/>\r\n      </g>\r\n     </g>\r\n     <g id=\"text_41\">\r\n      <!-- 0.52 -->\r\n      <g transform=\"translate(389.819674 580.516562)scale(0.1 -0.1)\">\r\n       <use xlink:href=\"#DejaVuSans-48\"/>\r\n       <use x=\"63.623047\" xlink:href=\"#DejaVuSans-46\"/>\r\n       <use x=\"95.410156\" xlink:href=\"#DejaVuSans-53\"/>\r\n       <use x=\"159.033203\" xlink:href=\"#DejaVuSans-50\"/>\r\n      </g>\r\n     </g>\r\n    </g>\r\n    <g id=\"text_42\">\r\n     <!-- % de Erros -->\r\n     <defs>\r\n      <path d=\"M 9.8125 72.90625 \r\nL 55.90625 72.90625 \r\nL 55.90625 64.59375 \r\nL 19.671875 64.59375 \r\nL 19.671875 43.015625 \r\nL 54.390625 43.015625 \r\nL 54.390625 34.71875 \r\nL 19.671875 34.71875 \r\nL 19.671875 8.296875 \r\nL 56.78125 8.296875 \r\nL 56.78125 0 \r\nL 9.8125 0 \r\nz\r\n\" id=\"DejaVuSans-69\"/>\r\n     </defs>\r\n     <g transform=\"translate(213.45696 594.194687)scale(0.1 -0.1)\">\r\n      <use xlink:href=\"#DejaVuSans-37\"/>\r\n      <use x=\"95.019531\" xlink:href=\"#DejaVuSans-32\"/>\r\n      <use x=\"126.806641\" xlink:href=\"#DejaVuSans-100\"/>\r\n      <use x=\"190.283203\" xlink:href=\"#DejaVuSans-101\"/>\r\n      <use x=\"251.806641\" xlink:href=\"#DejaVuSans-32\"/>\r\n      <use x=\"283.59375\" xlink:href=\"#DejaVuSans-69\"/>\r\n      <use x=\"346.777344\" xlink:href=\"#DejaVuSans-114\"/>\r\n      <use x=\"386.140625\" xlink:href=\"#DejaVuSans-114\"/>\r\n      <use x=\"425.003906\" xlink:href=\"#DejaVuSans-111\"/>\r\n      <use x=\"486.185547\" xlink:href=\"#DejaVuSans-115\"/>\r\n     </g>\r\n    </g>\r\n   </g>\r\n   <g id=\"matplotlib.axis_6\">\r\n    <g id=\"ytick_15\">\r\n     <g id=\"line2d_50\">\r\n      <path clip-path=\"url(#p6fe61df6ba)\" d=\"M 50.14375 565.918125 \r\nL 430.598295 565.918125 \r\n\" style=\"fill:none;stroke:#b0b0b0;stroke-linecap:square;stroke-width:0.8;\"/>\r\n     </g>\r\n     <g id=\"line2d_51\">\r\n      <g>\r\n       <use style=\"stroke:#000000;stroke-width:0.8;\" x=\"50.14375\" xlink:href=\"#m756d668c0b\" y=\"565.918125\"/>\r\n      </g>\r\n     </g>\r\n     <g id=\"text_43\">\r\n      <!-- 0.0 -->\r\n      <g transform=\"translate(27.240625 569.717344)scale(0.1 -0.1)\">\r\n       <use xlink:href=\"#DejaVuSans-48\"/>\r\n       <use x=\"63.623047\" xlink:href=\"#DejaVuSans-46\"/>\r\n       <use x=\"95.410156\" xlink:href=\"#DejaVuSans-48\"/>\r\n      </g>\r\n     </g>\r\n    </g>\r\n    <g id=\"ytick_16\">\r\n     <g id=\"line2d_52\">\r\n      <path clip-path=\"url(#p6fe61df6ba)\" d=\"M 50.14375 535.413074 \r\nL 430.598295 535.413074 \r\n\" style=\"fill:none;stroke:#b0b0b0;stroke-linecap:square;stroke-width:0.8;\"/>\r\n     </g>\r\n     <g id=\"line2d_53\">\r\n      <g>\r\n       <use style=\"stroke:#000000;stroke-width:0.8;\" x=\"50.14375\" xlink:href=\"#m756d668c0b\" y=\"535.413074\"/>\r\n      </g>\r\n     </g>\r\n     <g id=\"text_44\">\r\n      <!-- 2.5 -->\r\n      <g transform=\"translate(27.240625 539.212293)scale(0.1 -0.1)\">\r\n       <use xlink:href=\"#DejaVuSans-50\"/>\r\n       <use x=\"63.623047\" xlink:href=\"#DejaVuSans-46\"/>\r\n       <use x=\"95.410156\" xlink:href=\"#DejaVuSans-53\"/>\r\n      </g>\r\n     </g>\r\n    </g>\r\n    <g id=\"ytick_17\">\r\n     <g id=\"line2d_54\">\r\n      <path clip-path=\"url(#p6fe61df6ba)\" d=\"M 50.14375 504.908024 \r\nL 430.598295 504.908024 \r\n\" style=\"fill:none;stroke:#b0b0b0;stroke-linecap:square;stroke-width:0.8;\"/>\r\n     </g>\r\n     <g id=\"line2d_55\">\r\n      <g>\r\n       <use style=\"stroke:#000000;stroke-width:0.8;\" x=\"50.14375\" xlink:href=\"#m756d668c0b\" y=\"504.908024\"/>\r\n      </g>\r\n     </g>\r\n     <g id=\"text_45\">\r\n      <!-- 5.0 -->\r\n      <g transform=\"translate(27.240625 508.707243)scale(0.1 -0.1)\">\r\n       <use xlink:href=\"#DejaVuSans-53\"/>\r\n       <use x=\"63.623047\" xlink:href=\"#DejaVuSans-46\"/>\r\n       <use x=\"95.410156\" xlink:href=\"#DejaVuSans-48\"/>\r\n      </g>\r\n     </g>\r\n    </g>\r\n    <g id=\"ytick_18\">\r\n     <g id=\"line2d_56\">\r\n      <path clip-path=\"url(#p6fe61df6ba)\" d=\"M 50.14375 474.402973 \r\nL 430.598295 474.402973 \r\n\" style=\"fill:none;stroke:#b0b0b0;stroke-linecap:square;stroke-width:0.8;\"/>\r\n     </g>\r\n     <g id=\"line2d_57\">\r\n      <g>\r\n       <use style=\"stroke:#000000;stroke-width:0.8;\" x=\"50.14375\" xlink:href=\"#m756d668c0b\" y=\"474.402973\"/>\r\n      </g>\r\n     </g>\r\n     <g id=\"text_46\">\r\n      <!-- 7.5 -->\r\n      <g transform=\"translate(27.240625 478.202192)scale(0.1 -0.1)\">\r\n       <use xlink:href=\"#DejaVuSans-55\"/>\r\n       <use x=\"63.623047\" xlink:href=\"#DejaVuSans-46\"/>\r\n       <use x=\"95.410156\" xlink:href=\"#DejaVuSans-53\"/>\r\n      </g>\r\n     </g>\r\n    </g>\r\n    <g id=\"ytick_19\">\r\n     <g id=\"line2d_58\">\r\n      <path clip-path=\"url(#p6fe61df6ba)\" d=\"M 50.14375 443.897923 \r\nL 430.598295 443.897923 \r\n\" style=\"fill:none;stroke:#b0b0b0;stroke-linecap:square;stroke-width:0.8;\"/>\r\n     </g>\r\n     <g id=\"line2d_59\">\r\n      <g>\r\n       <use style=\"stroke:#000000;stroke-width:0.8;\" x=\"50.14375\" xlink:href=\"#m756d668c0b\" y=\"443.897923\"/>\r\n      </g>\r\n     </g>\r\n     <g id=\"text_47\">\r\n      <!-- 10.0 -->\r\n      <g transform=\"translate(20.878125 447.697142)scale(0.1 -0.1)\">\r\n       <use xlink:href=\"#DejaVuSans-49\"/>\r\n       <use x=\"63.623047\" xlink:href=\"#DejaVuSans-48\"/>\r\n       <use x=\"127.246094\" xlink:href=\"#DejaVuSans-46\"/>\r\n       <use x=\"159.033203\" xlink:href=\"#DejaVuSans-48\"/>\r\n      </g>\r\n     </g>\r\n    </g>\r\n    <g id=\"ytick_20\">\r\n     <g id=\"line2d_60\">\r\n      <path clip-path=\"url(#p6fe61df6ba)\" d=\"M 50.14375 413.392872 \r\nL 430.598295 413.392872 \r\n\" style=\"fill:none;stroke:#b0b0b0;stroke-linecap:square;stroke-width:0.8;\"/>\r\n     </g>\r\n     <g id=\"line2d_61\">\r\n      <g>\r\n       <use style=\"stroke:#000000;stroke-width:0.8;\" x=\"50.14375\" xlink:href=\"#m756d668c0b\" y=\"413.392872\"/>\r\n      </g>\r\n     </g>\r\n     <g id=\"text_48\">\r\n      <!-- 12.5 -->\r\n      <g transform=\"translate(20.878125 417.192091)scale(0.1 -0.1)\">\r\n       <use xlink:href=\"#DejaVuSans-49\"/>\r\n       <use x=\"63.623047\" xlink:href=\"#DejaVuSans-50\"/>\r\n       <use x=\"127.246094\" xlink:href=\"#DejaVuSans-46\"/>\r\n       <use x=\"159.033203\" xlink:href=\"#DejaVuSans-53\"/>\r\n      </g>\r\n     </g>\r\n    </g>\r\n    <g id=\"ytick_21\">\r\n     <g id=\"line2d_62\">\r\n      <path clip-path=\"url(#p6fe61df6ba)\" d=\"M 50.14375 382.887822 \r\nL 430.598295 382.887822 \r\n\" style=\"fill:none;stroke:#b0b0b0;stroke-linecap:square;stroke-width:0.8;\"/>\r\n     </g>\r\n     <g id=\"line2d_63\">\r\n      <g>\r\n       <use style=\"stroke:#000000;stroke-width:0.8;\" x=\"50.14375\" xlink:href=\"#m756d668c0b\" y=\"382.887822\"/>\r\n      </g>\r\n     </g>\r\n     <g id=\"text_49\">\r\n      <!-- 15.0 -->\r\n      <g transform=\"translate(20.878125 386.687041)scale(0.1 -0.1)\">\r\n       <use xlink:href=\"#DejaVuSans-49\"/>\r\n       <use x=\"63.623047\" xlink:href=\"#DejaVuSans-53\"/>\r\n       <use x=\"127.246094\" xlink:href=\"#DejaVuSans-46\"/>\r\n       <use x=\"159.033203\" xlink:href=\"#DejaVuSans-48\"/>\r\n      </g>\r\n     </g>\r\n    </g>\r\n    <g id=\"ytick_22\">\r\n     <g id=\"line2d_64\">\r\n      <path clip-path=\"url(#p6fe61df6ba)\" d=\"M 50.14375 352.382771 \r\nL 430.598295 352.382771 \r\n\" style=\"fill:none;stroke:#b0b0b0;stroke-linecap:square;stroke-width:0.8;\"/>\r\n     </g>\r\n     <g id=\"line2d_65\">\r\n      <g>\r\n       <use style=\"stroke:#000000;stroke-width:0.8;\" x=\"50.14375\" xlink:href=\"#m756d668c0b\" y=\"352.382771\"/>\r\n      </g>\r\n     </g>\r\n     <g id=\"text_50\">\r\n      <!-- 17.5 -->\r\n      <g transform=\"translate(20.878125 356.18199)scale(0.1 -0.1)\">\r\n       <use xlink:href=\"#DejaVuSans-49\"/>\r\n       <use x=\"63.623047\" xlink:href=\"#DejaVuSans-55\"/>\r\n       <use x=\"127.246094\" xlink:href=\"#DejaVuSans-46\"/>\r\n       <use x=\"159.033203\" xlink:href=\"#DejaVuSans-53\"/>\r\n      </g>\r\n     </g>\r\n    </g>\r\n    <g id=\"ytick_23\">\r\n     <g id=\"line2d_66\">\r\n      <path clip-path=\"url(#p6fe61df6ba)\" d=\"M 50.14375 321.877721 \r\nL 430.598295 321.877721 \r\n\" style=\"fill:none;stroke:#b0b0b0;stroke-linecap:square;stroke-width:0.8;\"/>\r\n     </g>\r\n     <g id=\"line2d_67\">\r\n      <g>\r\n       <use style=\"stroke:#000000;stroke-width:0.8;\" x=\"50.14375\" xlink:href=\"#m756d668c0b\" y=\"321.877721\"/>\r\n      </g>\r\n     </g>\r\n     <g id=\"text_51\">\r\n      <!-- 20.0 -->\r\n      <g transform=\"translate(20.878125 325.67694)scale(0.1 -0.1)\">\r\n       <use xlink:href=\"#DejaVuSans-50\"/>\r\n       <use x=\"63.623047\" xlink:href=\"#DejaVuSans-48\"/>\r\n       <use x=\"127.246094\" xlink:href=\"#DejaVuSans-46\"/>\r\n       <use x=\"159.033203\" xlink:href=\"#DejaVuSans-48\"/>\r\n      </g>\r\n     </g>\r\n    </g>\r\n    <g id=\"text_52\">\r\n     <!-- % de ocorrencias -->\r\n     <g transform=\"translate(14.798438 485.383608)rotate(-90)scale(0.1 -0.1)\">\r\n      <use xlink:href=\"#DejaVuSans-37\"/>\r\n      <use x=\"95.019531\" xlink:href=\"#DejaVuSans-32\"/>\r\n      <use x=\"126.806641\" xlink:href=\"#DejaVuSans-100\"/>\r\n      <use x=\"190.283203\" xlink:href=\"#DejaVuSans-101\"/>\r\n      <use x=\"251.806641\" xlink:href=\"#DejaVuSans-32\"/>\r\n      <use x=\"283.59375\" xlink:href=\"#DejaVuSans-111\"/>\r\n      <use x=\"344.775391\" xlink:href=\"#DejaVuSans-99\"/>\r\n      <use x=\"399.755859\" xlink:href=\"#DejaVuSans-111\"/>\r\n      <use x=\"460.9375\" xlink:href=\"#DejaVuSans-114\"/>\r\n      <use x=\"500.300781\" xlink:href=\"#DejaVuSans-114\"/>\r\n      <use x=\"539.164062\" xlink:href=\"#DejaVuSans-101\"/>\r\n      <use x=\"600.6875\" xlink:href=\"#DejaVuSans-110\"/>\r\n      <use x=\"664.066406\" xlink:href=\"#DejaVuSans-99\"/>\r\n      <use x=\"719.046875\" xlink:href=\"#DejaVuSans-105\"/>\r\n      <use x=\"746.830078\" xlink:href=\"#DejaVuSans-97\"/>\r\n      <use x=\"808.109375\" xlink:href=\"#DejaVuSans-115\"/>\r\n     </g>\r\n    </g>\r\n   </g>\r\n   <g id=\"patch_43\">\r\n    <path d=\"M 50.14375 565.918125 \r\nL 50.14375 318.827216 \r\n\" style=\"fill:none;stroke:#000000;stroke-linecap:square;stroke-linejoin:miter;stroke-width:0.8;\"/>\r\n   </g>\r\n   <g id=\"patch_44\">\r\n    <path d=\"M 430.598295 565.918125 \r\nL 430.598295 318.827216 \r\n\" style=\"fill:none;stroke:#000000;stroke-linecap:square;stroke-linejoin:miter;stroke-width:0.8;\"/>\r\n   </g>\r\n   <g id=\"patch_45\">\r\n    <path d=\"M 50.14375 565.918125 \r\nL 430.598295 565.918125 \r\n\" style=\"fill:none;stroke:#000000;stroke-linecap:square;stroke-linejoin:miter;stroke-width:0.8;\"/>\r\n   </g>\r\n   <g id=\"patch_46\">\r\n    <path d=\"M 50.14375 318.827216 \r\nL 430.598295 318.827216 \r\n\" style=\"fill:none;stroke:#000000;stroke-linecap:square;stroke-linejoin:miter;stroke-width:0.8;\"/>\r\n   </g>\r\n   <g id=\"text_53\">\r\n    <!-- Erros Relevantes -->\r\n    <g transform=\"translate(190.032898 312.827216)scale(0.12 -0.12)\">\r\n     <use xlink:href=\"#DejaVuSans-69\"/>\r\n     <use x=\"63.183594\" xlink:href=\"#DejaVuSans-114\"/>\r\n     <use x=\"102.546875\" xlink:href=\"#DejaVuSans-114\"/>\r\n     <use x=\"141.410156\" xlink:href=\"#DejaVuSans-111\"/>\r\n     <use x=\"202.591797\" xlink:href=\"#DejaVuSans-115\"/>\r\n     <use x=\"254.691406\" xlink:href=\"#DejaVuSans-32\"/>\r\n     <use x=\"286.478516\" xlink:href=\"#DejaVuSans-82\"/>\r\n     <use x=\"351.460938\" xlink:href=\"#DejaVuSans-101\"/>\r\n     <use x=\"412.984375\" xlink:href=\"#DejaVuSans-108\"/>\r\n     <use x=\"440.767578\" xlink:href=\"#DejaVuSans-101\"/>\r\n     <use x=\"502.291016\" xlink:href=\"#DejaVuSans-118\"/>\r\n     <use x=\"561.470703\" xlink:href=\"#DejaVuSans-97\"/>\r\n     <use x=\"622.75\" xlink:href=\"#DejaVuSans-110\"/>\r\n     <use x=\"686.128906\" xlink:href=\"#DejaVuSans-116\"/>\r\n     <use x=\"725.337891\" xlink:href=\"#DejaVuSans-101\"/>\r\n     <use x=\"786.861328\" xlink:href=\"#DejaVuSans-115\"/>\r\n    </g>\r\n   </g>\r\n  </g>\r\n  <g id=\"axes_4\">\r\n   <g id=\"patch_47\">\r\n    <path d=\"M 506.689205 565.918125 \r\nL 887.14375 565.918125 \r\nL 887.14375 318.827216 \r\nL 506.689205 318.827216 \r\nz\r\n\" style=\"fill:#ffffff;\"/>\r\n   </g>\r\n   <g id=\"patch_48\">\r\n    <path clip-path=\"url(#pd0756771e0)\" d=\"M 523.982593 565.918125 \r\nL 558.56937 565.918125 \r\nL 558.56937 338.437606 \r\nL 523.982593 338.437606 \r\nz\r\n\" style=\"fill:#ff2222;stroke:#ffffff;stroke-linejoin:miter;\"/>\r\n   </g>\r\n   <g id=\"patch_49\">\r\n    <path clip-path=\"url(#pd0756771e0)\" d=\"M 558.56937 565.918125 \r\nL 593.156147 565.918125 \r\nL 593.156147 330.59345 \r\nL 558.56937 330.59345 \r\nz\r\n\" style=\"fill:#ff2222;stroke:#ffffff;stroke-linejoin:miter;\"/>\r\n   </g>\r\n   <g id=\"patch_50\">\r\n    <path clip-path=\"url(#pd0756771e0)\" d=\"M 593.156147 565.918125 \r\nL 627.742924 565.918125 \r\nL 627.742924 565.918125 \r\nL 593.156147 565.918125 \r\nz\r\n\" style=\"fill:#ff2222;stroke:#ffffff;stroke-linejoin:miter;\"/>\r\n   </g>\r\n   <g id=\"patch_51\">\r\n    <path clip-path=\"url(#pd0756771e0)\" d=\"M 627.742924 565.918125 \r\nL 662.3297 565.918125 \r\nL 662.3297 401.190852 \r\nL 627.742924 401.190852 \r\nz\r\n\" style=\"fill:#ff2222;stroke:#ffffff;stroke-linejoin:miter;\"/>\r\n   </g>\r\n   <g id=\"patch_52\">\r\n    <path clip-path=\"url(#pd0756771e0)\" d=\"M 662.3297 565.918125 \r\nL 696.916477 565.918125 \r\nL 696.916477 565.918125 \r\nL 662.3297 565.918125 \r\nz\r\n\" style=\"fill:#ff2222;stroke:#ffffff;stroke-linejoin:miter;\"/>\r\n   </g>\r\n   <g id=\"patch_53\">\r\n    <path clip-path=\"url(#pd0756771e0)\" d=\"M 696.916477 565.918125 \r\nL 731.503254 565.918125 \r\nL 731.503254 456.099943 \r\nL 696.916477 456.099943 \r\nz\r\n\" style=\"fill:#ff2222;stroke:#ffffff;stroke-linejoin:miter;\"/>\r\n   </g>\r\n   <g id=\"patch_54\">\r\n    <path clip-path=\"url(#pd0756771e0)\" d=\"M 731.503254 565.918125 \r\nL 766.090031 565.918125 \r\nL 766.090031 526.697346 \r\nL 731.503254 526.697346 \r\nz\r\n\" style=\"fill:#ff2222;stroke:#ffffff;stroke-linejoin:miter;\"/>\r\n   </g>\r\n   <g id=\"patch_55\">\r\n    <path clip-path=\"url(#pd0756771e0)\" d=\"M 766.090031 565.918125 \r\nL 800.676808 565.918125 \r\nL 800.676808 565.918125 \r\nL 766.090031 565.918125 \r\nz\r\n\" style=\"fill:#ff2222;stroke:#ffffff;stroke-linejoin:miter;\"/>\r\n   </g>\r\n   <g id=\"patch_56\">\r\n    <path clip-path=\"url(#pd0756771e0)\" d=\"M 800.676808 565.918125 \r\nL 835.263585 565.918125 \r\nL 835.263585 565.918125 \r\nL 800.676808 565.918125 \r\nz\r\n\" style=\"fill:#ff2222;stroke:#ffffff;stroke-linejoin:miter;\"/>\r\n   </g>\r\n   <g id=\"patch_57\">\r\n    <path clip-path=\"url(#pd0756771e0)\" d=\"M 835.263585 565.918125 \r\nL 869.850362 565.918125 \r\nL 869.850362 558.073969 \r\nL 835.263585 558.073969 \r\nz\r\n\" style=\"fill:#ff2222;stroke:#ffffff;stroke-linejoin:miter;\"/>\r\n   </g>\r\n   <g id=\"matplotlib.axis_7\">\r\n    <g id=\"xtick_22\">\r\n     <g id=\"line2d_68\">\r\n      <g>\r\n       <use style=\"stroke:#000000;stroke-width:0.8;\" x=\"523.982593\" xlink:href=\"#m80dcd4a4cc\" y=\"565.918125\"/>\r\n      </g>\r\n     </g>\r\n     <g id=\"text_54\">\r\n      <!-- 0.000 -->\r\n      <g transform=\"translate(509.66853 580.516562)scale(0.1 -0.1)\">\r\n       <use xlink:href=\"#DejaVuSans-48\"/>\r\n       <use x=\"63.623047\" xlink:href=\"#DejaVuSans-46\"/>\r\n       <use x=\"95.410156\" xlink:href=\"#DejaVuSans-48\"/>\r\n       <use x=\"159.033203\" xlink:href=\"#DejaVuSans-48\"/>\r\n       <use x=\"222.65625\" xlink:href=\"#DejaVuSans-48\"/>\r\n      </g>\r\n     </g>\r\n    </g>\r\n    <g id=\"xtick_23\">\r\n     <g id=\"line2d_69\">\r\n      <g>\r\n       <use style=\"stroke:#000000;stroke-width:0.8;\" x=\"581.627221\" xlink:href=\"#m80dcd4a4cc\" y=\"565.918125\"/>\r\n      </g>\r\n     </g>\r\n     <g id=\"text_55\">\r\n      <!-- 0.005 -->\r\n      <g transform=\"translate(567.313159 580.516562)scale(0.1 -0.1)\">\r\n       <use xlink:href=\"#DejaVuSans-48\"/>\r\n       <use x=\"63.623047\" xlink:href=\"#DejaVuSans-46\"/>\r\n       <use x=\"95.410156\" xlink:href=\"#DejaVuSans-48\"/>\r\n       <use x=\"159.033203\" xlink:href=\"#DejaVuSans-48\"/>\r\n       <use x=\"222.65625\" xlink:href=\"#DejaVuSans-53\"/>\r\n      </g>\r\n     </g>\r\n    </g>\r\n    <g id=\"xtick_24\">\r\n     <g id=\"line2d_70\">\r\n      <g>\r\n       <use style=\"stroke:#000000;stroke-width:0.8;\" x=\"639.271849\" xlink:href=\"#m80dcd4a4cc\" y=\"565.918125\"/>\r\n      </g>\r\n     </g>\r\n     <g id=\"text_56\">\r\n      <!-- 0.010 -->\r\n      <g transform=\"translate(624.957787 580.516562)scale(0.1 -0.1)\">\r\n       <use xlink:href=\"#DejaVuSans-48\"/>\r\n       <use x=\"63.623047\" xlink:href=\"#DejaVuSans-46\"/>\r\n       <use x=\"95.410156\" xlink:href=\"#DejaVuSans-48\"/>\r\n       <use x=\"159.033203\" xlink:href=\"#DejaVuSans-49\"/>\r\n       <use x=\"222.65625\" xlink:href=\"#DejaVuSans-48\"/>\r\n      </g>\r\n     </g>\r\n    </g>\r\n    <g id=\"xtick_25\">\r\n     <g id=\"line2d_71\">\r\n      <g>\r\n       <use style=\"stroke:#000000;stroke-width:0.8;\" x=\"696.916477\" xlink:href=\"#m80dcd4a4cc\" y=\"565.918125\"/>\r\n      </g>\r\n     </g>\r\n     <g id=\"text_57\">\r\n      <!-- 0.015 -->\r\n      <g transform=\"translate(682.602415 580.516562)scale(0.1 -0.1)\">\r\n       <use xlink:href=\"#DejaVuSans-48\"/>\r\n       <use x=\"63.623047\" xlink:href=\"#DejaVuSans-46\"/>\r\n       <use x=\"95.410156\" xlink:href=\"#DejaVuSans-48\"/>\r\n       <use x=\"159.033203\" xlink:href=\"#DejaVuSans-49\"/>\r\n       <use x=\"222.65625\" xlink:href=\"#DejaVuSans-53\"/>\r\n      </g>\r\n     </g>\r\n    </g>\r\n    <g id=\"xtick_26\">\r\n     <g id=\"line2d_72\">\r\n      <g>\r\n       <use style=\"stroke:#000000;stroke-width:0.8;\" x=\"754.561105\" xlink:href=\"#m80dcd4a4cc\" y=\"565.918125\"/>\r\n      </g>\r\n     </g>\r\n     <g id=\"text_58\">\r\n      <!-- 0.020 -->\r\n      <g transform=\"translate(740.247043 580.516562)scale(0.1 -0.1)\">\r\n       <use xlink:href=\"#DejaVuSans-48\"/>\r\n       <use x=\"63.623047\" xlink:href=\"#DejaVuSans-46\"/>\r\n       <use x=\"95.410156\" xlink:href=\"#DejaVuSans-48\"/>\r\n       <use x=\"159.033203\" xlink:href=\"#DejaVuSans-50\"/>\r\n       <use x=\"222.65625\" xlink:href=\"#DejaVuSans-48\"/>\r\n      </g>\r\n     </g>\r\n    </g>\r\n    <g id=\"xtick_27\">\r\n     <g id=\"line2d_73\">\r\n      <g>\r\n       <use style=\"stroke:#000000;stroke-width:0.8;\" x=\"812.205733\" xlink:href=\"#m80dcd4a4cc\" y=\"565.918125\"/>\r\n      </g>\r\n     </g>\r\n     <g id=\"text_59\">\r\n      <!-- 0.025 -->\r\n      <g transform=\"translate(797.891671 580.516562)scale(0.1 -0.1)\">\r\n       <use xlink:href=\"#DejaVuSans-48\"/>\r\n       <use x=\"63.623047\" xlink:href=\"#DejaVuSans-46\"/>\r\n       <use x=\"95.410156\" xlink:href=\"#DejaVuSans-48\"/>\r\n       <use x=\"159.033203\" xlink:href=\"#DejaVuSans-50\"/>\r\n       <use x=\"222.65625\" xlink:href=\"#DejaVuSans-53\"/>\r\n      </g>\r\n     </g>\r\n    </g>\r\n    <g id=\"xtick_28\">\r\n     <g id=\"line2d_74\">\r\n      <g>\r\n       <use style=\"stroke:#000000;stroke-width:0.8;\" x=\"869.850362\" xlink:href=\"#m80dcd4a4cc\" y=\"565.918125\"/>\r\n      </g>\r\n     </g>\r\n     <g id=\"text_60\">\r\n      <!-- 0.030 -->\r\n      <g transform=\"translate(855.536299 580.516562)scale(0.1 -0.1)\">\r\n       <use xlink:href=\"#DejaVuSans-48\"/>\r\n       <use x=\"63.623047\" xlink:href=\"#DejaVuSans-46\"/>\r\n       <use x=\"95.410156\" xlink:href=\"#DejaVuSans-48\"/>\r\n       <use x=\"159.033203\" xlink:href=\"#DejaVuSans-51\"/>\r\n       <use x=\"222.65625\" xlink:href=\"#DejaVuSans-48\"/>\r\n      </g>\r\n     </g>\r\n    </g>\r\n    <g id=\"text_61\">\r\n     <!-- % de Erros -->\r\n     <g transform=\"translate(670.002415 594.194687)scale(0.1 -0.1)\">\r\n      <use xlink:href=\"#DejaVuSans-37\"/>\r\n      <use x=\"95.019531\" xlink:href=\"#DejaVuSans-32\"/>\r\n      <use x=\"126.806641\" xlink:href=\"#DejaVuSans-100\"/>\r\n      <use x=\"190.283203\" xlink:href=\"#DejaVuSans-101\"/>\r\n      <use x=\"251.806641\" xlink:href=\"#DejaVuSans-32\"/>\r\n      <use x=\"283.59375\" xlink:href=\"#DejaVuSans-69\"/>\r\n      <use x=\"346.777344\" xlink:href=\"#DejaVuSans-114\"/>\r\n      <use x=\"386.140625\" xlink:href=\"#DejaVuSans-114\"/>\r\n      <use x=\"425.003906\" xlink:href=\"#DejaVuSans-111\"/>\r\n      <use x=\"486.185547\" xlink:href=\"#DejaVuSans-115\"/>\r\n     </g>\r\n    </g>\r\n   </g>\r\n   <g id=\"matplotlib.axis_8\">\r\n    <g id=\"ytick_24\">\r\n     <g id=\"line2d_75\">\r\n      <path clip-path=\"url(#pd0756771e0)\" d=\"M 506.689205 565.918125 \r\nL 887.14375 565.918125 \r\n\" style=\"fill:none;stroke:#b0b0b0;stroke-linecap:square;stroke-width:0.8;\"/>\r\n     </g>\r\n     <g id=\"line2d_76\">\r\n      <g>\r\n       <use style=\"stroke:#000000;stroke-width:0.8;\" x=\"506.689205\" xlink:href=\"#m756d668c0b\" y=\"565.918125\"/>\r\n      </g>\r\n     </g>\r\n     <g id=\"text_62\">\r\n      <!-- 0 -->\r\n      <g transform=\"translate(493.326705 569.717344)scale(0.1 -0.1)\">\r\n       <use xlink:href=\"#DejaVuSans-48\"/>\r\n      </g>\r\n     </g>\r\n    </g>\r\n    <g id=\"ytick_25\">\r\n     <g id=\"line2d_77\">\r\n      <path clip-path=\"url(#pd0756771e0)\" d=\"M 506.689205 518.85319 \r\nL 887.14375 518.85319 \r\n\" style=\"fill:none;stroke:#b0b0b0;stroke-linecap:square;stroke-width:0.8;\"/>\r\n     </g>\r\n     <g id=\"line2d_78\">\r\n      <g>\r\n       <use style=\"stroke:#000000;stroke-width:0.8;\" x=\"506.689205\" xlink:href=\"#m756d668c0b\" y=\"518.85319\"/>\r\n      </g>\r\n     </g>\r\n     <g id=\"text_63\">\r\n      <!-- 20 -->\r\n      <g transform=\"translate(486.964205 522.652409)scale(0.1 -0.1)\">\r\n       <use xlink:href=\"#DejaVuSans-50\"/>\r\n       <use x=\"63.623047\" xlink:href=\"#DejaVuSans-48\"/>\r\n      </g>\r\n     </g>\r\n    </g>\r\n    <g id=\"ytick_26\">\r\n     <g id=\"line2d_79\">\r\n      <path clip-path=\"url(#pd0756771e0)\" d=\"M 506.689205 471.788255 \r\nL 887.14375 471.788255 \r\n\" style=\"fill:none;stroke:#b0b0b0;stroke-linecap:square;stroke-width:0.8;\"/>\r\n     </g>\r\n     <g id=\"line2d_80\">\r\n      <g>\r\n       <use style=\"stroke:#000000;stroke-width:0.8;\" x=\"506.689205\" xlink:href=\"#m756d668c0b\" y=\"471.788255\"/>\r\n      </g>\r\n     </g>\r\n     <g id=\"text_64\">\r\n      <!-- 40 -->\r\n      <g transform=\"translate(486.964205 475.587474)scale(0.1 -0.1)\">\r\n       <use xlink:href=\"#DejaVuSans-52\"/>\r\n       <use x=\"63.623047\" xlink:href=\"#DejaVuSans-48\"/>\r\n      </g>\r\n     </g>\r\n    </g>\r\n    <g id=\"ytick_27\">\r\n     <g id=\"line2d_81\">\r\n      <path clip-path=\"url(#pd0756771e0)\" d=\"M 506.689205 424.72332 \r\nL 887.14375 424.72332 \r\n\" style=\"fill:none;stroke:#b0b0b0;stroke-linecap:square;stroke-width:0.8;\"/>\r\n     </g>\r\n     <g id=\"line2d_82\">\r\n      <g>\r\n       <use style=\"stroke:#000000;stroke-width:0.8;\" x=\"506.689205\" xlink:href=\"#m756d668c0b\" y=\"424.72332\"/>\r\n      </g>\r\n     </g>\r\n     <g id=\"text_65\">\r\n      <!-- 60 -->\r\n      <g transform=\"translate(486.964205 428.522539)scale(0.1 -0.1)\">\r\n       <use xlink:href=\"#DejaVuSans-54\"/>\r\n       <use x=\"63.623047\" xlink:href=\"#DejaVuSans-48\"/>\r\n      </g>\r\n     </g>\r\n    </g>\r\n    <g id=\"ytick_28\">\r\n     <g id=\"line2d_83\">\r\n      <path clip-path=\"url(#pd0756771e0)\" d=\"M 506.689205 377.658385 \r\nL 887.14375 377.658385 \r\n\" style=\"fill:none;stroke:#b0b0b0;stroke-linecap:square;stroke-width:0.8;\"/>\r\n     </g>\r\n     <g id=\"line2d_84\">\r\n      <g>\r\n       <use style=\"stroke:#000000;stroke-width:0.8;\" x=\"506.689205\" xlink:href=\"#m756d668c0b\" y=\"377.658385\"/>\r\n      </g>\r\n     </g>\r\n     <g id=\"text_66\">\r\n      <!-- 80 -->\r\n      <g transform=\"translate(486.964205 381.457603)scale(0.1 -0.1)\">\r\n       <use xlink:href=\"#DejaVuSans-56\"/>\r\n       <use x=\"63.623047\" xlink:href=\"#DejaVuSans-48\"/>\r\n      </g>\r\n     </g>\r\n    </g>\r\n    <g id=\"ytick_29\">\r\n     <g id=\"line2d_85\">\r\n      <path clip-path=\"url(#pd0756771e0)\" d=\"M 506.689205 330.59345 \r\nL 887.14375 330.59345 \r\n\" style=\"fill:none;stroke:#b0b0b0;stroke-linecap:square;stroke-width:0.8;\"/>\r\n     </g>\r\n     <g id=\"line2d_86\">\r\n      <g>\r\n       <use style=\"stroke:#000000;stroke-width:0.8;\" x=\"506.689205\" xlink:href=\"#m756d668c0b\" y=\"330.59345\"/>\r\n      </g>\r\n     </g>\r\n     <g id=\"text_67\">\r\n      <!-- 100 -->\r\n      <g transform=\"translate(480.601705 334.392668)scale(0.1 -0.1)\">\r\n       <use xlink:href=\"#DejaVuSans-49\"/>\r\n       <use x=\"63.623047\" xlink:href=\"#DejaVuSans-48\"/>\r\n       <use x=\"127.246094\" xlink:href=\"#DejaVuSans-48\"/>\r\n      </g>\r\n     </g>\r\n    </g>\r\n    <g id=\"text_68\">\r\n     <!-- % de ocorrencias -->\r\n     <g transform=\"translate(474.522017 485.383608)rotate(-90)scale(0.1 -0.1)\">\r\n      <use xlink:href=\"#DejaVuSans-37\"/>\r\n      <use x=\"95.019531\" xlink:href=\"#DejaVuSans-32\"/>\r\n      <use x=\"126.806641\" xlink:href=\"#DejaVuSans-100\"/>\r\n      <use x=\"190.283203\" xlink:href=\"#DejaVuSans-101\"/>\r\n      <use x=\"251.806641\" xlink:href=\"#DejaVuSans-32\"/>\r\n      <use x=\"283.59375\" xlink:href=\"#DejaVuSans-111\"/>\r\n      <use x=\"344.775391\" xlink:href=\"#DejaVuSans-99\"/>\r\n      <use x=\"399.755859\" xlink:href=\"#DejaVuSans-111\"/>\r\n      <use x=\"460.9375\" xlink:href=\"#DejaVuSans-114\"/>\r\n      <use x=\"500.300781\" xlink:href=\"#DejaVuSans-114\"/>\r\n      <use x=\"539.164062\" xlink:href=\"#DejaVuSans-101\"/>\r\n      <use x=\"600.6875\" xlink:href=\"#DejaVuSans-110\"/>\r\n      <use x=\"664.066406\" xlink:href=\"#DejaVuSans-99\"/>\r\n      <use x=\"719.046875\" xlink:href=\"#DejaVuSans-105\"/>\r\n      <use x=\"746.830078\" xlink:href=\"#DejaVuSans-97\"/>\r\n      <use x=\"808.109375\" xlink:href=\"#DejaVuSans-115\"/>\r\n     </g>\r\n    </g>\r\n   </g>\r\n   <g id=\"patch_58\">\r\n    <path d=\"M 506.689205 565.918125 \r\nL 506.689205 318.827216 \r\n\" style=\"fill:none;stroke:#000000;stroke-linecap:square;stroke-linejoin:miter;stroke-width:0.8;\"/>\r\n   </g>\r\n   <g id=\"patch_59\">\r\n    <path d=\"M 887.14375 565.918125 \r\nL 887.14375 318.827216 \r\n\" style=\"fill:none;stroke:#000000;stroke-linecap:square;stroke-linejoin:miter;stroke-width:0.8;\"/>\r\n   </g>\r\n   <g id=\"patch_60\">\r\n    <path d=\"M 506.689205 565.918125 \r\nL 887.14375 565.918125 \r\n\" style=\"fill:none;stroke:#000000;stroke-linecap:square;stroke-linejoin:miter;stroke-width:0.8;\"/>\r\n   </g>\r\n   <g id=\"patch_61\">\r\n    <path d=\"M 506.689205 318.827216 \r\nL 887.14375 318.827216 \r\n\" style=\"fill:none;stroke:#000000;stroke-linecap:square;stroke-linejoin:miter;stroke-width:0.8;\"/>\r\n   </g>\r\n   <g id=\"text_69\">\r\n    <!-- Erros Irrelevantes -->\r\n    <g transform=\"translate(644.01429 312.827216)scale(0.12 -0.12)\">\r\n     <use xlink:href=\"#DejaVuSans-69\"/>\r\n     <use x=\"63.183594\" xlink:href=\"#DejaVuSans-114\"/>\r\n     <use x=\"102.546875\" xlink:href=\"#DejaVuSans-114\"/>\r\n     <use x=\"141.410156\" xlink:href=\"#DejaVuSans-111\"/>\r\n     <use x=\"202.591797\" xlink:href=\"#DejaVuSans-115\"/>\r\n     <use x=\"254.691406\" xlink:href=\"#DejaVuSans-32\"/>\r\n     <use x=\"286.478516\" xlink:href=\"#DejaVuSans-73\"/>\r\n     <use x=\"315.970703\" xlink:href=\"#DejaVuSans-114\"/>\r\n     <use x=\"355.333984\" xlink:href=\"#DejaVuSans-114\"/>\r\n     <use x=\"394.197266\" xlink:href=\"#DejaVuSans-101\"/>\r\n     <use x=\"455.720703\" xlink:href=\"#DejaVuSans-108\"/>\r\n     <use x=\"483.503906\" xlink:href=\"#DejaVuSans-101\"/>\r\n     <use x=\"545.027344\" xlink:href=\"#DejaVuSans-118\"/>\r\n     <use x=\"604.207031\" xlink:href=\"#DejaVuSans-97\"/>\r\n     <use x=\"665.486328\" xlink:href=\"#DejaVuSans-110\"/>\r\n     <use x=\"728.865234\" xlink:href=\"#DejaVuSans-116\"/>\r\n     <use x=\"768.074219\" xlink:href=\"#DejaVuSans-101\"/>\r\n     <use x=\"829.597656\" xlink:href=\"#DejaVuSans-115\"/>\r\n    </g>\r\n   </g>\r\n  </g>\r\n </g>\r\n <defs>\r\n  <clipPath id=\"pa2f9a29c5b\">\r\n   <rect height=\"247.090909\" width=\"380.454545\" x=\"50.14375\" y=\"22.318125\"/>\r\n  </clipPath>\r\n  <clipPath id=\"p9e565206d0\">\r\n   <rect height=\"247.090909\" width=\"380.454545\" x=\"506.689205\" y=\"22.318125\"/>\r\n  </clipPath>\r\n  <clipPath id=\"p6fe61df6ba\">\r\n   <rect height=\"247.090909\" width=\"380.454545\" x=\"50.14375\" y=\"318.827216\"/>\r\n  </clipPath>\r\n  <clipPath id=\"pd0756771e0\">\r\n   <rect height=\"247.090909\" width=\"380.454545\" x=\"506.689205\" y=\"318.827216\"/>\r\n  </clipPath>\r\n </defs>\r\n</svg>\r\n",
      "image/png": "[encoded data removed]"
     },
     "metadata": {
      "needs_background": "light"
     }
    }
   ],
   "source": [
    "plt.figure(figsize=(15, 10))\n",
    "\n",
    "plt.subplot(2, 2, 1)\n",
    "plt.hist(acerto_R_list, color=\"#22BB22\", edgecolor=\"w\", density=True)\n",
    "plt.title(\"Acertos Relevantes\")\n",
    "plt.xlabel(\"% de Acertos\")\n",
    "plt.ylabel(\"% de ocorrencias\")\n",
    "plt.grid(axis=\"y\")\n",
    "\n",
    "plt.subplot(2, 2, 2)\n",
    "plt.hist(acerto_I_list, color=\"#22BB22\", edgecolor=\"w\", density=True)\n",
    "plt.title(\"Acertos Irrelevantes\")\n",
    "plt.xlabel(\"% de Acertos\")\n",
    "plt.ylabel(\"% de ocorrencias\")\n",
    "plt.grid(axis=\"y\")\n",
    "\n",
    "plt.subplot(2, 2, 3)\n",
    "plt.hist(erro_R_list, color=\"#FF2222\", edgecolor=\"w\", density=True)\n",
    "plt.title(\"Erros Relevantes\")\n",
    "plt.xlabel(\"% de Erros\")\n",
    "plt.ylabel(\"% de ocorrencias\")\n",
    "plt.grid(axis=\"y\")\n",
    "\n",
    "plt.subplot(2, 2, 4)\n",
    "plt.hist(erro_I_list, color=\"#FF2222\", edgecolor=\"w\", density=True)\n",
    "plt.title(\"Erros Irrelevantes\")\n",
    "plt.xlabel(\"% de Erros\")\n",
    "plt.ylabel(\"% de ocorrencias\")\n",
    "plt.grid(axis=\"y\")\n",
    "\n",
    "plt.show()"
   ]
  },
  {
   "cell_type": "markdown",
   "metadata": {},
   "source": [
    "___\n",
    "## Aperfeiçoamento:\n",
    "\n",
    "Os trabalhos vão evoluir em conceito dependendo da quantidade de itens avançados:\n",
    "\n",
    "* Limpar: \\n, :, \", ', (, ), etc SEM remover emojis\n",
    "* Corrigir separação de espaços entre palavras e emojis ou entre emojis e emojis\n",
    "* Propor outras limpezas e transformações que não afetem a qualidade da informação ou classificação\n",
    "* Criar categorias intermediárias de relevância baseadas na probabilidade: ex.: muito relevante, relevante, neutro, irrelevante, muito irrelevante (3 categorias: C, mais categorias conta para B)\n",
    "* Explicar por que não posso usar o próprio classificador para gerar mais amostras de treinamento\n",
    "* Propor diferentes cenários para Naïve Bayes fora do contexto do projeto\n",
    "* Sugerir e explicar melhorias reais com indicações concretas de como implementar (indicar como fazer e indicar material de pesquisa)\n"
   ]
  },
  {
   "cell_type": "markdown",
   "metadata": {},
   "source": [
    "___\n",
    "## Referências"
   ]
  },
  {
   "cell_type": "markdown",
   "metadata": {},
   "source": [
    "[Naive Bayes and Text Classification](https://arxiv.org/pdf/1410.5329.pdf)  **Mais completo**\n",
    "\n",
    "[A practical explanation of a Naive Bayes Classifier](https://monkeylearn.com/blog/practical-explanation-naive-bayes-classifier/) **Mais simples**"
   ]
  }
 ],
 "metadata": {
  "kernelspec": {
   "name": "python383jvsc74a57bd0b3ba2566441a7c06988d0923437866b63cedc61552a5af99d1f4fb67d367b25f",
   "display_name": "Python 3.8.3 64-bit (conda)"
  },
  "language_info": {
   "codemirror_mode": {
    "name": "ipython",
    "version": 3
   },
   "file_extension": ".py",
   "mimetype": "text/x-python",
   "name": "python",
   "nbconvert_exporter": "python",
   "pygments_lexer": "ipython3",
   "version": "3.8.3-final"
  }
 },
 "nbformat": 4,
 "nbformat_minor": 4
}