{
 "cells": [
  {
   "cell_type": "markdown",
   "metadata": {},
   "source": [
    "# Projeto 1 - Ciência dos Dados"
   ]
  },
  {
   "cell_type": "markdown",
   "metadata": {},
   "source": [
    "Nome: Pedro Cliquet Amaral\n",
    "\n",
    "Nome: Luciano Felix Dias"
   ]
  },
  {
   "cell_type": "markdown",
   "metadata": {},
   "source": [
    "Atenção: Serão permitidos grupos de três pessoas, mas com uma rubrica mais exigente. Grupos deste tamanho precisarão fazer um questionário de avaliação de trabalho em equipe"
   ]
  },
  {
   "cell_type": "markdown",
   "metadata": {},
   "source": [
    "___\n",
    "Carregando algumas bibliotecas:"
   ]
  },
  {
   "cell_type": "code",
   "execution_count": 1,
   "metadata": {},
   "outputs": [],
   "source": [
    "%matplotlib inline\n",
    "import pandas as pd\n",
    "import matplotlib.pyplot as plt\n",
    "import numpy as np\n",
    "import os\n",
    "import re"
   ]
  },
  {
   "cell_type": "code",
   "execution_count": 2,
   "metadata": {
    "scrolled": false
   },
   "outputs": [
    {
     "output_type": "stream",
     "name": "stdout",
     "text": [
      "Esperamos trabalhar no diretório\nc:\\Users\\Lucius\\Documents\\Insper\\s2_2021.1\\CDados\\Projeto 1\n"
     ]
    }
   ],
   "source": [
    "print('Esperamos trabalhar no diretório')\n",
    "print(os.getcwd())"
   ]
  },
  {
   "cell_type": "markdown",
   "metadata": {},
   "source": [
    "Carregando a base de dados com os tweets classificados como relevantes e não relevantes:"
   ]
  },
  {
   "cell_type": "code",
   "execution_count": 3,
   "metadata": {},
   "outputs": [],
   "source": [
    "filename = 'League of Legends.xlsx'"
   ]
  },
  {
   "cell_type": "code",
   "execution_count": 4,
   "metadata": {},
   "outputs": [
    {
     "output_type": "execute_result",
     "data": {
      "text/plain": [
       "                                         Treinamento  Relevancia\n",
       "0  @aakkari @furia tem um champ no league of lege...           0\n",
       "1  @raylerchil @noideapraisso @paulokogos_ofc kkk...           0\n",
       "2  a faculdade ta atrapalhando meu desempenho no ...           1\n",
       "3  league of legends é pior do que perder q vida ...           1\n",
       "4    eu te odeio league of legends lixo de jogo lixo           1"
      ],
      "text/html": "<div>\n<style scoped>\n    .dataframe tbody tr th:only-of-type {\n        vertical-align: middle;\n    }\n\n    .dataframe tbody tr th {\n        vertical-align: top;\n    }\n\n    .dataframe thead th {\n        text-align: right;\n    }\n</style>\n<table border=\"1\" class=\"dataframe\">\n  <thead>\n    <tr style=\"text-align: right;\">\n      <th></th>\n      <th>Treinamento</th>\n      <th>Relevancia</th>\n    </tr>\n  </thead>\n  <tbody>\n    <tr>\n      <th>0</th>\n      <td>@aakkari @furia tem um champ no league of lege...</td>\n      <td>0</td>\n    </tr>\n    <tr>\n      <th>1</th>\n      <td>@raylerchil @noideapraisso @paulokogos_ofc kkk...</td>\n      <td>0</td>\n    </tr>\n    <tr>\n      <th>2</th>\n      <td>a faculdade ta atrapalhando meu desempenho no ...</td>\n      <td>1</td>\n    </tr>\n    <tr>\n      <th>3</th>\n      <td>league of legends é pior do que perder q vida ...</td>\n      <td>1</td>\n    </tr>\n    <tr>\n      <th>4</th>\n      <td>eu te odeio league of legends lixo de jogo lixo</td>\n      <td>1</td>\n    </tr>\n  </tbody>\n</table>\n</div>"
     },
     "metadata": {},
     "execution_count": 4
    }
   ],
   "source": [
    "train = pd.read_excel(filename)\n",
    "train.head(5)"
   ]
  },
  {
   "cell_type": "code",
   "execution_count": 5,
   "metadata": {},
   "outputs": [
    {
     "output_type": "execute_result",
     "data": {
      "text/plain": [
       "                                               Teste  Relevancia\n",
       "0  uma call do supermercado vendo anime e a outra...           0\n",
       "1  #pulgapreta #leagueoflegends #nimotv pulgapret...           0\n",
       "2  fico de cara que vem uns zé buceta fala \"ah ma...           0\n",
       "3  @hastadvalorant esquece league of legends e ba...           0\n",
       "4        saudade de jogar league of legends com elas           1"
      ],
      "text/html": "<div>\n<style scoped>\n    .dataframe tbody tr th:only-of-type {\n        vertical-align: middle;\n    }\n\n    .dataframe tbody tr th {\n        vertical-align: top;\n    }\n\n    .dataframe thead th {\n        text-align: right;\n    }\n</style>\n<table border=\"1\" class=\"dataframe\">\n  <thead>\n    <tr style=\"text-align: right;\">\n      <th></th>\n      <th>Teste</th>\n      <th>Relevancia</th>\n    </tr>\n  </thead>\n  <tbody>\n    <tr>\n      <th>0</th>\n      <td>uma call do supermercado vendo anime e a outra...</td>\n      <td>0</td>\n    </tr>\n    <tr>\n      <th>1</th>\n      <td>#pulgapreta #leagueoflegends #nimotv pulgapret...</td>\n      <td>0</td>\n    </tr>\n    <tr>\n      <th>2</th>\n      <td>fico de cara que vem uns zé buceta fala \"ah ma...</td>\n      <td>0</td>\n    </tr>\n    <tr>\n      <th>3</th>\n      <td>@hastadvalorant esquece league of legends e ba...</td>\n      <td>0</td>\n    </tr>\n    <tr>\n      <th>4</th>\n      <td>saudade de jogar league of legends com elas</td>\n      <td>1</td>\n    </tr>\n  </tbody>\n</table>\n</div>"
     },
     "metadata": {},
     "execution_count": 5
    }
   ],
   "source": [
    "test = pd.read_excel(filename, sheet_name = 'Teste')\n",
    "test.head(5)"
   ]
  },
  {
   "cell_type": "markdown",
   "metadata": {},
   "source": [
    "___\n",
    "## Classificador automático de sentimento\n"
   ]
  },
  {
   "cell_type": "markdown",
   "metadata": {},
   "source": [
    "Faça aqui uma descrição do seu produto e o que considerou como relevante ou não relevante na classificação dos tweets.\n",
    "\n",
    "Para classificar a relevância consideramos elogios, convites para jogar, críticas e formas de engajamento. Os tweets relevantes são: os elogios, críticas e convites para jogar. Já os irrelevantes são: engajamento em que a pessoa utiliza o produto para auto-divulgação e comentários com conteúdo do jogo."
   ]
  },
  {
   "cell_type": "markdown",
   "metadata": {},
   "source": [
    "___\n",
    "### Montando um Classificador Naive-Bayes\n",
    "\n",
    "Considerando apenas as mensagens da planilha Treinamento, ensine  seu classificador."
   ]
  },
  {
   "cell_type": "markdown",
   "metadata": {},
   "source": [
    "### Cleaner"
   ]
  },
  {
   "cell_type": "code",
   "execution_count": 6,
   "metadata": {},
   "outputs": [],
   "source": [
    "def normalize (text):\n",
    "    \"\"\"\n",
    "        Função que normaliza os caracteres dos tweets.\n",
    "    \"\"\"\n",
    "    text_lower = text.lower()\n",
    "\n",
    "    punctuation = \"\\@\\w+\\s?|[!-.:?;]\"\n",
    "    pattern = re.compile(punctuation)\n",
    "    text_subbed = re.sub(pattern, '', text_lower)\n",
    "\n",
    "    return text_subbed\n"
   ]
  },
  {
   "source": [
    "### Dicionário de palavras"
   ],
   "cell_type": "markdown",
   "metadata": {}
  },
  {
   "cell_type": "code",
   "execution_count": 7,
   "metadata": {},
   "outputs": [],
   "source": [
    "def extract_words (series):\n",
    "    \"\"\"\n",
    "        Função que extrai as palavras de uma Series.\n",
    "    \"\"\"\n",
    "    split = [line.split() for line in series]\n",
    "    words = [word for line in split for word in line]\n",
    "    \n",
    "    return pd.Series(words)\n"
   ]
  },
  {
   "source": [
    "### Naive-Baies"
   ],
   "cell_type": "markdown",
   "metadata": {}
  },
  {
   "cell_type": "code",
   "execution_count": 8,
   "metadata": {},
   "outputs": [],
   "source": [
    "def P_palavra (palavra, dicio, length):\n",
    "    \"\"\"\n",
    "        Função que calcula a probabilidade de uma palavra dado um dicionário de palavras com suavização por Naive-Bayes.\n",
    "    \"\"\"\n",
    "    ocor = dicio[palavra] if palavra in dicio else 0\n",
    "    prob = (ocor + 1) / (length + len(dicio))\n",
    "\n",
    "    return prob\n"
   ]
  },
  {
   "source": [
    "### Classificador"
   ],
   "cell_type": "markdown",
   "metadata": {}
  },
  {
   "cell_type": "code",
   "execution_count": 9,
   "metadata": {},
   "outputs": [],
   "source": [
    "class classificador:\n",
    "    def __init__ (self, df, data_column, category_column):\n",
    "        self.columns = (data_column, category_column)\n",
    "\n",
    "        data = df[data_column]\n",
    "        words = extract_words(data)\n",
    "        self.length = len(words)\n",
    "\n",
    "        categories = df[category_column].cat.categories\n",
    "\n",
    "        self.categories = {}\n",
    "        for category in categories:\n",
    "            cat_filter = df[category_column] == category\n",
    "            filtered = df.loc[cat_filter]\n",
    "            data = filtered[data_column]\n",
    "            words = extract_words(data)\n",
    "\n",
    "            self.categories[category] = {\n",
    "                \"table\": words.value_counts(),\n",
    "                \"length\": len(words)\n",
    "            }\n",
    "    \n",
    "    def probabilidades (self, frase):\n",
    "        normalized = normalize(frase)\n",
    "        \n",
    "        P_list = []\n",
    "        for category, data in self.categories.items():\n",
    "            table = data[\"table\"]\n",
    "            length = data[\"length\"]\n",
    "            \n",
    "            P_cat = length / self.length\n",
    "            P_frase_dado_cat = 1\n",
    "\n",
    "            for palavra in normalized.split():\n",
    "                P = P_palavra(palavra, table, length)\n",
    "                P_frase_dado_cat *= P\n",
    "\n",
    "            P_cat_dado_frase = P_frase_dado_cat * P_cat\n",
    "            P_list.append((category, P_cat_dado_frase))\n",
    "\n",
    "        return pd.DataFrame(P_list, columns=self.columns)\n",
    "\n",
    "    def classifica (self, frase):\n",
    "        sorted_prob = self.probabilidades(frase).sort_values(by=\"Relevancia\", ascending=False)\n",
    "\n",
    "        return sorted_prob.iloc[0, 0]\n"
   ]
  },
  {
   "cell_type": "markdown",
   "metadata": {},
   "source": [
    "### Criando variáveis"
   ]
  },
  {
   "cell_type": "code",
   "execution_count": 10,
   "metadata": {},
   "outputs": [
    {
     "output_type": "execute_result",
     "data": {
      "text/plain": [
       "                                           Treinamento   Relevancia\n",
       "0    tem um champ no league of legends que se chama...  Irrelevante\n",
       "1    kkkkkkkkkkkkkkkkkkkkkkkkkkkkkkkkkkkkkkkkkkkkkk...  Irrelevante\n",
       "2    a faculdade ta atrapalhando meu desempenho no ...    Relevante\n",
       "3    league of legends é pior do que perder q vida ...    Relevante\n",
       "4      eu te odeio league of legends lixo de jogo lixo    Relevante\n",
       "..                                                 ...          ...\n",
       "295  eu não sei pq eu continuo jogando esse jogo de...    Relevante\n",
       "296  larguei o league of legends vou voltar virar g...    Relevante\n",
       "297                         eu odeio league of legends    Relevante\n",
       "298  esse league of legends é uma puta pediu pra at...    Relevante\n",
       "299           mulheres estou jogando league of legends  Irrelevante\n",
       "\n",
       "[300 rows x 2 columns]"
      ],
      "text/html": "<div>\n<style scoped>\n    .dataframe tbody tr th:only-of-type {\n        vertical-align: middle;\n    }\n\n    .dataframe tbody tr th {\n        vertical-align: top;\n    }\n\n    .dataframe thead th {\n        text-align: right;\n    }\n</style>\n<table border=\"1\" class=\"dataframe\">\n  <thead>\n    <tr style=\"text-align: right;\">\n      <th></th>\n      <th>Treinamento</th>\n      <th>Relevancia</th>\n    </tr>\n  </thead>\n  <tbody>\n    <tr>\n      <th>0</th>\n      <td>tem um champ no league of legends que se chama...</td>\n      <td>Irrelevante</td>\n    </tr>\n    <tr>\n      <th>1</th>\n      <td>kkkkkkkkkkkkkkkkkkkkkkkkkkkkkkkkkkkkkkkkkkkkkk...</td>\n      <td>Irrelevante</td>\n    </tr>\n    <tr>\n      <th>2</th>\n      <td>a faculdade ta atrapalhando meu desempenho no ...</td>\n      <td>Relevante</td>\n    </tr>\n    <tr>\n      <th>3</th>\n      <td>league of legends é pior do que perder q vida ...</td>\n      <td>Relevante</td>\n    </tr>\n    <tr>\n      <th>4</th>\n      <td>eu te odeio league of legends lixo de jogo lixo</td>\n      <td>Relevante</td>\n    </tr>\n    <tr>\n      <th>...</th>\n      <td>...</td>\n      <td>...</td>\n    </tr>\n    <tr>\n      <th>295</th>\n      <td>eu não sei pq eu continuo jogando esse jogo de...</td>\n      <td>Relevante</td>\n    </tr>\n    <tr>\n      <th>296</th>\n      <td>larguei o league of legends vou voltar virar g...</td>\n      <td>Relevante</td>\n    </tr>\n    <tr>\n      <th>297</th>\n      <td>eu odeio league of legends</td>\n      <td>Relevante</td>\n    </tr>\n    <tr>\n      <th>298</th>\n      <td>esse league of legends é uma puta pediu pra at...</td>\n      <td>Relevante</td>\n    </tr>\n    <tr>\n      <th>299</th>\n      <td>mulheres estou jogando league of legends</td>\n      <td>Irrelevante</td>\n    </tr>\n  </tbody>\n</table>\n<p>300 rows × 2 columns</p>\n</div>"
     },
     "metadata": {},
     "execution_count": 10
    }
   ],
   "source": [
    "# Normalização dos tweets\n",
    "train[\"Treinamento\"] = train[\"Treinamento\"].apply(normalize)\n",
    "\n",
    "# Criação das categorias de relevância\n",
    "train.Relevancia = train.Relevancia.astype('category')\n",
    "train.Relevancia.cat.categories = (['Irrelevante','Relevante'])\n",
    "\n",
    "train"
   ]
  },
  {
   "cell_type": "code",
   "execution_count": 11,
   "metadata": {},
   "outputs": [
    {
     "output_type": "execute_result",
     "data": {
      "text/plain": [
       "                                         Treinamento Relevancia\n",
       "2  a faculdade ta atrapalhando meu desempenho no ...  Relevante\n",
       "3  league of legends é pior do que perder q vida ...  Relevante\n",
       "4    eu te odeio league of legends lixo de jogo lixo  Relevante\n",
       "7          league of legends é um jogo podre nojento  Relevante\n",
       "8  as vezes eu acho que o fato de não poder jogar...  Relevante"
      ],
      "text/html": "<div>\n<style scoped>\n    .dataframe tbody tr th:only-of-type {\n        vertical-align: middle;\n    }\n\n    .dataframe tbody tr th {\n        vertical-align: top;\n    }\n\n    .dataframe thead th {\n        text-align: right;\n    }\n</style>\n<table border=\"1\" class=\"dataframe\">\n  <thead>\n    <tr style=\"text-align: right;\">\n      <th></th>\n      <th>Treinamento</th>\n      <th>Relevancia</th>\n    </tr>\n  </thead>\n  <tbody>\n    <tr>\n      <th>2</th>\n      <td>a faculdade ta atrapalhando meu desempenho no ...</td>\n      <td>Relevante</td>\n    </tr>\n    <tr>\n      <th>3</th>\n      <td>league of legends é pior do que perder q vida ...</td>\n      <td>Relevante</td>\n    </tr>\n    <tr>\n      <th>4</th>\n      <td>eu te odeio league of legends lixo de jogo lixo</td>\n      <td>Relevante</td>\n    </tr>\n    <tr>\n      <th>7</th>\n      <td>league of legends é um jogo podre nojento</td>\n      <td>Relevante</td>\n    </tr>\n    <tr>\n      <th>8</th>\n      <td>as vezes eu acho que o fato de não poder jogar...</td>\n      <td>Relevante</td>\n    </tr>\n  </tbody>\n</table>\n</div>"
     },
     "metadata": {},
     "execution_count": 11
    }
   ],
   "source": [
    "relevante = train['Relevancia'] == 'Relevante'\n",
    "train_R = train.loc[relevante]\n",
    "\n",
    "train_R.head()"
   ]
  },
  {
   "cell_type": "code",
   "execution_count": 12,
   "metadata": {},
   "outputs": [
    {
     "output_type": "execute_result",
     "data": {
      "text/plain": [
       "                                          Treinamento   Relevancia\n",
       "0   tem um champ no league of legends que se chama...  Irrelevante\n",
       "1   kkkkkkkkkkkkkkkkkkkkkkkkkkkkkkkkkkkkkkkkkkkkkk...  Irrelevante\n",
       "5   o unico defeito de kim heechul eh ser diamante...  Irrelevante\n",
       "6   league of legends 4 segredos para chegar ao me...  Irrelevante\n",
       "10  oi tô ao vivo jogando league of legends https/...  Irrelevante"
      ],
      "text/html": "<div>\n<style scoped>\n    .dataframe tbody tr th:only-of-type {\n        vertical-align: middle;\n    }\n\n    .dataframe tbody tr th {\n        vertical-align: top;\n    }\n\n    .dataframe thead th {\n        text-align: right;\n    }\n</style>\n<table border=\"1\" class=\"dataframe\">\n  <thead>\n    <tr style=\"text-align: right;\">\n      <th></th>\n      <th>Treinamento</th>\n      <th>Relevancia</th>\n    </tr>\n  </thead>\n  <tbody>\n    <tr>\n      <th>0</th>\n      <td>tem um champ no league of legends que se chama...</td>\n      <td>Irrelevante</td>\n    </tr>\n    <tr>\n      <th>1</th>\n      <td>kkkkkkkkkkkkkkkkkkkkkkkkkkkkkkkkkkkkkkkkkkkkkk...</td>\n      <td>Irrelevante</td>\n    </tr>\n    <tr>\n      <th>5</th>\n      <td>o unico defeito de kim heechul eh ser diamante...</td>\n      <td>Irrelevante</td>\n    </tr>\n    <tr>\n      <th>6</th>\n      <td>league of legends 4 segredos para chegar ao me...</td>\n      <td>Irrelevante</td>\n    </tr>\n    <tr>\n      <th>10</th>\n      <td>oi tô ao vivo jogando league of legends https/...</td>\n      <td>Irrelevante</td>\n    </tr>\n  </tbody>\n</table>\n</div>"
     },
     "metadata": {},
     "execution_count": 12
    }
   ],
   "source": [
    "irrelevante = train['Relevancia'] == 'Irrelevante'\n",
    "train_I = train.loc[irrelevante]\n",
    "\n",
    "train_I.head()"
   ]
  },
  {
   "cell_type": "code",
   "execution_count": 13,
   "metadata": {},
   "outputs": [],
   "source": [
    "classificador_tweets_lol = classificador(train, \"Treinamento\", \"Relevancia\")"
   ]
  },
  {
   "cell_type": "code",
   "execution_count": 14,
   "metadata": {},
   "outputs": [
    {
     "output_type": "execute_result",
     "data": {
      "text/plain": [
       "   Treinamento    Relevancia\n",
       "1    Relevante  2.114103e-11\n",
       "0  Irrelevante  5.880212e-12"
      ],
      "text/html": "<div>\n<style scoped>\n    .dataframe tbody tr th:only-of-type {\n        vertical-align: middle;\n    }\n\n    .dataframe tbody tr th {\n        vertical-align: top;\n    }\n\n    .dataframe thead th {\n        text-align: right;\n    }\n</style>\n<table border=\"1\" class=\"dataframe\">\n  <thead>\n    <tr style=\"text-align: right;\">\n      <th></th>\n      <th>Treinamento</th>\n      <th>Relevancia</th>\n    </tr>\n  </thead>\n  <tbody>\n    <tr>\n      <th>1</th>\n      <td>Relevante</td>\n      <td>2.114103e-11</td>\n    </tr>\n    <tr>\n      <th>0</th>\n      <td>Irrelevante</td>\n      <td>5.880212e-12</td>\n    </tr>\n  </tbody>\n</table>\n</div>"
     },
     "metadata": {},
     "execution_count": 14
    }
   ],
   "source": [
    "frase = \"lalalal bibi tubss\"\n",
    "\n",
    "P_frase = classificador_tweets_lol.probabilidades(frase)\n",
    "\n",
    "P_frase.sort_values(by=\"Relevancia\", ascending=False).head()"
   ]
  },
  {
   "cell_type": "markdown",
   "metadata": {},
   "source": [
    "### Teste"
   ]
  },
  {
   "cell_type": "code",
   "execution_count": 15,
   "metadata": {},
   "outputs": [
    {
     "output_type": "execute_result",
     "data": {
      "text/plain": [
       "                                                 Teste   Relevancia\n",
       "0    uma call do supermercado vendo anime e a outra...  Irrelevante\n",
       "1    pulgapreta leagueoflegends nimotv pulgapreta e...  Irrelevante\n",
       "2    fico de cara que vem uns zé buceta fala ah mas...  Irrelevante\n",
       "3    esquece league of legends e baixa algum moba d...  Irrelevante\n",
       "4          saudade de jogar league of legends com elas    Relevante\n",
       "..                                                 ...          ...\n",
       "195  depois do assalto em valença que levaram meu c...    Relevante\n",
       "196  o time de league of legends da furb um dos lin...  Irrelevante\n",
       "197  mal vejo a hora de chegar em casa pra jogar aq...    Relevante\n",
       "198        como é bom xingar no jogo league of legends    Relevante\n",
       "199  league of legends tem o poder de acabar com me...    Relevante\n",
       "\n",
       "[200 rows x 2 columns]"
      ],
      "text/html": "<div>\n<style scoped>\n    .dataframe tbody tr th:only-of-type {\n        vertical-align: middle;\n    }\n\n    .dataframe tbody tr th {\n        vertical-align: top;\n    }\n\n    .dataframe thead th {\n        text-align: right;\n    }\n</style>\n<table border=\"1\" class=\"dataframe\">\n  <thead>\n    <tr style=\"text-align: right;\">\n      <th></th>\n      <th>Teste</th>\n      <th>Relevancia</th>\n    </tr>\n  </thead>\n  <tbody>\n    <tr>\n      <th>0</th>\n      <td>uma call do supermercado vendo anime e a outra...</td>\n      <td>Irrelevante</td>\n    </tr>\n    <tr>\n      <th>1</th>\n      <td>pulgapreta leagueoflegends nimotv pulgapreta e...</td>\n      <td>Irrelevante</td>\n    </tr>\n    <tr>\n      <th>2</th>\n      <td>fico de cara que vem uns zé buceta fala ah mas...</td>\n      <td>Irrelevante</td>\n    </tr>\n    <tr>\n      <th>3</th>\n      <td>esquece league of legends e baixa algum moba d...</td>\n      <td>Irrelevante</td>\n    </tr>\n    <tr>\n      <th>4</th>\n      <td>saudade de jogar league of legends com elas</td>\n      <td>Relevante</td>\n    </tr>\n    <tr>\n      <th>...</th>\n      <td>...</td>\n      <td>...</td>\n    </tr>\n    <tr>\n      <th>195</th>\n      <td>depois do assalto em valença que levaram meu c...</td>\n      <td>Relevante</td>\n    </tr>\n    <tr>\n      <th>196</th>\n      <td>o time de league of legends da furb um dos lin...</td>\n      <td>Irrelevante</td>\n    </tr>\n    <tr>\n      <th>197</th>\n      <td>mal vejo a hora de chegar em casa pra jogar aq...</td>\n      <td>Relevante</td>\n    </tr>\n    <tr>\n      <th>198</th>\n      <td>como é bom xingar no jogo league of legends</td>\n      <td>Relevante</td>\n    </tr>\n    <tr>\n      <th>199</th>\n      <td>league of legends tem o poder de acabar com me...</td>\n      <td>Relevante</td>\n    </tr>\n  </tbody>\n</table>\n<p>200 rows × 2 columns</p>\n</div>"
     },
     "metadata": {},
     "execution_count": 15
    }
   ],
   "source": [
    "test.Relevancia = test.Relevancia.astype('category')\n",
    "test.Relevancia.cat.categories = (['Irrelevante','Relevante'])\n",
    "\n",
    "test['Teste'] = test['Teste'].apply(normalize)\n",
    "test"
   ]
  },
  {
   "cell_type": "markdown",
   "metadata": {},
   "source": [
    "### P ser relevante ou irrelevante\n"
   ]
  },
  {
   "cell_type": "markdown",
   "metadata": {},
   "source": [
    "___\n",
    "### Verificando a performance do Classificador\n",
    "\n",
    "Agora você deve testar o seu classificador com a base de Testes."
   ]
  },
  {
   "cell_type": "code",
   "execution_count": 16,
   "metadata": {},
   "outputs": [
    {
     "output_type": "execute_result",
     "data": {
      "text/plain": [
       "                                                 Teste   Relevancia  \\\n",
       "0    uma call do supermercado vendo anime e a outra...  Irrelevante   \n",
       "1    pulgapreta leagueoflegends nimotv pulgapreta e...  Irrelevante   \n",
       "2    fico de cara que vem uns zé buceta fala ah mas...  Irrelevante   \n",
       "3    esquece league of legends e baixa algum moba d...  Irrelevante   \n",
       "4          saudade de jogar league of legends com elas    Relevante   \n",
       "..                                                 ...          ...   \n",
       "195  depois do assalto em valença que levaram meu c...    Relevante   \n",
       "196  o time de league of legends da furb um dos lin...  Irrelevante   \n",
       "197  mal vejo a hora de chegar em casa pra jogar aq...    Relevante   \n",
       "198        como é bom xingar no jogo league of legends    Relevante   \n",
       "199  league of legends tem o poder de acabar com me...    Relevante   \n",
       "\n",
       "        verifica  \n",
       "0      Relevante  \n",
       "1    Irrelevante  \n",
       "2      Relevante  \n",
       "3      Relevante  \n",
       "4      Relevante  \n",
       "..           ...  \n",
       "195    Relevante  \n",
       "196    Relevante  \n",
       "197    Relevante  \n",
       "198    Relevante  \n",
       "199    Relevante  \n",
       "\n",
       "[200 rows x 3 columns]"
      ],
      "text/html": "<div>\n<style scoped>\n    .dataframe tbody tr th:only-of-type {\n        vertical-align: middle;\n    }\n\n    .dataframe tbody tr th {\n        vertical-align: top;\n    }\n\n    .dataframe thead th {\n        text-align: right;\n    }\n</style>\n<table border=\"1\" class=\"dataframe\">\n  <thead>\n    <tr style=\"text-align: right;\">\n      <th></th>\n      <th>Teste</th>\n      <th>Relevancia</th>\n      <th>verifica</th>\n    </tr>\n  </thead>\n  <tbody>\n    <tr>\n      <th>0</th>\n      <td>uma call do supermercado vendo anime e a outra...</td>\n      <td>Irrelevante</td>\n      <td>Relevante</td>\n    </tr>\n    <tr>\n      <th>1</th>\n      <td>pulgapreta leagueoflegends nimotv pulgapreta e...</td>\n      <td>Irrelevante</td>\n      <td>Irrelevante</td>\n    </tr>\n    <tr>\n      <th>2</th>\n      <td>fico de cara que vem uns zé buceta fala ah mas...</td>\n      <td>Irrelevante</td>\n      <td>Relevante</td>\n    </tr>\n    <tr>\n      <th>3</th>\n      <td>esquece league of legends e baixa algum moba d...</td>\n      <td>Irrelevante</td>\n      <td>Relevante</td>\n    </tr>\n    <tr>\n      <th>4</th>\n      <td>saudade de jogar league of legends com elas</td>\n      <td>Relevante</td>\n      <td>Relevante</td>\n    </tr>\n    <tr>\n      <th>...</th>\n      <td>...</td>\n      <td>...</td>\n      <td>...</td>\n    </tr>\n    <tr>\n      <th>195</th>\n      <td>depois do assalto em valença que levaram meu c...</td>\n      <td>Relevante</td>\n      <td>Relevante</td>\n    </tr>\n    <tr>\n      <th>196</th>\n      <td>o time de league of legends da furb um dos lin...</td>\n      <td>Irrelevante</td>\n      <td>Relevante</td>\n    </tr>\n    <tr>\n      <th>197</th>\n      <td>mal vejo a hora de chegar em casa pra jogar aq...</td>\n      <td>Relevante</td>\n      <td>Relevante</td>\n    </tr>\n    <tr>\n      <th>198</th>\n      <td>como é bom xingar no jogo league of legends</td>\n      <td>Relevante</td>\n      <td>Relevante</td>\n    </tr>\n    <tr>\n      <th>199</th>\n      <td>league of legends tem o poder de acabar com me...</td>\n      <td>Relevante</td>\n      <td>Relevante</td>\n    </tr>\n  </tbody>\n</table>\n<p>200 rows × 3 columns</p>\n</div>"
     },
     "metadata": {},
     "execution_count": 16
    }
   ],
   "source": [
    "test['verifica'] = test['Teste'].apply(classificador_tweets_lol.classifica)\n",
    "test"
   ]
  },
  {
   "cell_type": "markdown",
   "metadata": {},
   "source": [
    "___\n",
    "### Concluindo"
   ]
  },
  {
   "cell_type": "code",
   "execution_count": null,
   "metadata": {},
   "outputs": [],
   "source": []
  },
  {
   "cell_type": "code",
   "execution_count": null,
   "metadata": {},
   "outputs": [],
   "source": []
  },
  {
   "cell_type": "code",
   "execution_count": null,
   "metadata": {},
   "outputs": [],
   "source": []
  },
  {
   "cell_type": "markdown",
   "metadata": {},
   "source": [
    "___\n",
    "### Qualidade do Classificador a partir de novas separações dos tweets entre Treinamento e Teste\n",
    "\n",
    "Caso for fazer esse item do Projeto"
   ]
  },
  {
   "cell_type": "code",
   "execution_count": null,
   "metadata": {},
   "outputs": [],
   "source": []
  },
  {
   "cell_type": "code",
   "execution_count": null,
   "metadata": {},
   "outputs": [],
   "source": []
  },
  {
   "cell_type": "code",
   "execution_count": null,
   "metadata": {},
   "outputs": [],
   "source": []
  },
  {
   "cell_type": "markdown",
   "metadata": {},
   "source": [
    "___\n",
    "## Aperfeiçoamento:\n",
    "\n",
    "Os trabalhos vão evoluir em conceito dependendo da quantidade de itens avançados:\n",
    "\n",
    "* Limpar: \\n, :, \", ', (, ), etc SEM remover emojis\n",
    "* Corrigir separação de espaços entre palavras e emojis ou entre emojis e emojis\n",
    "* Propor outras limpezas e transformações que não afetem a qualidade da informação ou classificação\n",
    "* Criar categorias intermediárias de relevância baseadas na probabilidade: ex.: muito relevante, relevante, neutro, irrelevante, muito irrelevante (3 categorias: C, mais categorias conta para B)\n",
    "* Explicar por que não posso usar o próprio classificador para gerar mais amostras de treinamento\n",
    "* Propor diferentes cenários para Naïve Bayes fora do contexto do projeto\n",
    "* Sugerir e explicar melhorias reais com indicações concretas de como implementar (indicar como fazer e indicar material de pesquisa)\n"
   ]
  },
  {
   "cell_type": "markdown",
   "metadata": {},
   "source": [
    "___\n",
    "## Referências"
   ]
  },
  {
   "cell_type": "markdown",
   "metadata": {},
   "source": [
    "[Naive Bayes and Text Classification](https://arxiv.org/pdf/1410.5329.pdf)  **Mais completo**\n",
    "\n",
    "[A practical explanation of a Naive Bayes Classifier](https://monkeylearn.com/blog/practical-explanation-naive-bayes-classifier/) **Mais simples**"
   ]
  }
 ],
 "metadata": {
  "kernelspec": {
   "display_name": "Python 3",
   "language": "python",
   "name": "python3"
  },
  "language_info": {
   "codemirror_mode": {
    "name": "ipython",
    "version": 3
   },
   "file_extension": ".py",
   "mimetype": "text/x-python",
   "name": "python",
   "nbconvert_exporter": "python",
   "pygments_lexer": "ipython3",
   "version": "3.8.3-final"
  }
 },
 "nbformat": 4,
 "nbformat_minor": 4
}