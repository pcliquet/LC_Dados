{
 "cells": [
  {
   "cell_type": "markdown",
   "metadata": {},
   "source": [
    "# Projeto 1 - Ciência dos Dados"
   ]
  },
  {
   "cell_type": "markdown",
   "metadata": {},
   "source": [
    "Nome: Pedro Cliquet Amaral\n",
    "\n",
    "Nome: Luciano Felix Dias"
   ]
  },
  {
   "cell_type": "markdown",
   "metadata": {},
   "source": [
    "Atenção: Serão permitidos grupos de três pessoas, mas com uma rubrica mais exigente. Grupos deste tamanho precisarão fazer um questionário de avaliação de trabalho em equipe"
   ]
  },
  {
   "cell_type": "markdown",
   "metadata": {},
   "source": [
    "### Projeto\n"
   ]
  },
  {
   "cell_type": "markdown",
   "metadata": {},
   "source": [
    "No projeto 1, iremos desenvoler um classificador de tweets a partir de um produto, que nos escolhemos o jogo League of Legends. Com base no que aprendemos durante as aulas de Ciência de Dados, iremos coletar tweets e usa-los para ensinar nossa maquina o que é relevante ou irrelevante em relação ao jogo."
   ]
  },
  {
   "cell_type": "markdown",
   "metadata": {},
   "source": [
    "### 1.1 Coleta e classificação"
   ]
  },
  {
   "cell_type": "markdown",
   "metadata": {},
   "source": [
    "Usaremos um arquivo do excel para salvar o tweets coletados. Após a coleta, classificaremos manualmente a relevância deles."
   ]
  },
  {
   "cell_type": "markdown",
   "metadata": {},
   "source": [
    "___\n",
    "Carregando algumas bibliotecas:"
   ]
  },
  {
   "cell_type": "code",
   "execution_count": 261,
   "metadata": {},
   "outputs": [],
   "source": [
    "%matplotlib inline\n",
    "import pandas as pd\n",
    "import matplotlib.pyplot as plt\n",
    "import numpy as np\n",
    "import os\n",
    "import re\n",
    "from numpy import random"
   ]
  },
  {
   "cell_type": "code",
   "execution_count": 114,
   "metadata": {
    "scrolled": false
   },
   "outputs": [
    {
     "name": "stdout",
     "output_type": "stream",
     "text": [
      "Esperamos trabalhar no diretório\n",
      "C:\\Users\\Cliquet\\Documents\\Ciencia de Dados\\LC_Dados\n"
     ]
    }
   ],
   "source": [
    "print('Esperamos trabalhar no diretório')\n",
    "print(os.getcwd())"
   ]
  },
  {
   "cell_type": "markdown",
   "metadata": {},
   "source": [
    "Carregando a base de dados com os tweets classificados como relevantes e não relevantes:"
   ]
  },
  {
   "cell_type": "code",
   "execution_count": 115,
   "metadata": {},
   "outputs": [],
   "source": [
    "filename = 'League of Legends_1.xlsx'"
   ]
  },
  {
   "cell_type": "code",
   "execution_count": 116,
   "metadata": {},
   "outputs": [
    {
     "data": {
      "text/html": [
       "<div>\n",
       "<style scoped>\n",
       "    .dataframe tbody tr th:only-of-type {\n",
       "        vertical-align: middle;\n",
       "    }\n",
       "\n",
       "    .dataframe tbody tr th {\n",
       "        vertical-align: top;\n",
       "    }\n",
       "\n",
       "    .dataframe thead th {\n",
       "        text-align: right;\n",
       "    }\n",
       "</style>\n",
       "<table border=\"1\" class=\"dataframe\">\n",
       "  <thead>\n",
       "    <tr style=\"text-align: right;\">\n",
       "      <th></th>\n",
       "      <th>Treinamento</th>\n",
       "      <th>Relevancia</th>\n",
       "    </tr>\n",
       "  </thead>\n",
       "  <tbody>\n",
       "    <tr>\n",
       "      <th>0</th>\n",
       "      <td>@aakkari @furia tem um champ no league of lege...</td>\n",
       "      <td>0</td>\n",
       "    </tr>\n",
       "    <tr>\n",
       "      <th>1</th>\n",
       "      <td>@raylerchil @noideapraisso @paulokogos_ofc kkk...</td>\n",
       "      <td>0</td>\n",
       "    </tr>\n",
       "    <tr>\n",
       "      <th>2</th>\n",
       "      <td>a faculdade ta atrapalhando meu desempenho no ...</td>\n",
       "      <td>1</td>\n",
       "    </tr>\n",
       "    <tr>\n",
       "      <th>3</th>\n",
       "      <td>league of legends é pior do que perder q vida ...</td>\n",
       "      <td>1</td>\n",
       "    </tr>\n",
       "    <tr>\n",
       "      <th>4</th>\n",
       "      <td>eu te odeio league of legends lixo de jogo lixo</td>\n",
       "      <td>1</td>\n",
       "    </tr>\n",
       "  </tbody>\n",
       "</table>\n",
       "</div>"
      ],
      "text/plain": [
       "                                         Treinamento  Relevancia\n",
       "0  @aakkari @furia tem um champ no league of lege...           0\n",
       "1  @raylerchil @noideapraisso @paulokogos_ofc kkk...           0\n",
       "2  a faculdade ta atrapalhando meu desempenho no ...           1\n",
       "3  league of legends é pior do que perder q vida ...           1\n",
       "4    eu te odeio league of legends lixo de jogo lixo           1"
      ]
     },
     "execution_count": 116,
     "metadata": {},
     "output_type": "execute_result"
    }
   ],
   "source": [
    "train = pd.read_excel(filename)\n",
    "train.head(5)"
   ]
  },
  {
   "cell_type": "code",
   "execution_count": 117,
   "metadata": {},
   "outputs": [
    {
     "data": {
      "text/html": [
       "<div>\n",
       "<style scoped>\n",
       "    .dataframe tbody tr th:only-of-type {\n",
       "        vertical-align: middle;\n",
       "    }\n",
       "\n",
       "    .dataframe tbody tr th {\n",
       "        vertical-align: top;\n",
       "    }\n",
       "\n",
       "    .dataframe thead th {\n",
       "        text-align: right;\n",
       "    }\n",
       "</style>\n",
       "<table border=\"1\" class=\"dataframe\">\n",
       "  <thead>\n",
       "    <tr style=\"text-align: right;\">\n",
       "      <th></th>\n",
       "      <th>Teste</th>\n",
       "      <th>Relevancia</th>\n",
       "    </tr>\n",
       "  </thead>\n",
       "  <tbody>\n",
       "    <tr>\n",
       "      <th>0</th>\n",
       "      <td>uma call do supermercado vendo anime e a outra...</td>\n",
       "      <td>0</td>\n",
       "    </tr>\n",
       "    <tr>\n",
       "      <th>1</th>\n",
       "      <td>#pulgapreta #leagueoflegends #nimotv pulgapret...</td>\n",
       "      <td>0</td>\n",
       "    </tr>\n",
       "    <tr>\n",
       "      <th>2</th>\n",
       "      <td>fico de cara que vem uns zé buceta fala \"ah ma...</td>\n",
       "      <td>0</td>\n",
       "    </tr>\n",
       "    <tr>\n",
       "      <th>3</th>\n",
       "      <td>@hastadvalorant esquece league of legends e ba...</td>\n",
       "      <td>0</td>\n",
       "    </tr>\n",
       "    <tr>\n",
       "      <th>4</th>\n",
       "      <td>saudade de jogar league of legends com elas</td>\n",
       "      <td>1</td>\n",
       "    </tr>\n",
       "  </tbody>\n",
       "</table>\n",
       "</div>"
      ],
      "text/plain": [
       "                                               Teste  Relevancia\n",
       "0  uma call do supermercado vendo anime e a outra...           0\n",
       "1  #pulgapreta #leagueoflegends #nimotv pulgapret...           0\n",
       "2  fico de cara que vem uns zé buceta fala \"ah ma...           0\n",
       "3  @hastadvalorant esquece league of legends e ba...           0\n",
       "4        saudade de jogar league of legends com elas           1"
      ]
     },
     "execution_count": 117,
     "metadata": {},
     "output_type": "execute_result"
    }
   ],
   "source": [
    "test = pd.read_excel(filename, sheet_name = 'Teste')\n",
    "test.head(5)"
   ]
  },
  {
   "cell_type": "markdown",
   "metadata": {},
   "source": [
    "___\n",
    "## Classificador automático de sentimento\n"
   ]
  },
  {
   "cell_type": "markdown",
   "metadata": {},
   "source": [
    "Para classificar a relevância consideramos elogios, convites para jogar, críticas e formas de engajamento. Os tweets relevantes são: os elogios, críticas e convites para jogar. Já os irrelevantes são: engajamento em que a pessoa utiliza o produto para auto-divulgação e comentários com conteúdo do jogo."
   ]
  },
  {
   "cell_type": "markdown",
   "metadata": {},
   "source": [
    "### Cleaner"
   ]
  },
  {
   "cell_type": "code",
   "execution_count": 118,
   "metadata": {},
   "outputs": [],
   "source": [
    "def normalize (text):\n",
    "    \"\"\"\n",
    "        Função que normaliza os caracteres dos tweets.\n",
    "    \"\"\"\n",
    "    text_lower = text.lower()\n",
    "    matches = [\n",
    "        R\"[!-.\\:\\;\\\"\\'/\\\\]\",         # Pontuações\n",
    "        R\"\\b\\w{,2}\\b\",               # Palavras curtas\n",
    "        R\"[@#]\\S+\",                  # Marcações e Hashtags\n",
    "        R\"https?:\\/\\/\\S+|www.\\S+\"    # Links\n",
    "    ]\n",
    "    match_pattern = \"|\".join(matches)\n",
    "    pattern = re.compile(match_pattern)\n",
    "    normalized = re.sub(pattern, '', text_lower)\n",
    "    return normalized"
   ]
  },
  {
   "cell_type": "markdown",
   "metadata": {},
   "source": [
    "### Dicionário de palavras"
   ]
  },
  {
   "cell_type": "code",
   "execution_count": 119,
   "metadata": {},
   "outputs": [],
   "source": [
    "def extract_words (series):\n",
    "    \"\"\"\n",
    "        Função que extrai as palavras de uma Series.\n",
    "    \"\"\"\n",
    "    split = [line.split() for line in series]\n",
    "    words = [word for line in split for word in line]\n",
    "    \n",
    "    return pd.Series(words)\n"
   ]
  },
  {
   "cell_type": "markdown",
   "metadata": {},
   "source": [
    "### Naive-Baies"
   ]
  },
  {
   "cell_type": "code",
   "execution_count": 120,
   "metadata": {},
   "outputs": [],
   "source": [
    "def P_palavra (palavra, dicio, length):\n",
    "    \"\"\"\n",
    "        Função que calcula a probabilidade de uma palavra dado um dicionário de palavras com suavização por Naive-Bayes.\n",
    "    \"\"\"\n",
    "    ocor = dicio[palavra] if palavra in dicio else 0\n",
    "    prob = (ocor + 1) / (length + len(dicio))\n",
    "\n",
    "    return prob\n"
   ]
  },
  {
   "cell_type": "markdown",
   "metadata": {},
   "source": [
    "### Classificador"
   ]
  },
  {
   "cell_type": "code",
   "execution_count": 121,
   "metadata": {},
   "outputs": [],
   "source": [
    "class classificador:\n",
    "    def __init__ (self, df, data_column, category_column):\n",
    "        self.columns = (data_column, category_column)\n",
    "\n",
    "        data = df[data_column]\n",
    "        words = extract_words(data)\n",
    "        self.length = len(words)\n",
    "\n",
    "        categories = df[category_column].cat.categories\n",
    "\n",
    "        self.categories = {}\n",
    "        for category in categories:\n",
    "            cat_filter = df[category_column] == category\n",
    "            filtered = df.loc[cat_filter]\n",
    "            data = filtered[data_column]\n",
    "            words = extract_words(data)\n",
    "\n",
    "            self.categories[category] = {\n",
    "                \"table\": words.value_counts(),\n",
    "                \"length\": len(words)\n",
    "            }\n",
    "    \n",
    "    def probabilidades (self, frase):\n",
    "        normalized = normalize(frase)\n",
    "        \n",
    "        P_list = []\n",
    "        for category, data in self.categories.items():\n",
    "            table = data[\"table\"]\n",
    "            length = data[\"length\"]\n",
    "            \n",
    "            P_cat = length / self.length\n",
    "            P_frase_dado_cat = 1\n",
    "\n",
    "            for palavra in normalized.split():\n",
    "                P = P_palavra(palavra, table, length)\n",
    "                P_frase_dado_cat *= P\n",
    "\n",
    "            P_cat_dado_frase = P_frase_dado_cat * P_cat\n",
    "            P_list.append((category, P_cat_dado_frase))\n",
    "\n",
    "        return pd.DataFrame(P_list, columns=self.columns)\n",
    "\n",
    "    def classifica (self, frase):\n",
    "        sorted_prob = self.probabilidades(frase).sort_values(by=\"Relevancia\", ascending=False)\n",
    "\n",
    "        return sorted_prob.iloc[0, 0]\n"
   ]
  },
  {
   "cell_type": "markdown",
   "metadata": {},
   "source": [
    "### Criando variáveis"
   ]
  },
  {
   "cell_type": "code",
   "execution_count": 122,
   "metadata": {},
   "outputs": [
    {
     "data": {
      "text/html": [
       "<div>\n",
       "<style scoped>\n",
       "    .dataframe tbody tr th:only-of-type {\n",
       "        vertical-align: middle;\n",
       "    }\n",
       "\n",
       "    .dataframe tbody tr th {\n",
       "        vertical-align: top;\n",
       "    }\n",
       "\n",
       "    .dataframe thead th {\n",
       "        text-align: right;\n",
       "    }\n",
       "</style>\n",
       "<table border=\"1\" class=\"dataframe\">\n",
       "  <thead>\n",
       "    <tr style=\"text-align: right;\">\n",
       "      <th></th>\n",
       "      <th>Treinamento</th>\n",
       "      <th>Relevancia</th>\n",
       "    </tr>\n",
       "  </thead>\n",
       "  <tbody>\n",
       "    <tr>\n",
       "      <th>0</th>\n",
       "      <td>tem  champ  league  legends que  chama akali...</td>\n",
       "      <td>Irrelevante</td>\n",
       "    </tr>\n",
       "    <tr>\n",
       "      <th>1</th>\n",
       "      <td>kkkkkkkkkkkkkkkkkkkkkkkkkkkkkkkkkkkkkkkkkkk...</td>\n",
       "      <td>Irrelevante</td>\n",
       "    </tr>\n",
       "    <tr>\n",
       "      <th>2</th>\n",
       "      <td>faculdade  atrapalhando meu desempenho  leagu...</td>\n",
       "      <td>Relevante</td>\n",
       "    </tr>\n",
       "    <tr>\n",
       "      <th>3</th>\n",
       "      <td>league  legends  pior  que perder  vida sim</td>\n",
       "      <td>Relevante</td>\n",
       "    </tr>\n",
       "    <tr>\n",
       "      <th>4</th>\n",
       "      <td>odeio league  legends lixo  jogo lixo</td>\n",
       "      <td>Relevante</td>\n",
       "    </tr>\n",
       "    <tr>\n",
       "      <th>...</th>\n",
       "      <td>...</td>\n",
       "      <td>...</td>\n",
       "    </tr>\n",
       "    <tr>\n",
       "      <th>295</th>\n",
       "      <td>não sei   continuo jogando esse jogo desgraça...</td>\n",
       "      <td>Relevante</td>\n",
       "    </tr>\n",
       "    <tr>\n",
       "      <th>296</th>\n",
       "      <td>larguei  league  legends vou voltar virar gente</td>\n",
       "      <td>Relevante</td>\n",
       "    </tr>\n",
       "    <tr>\n",
       "      <th>297</th>\n",
       "      <td>odeio league  legends</td>\n",
       "      <td>Relevante</td>\n",
       "    </tr>\n",
       "    <tr>\n",
       "      <th>298</th>\n",
       "      <td>esse league  legends  uma puta pediu pra atual...</td>\n",
       "      <td>Relevante</td>\n",
       "    </tr>\n",
       "    <tr>\n",
       "      <th>299</th>\n",
       "      <td>mulheres estou jogando league  legends</td>\n",
       "      <td>Irrelevante</td>\n",
       "    </tr>\n",
       "  </tbody>\n",
       "</table>\n",
       "<p>300 rows × 2 columns</p>\n",
       "</div>"
      ],
      "text/plain": [
       "                                           Treinamento   Relevancia\n",
       "0      tem  champ  league  legends que  chama akali...  Irrelevante\n",
       "1       kkkkkkkkkkkkkkkkkkkkkkkkkkkkkkkkkkkkkkkkkkk...  Irrelevante\n",
       "2     faculdade  atrapalhando meu desempenho  leagu...    Relevante\n",
       "3         league  legends  pior  que perder  vida sim     Relevante\n",
       "4                odeio league  legends lixo  jogo lixo    Relevante\n",
       "..                                                 ...          ...\n",
       "295   não sei   continuo jogando esse jogo desgraça...    Relevante\n",
       "296    larguei  league  legends vou voltar virar gente    Relevante\n",
       "297                              odeio league  legends    Relevante\n",
       "298  esse league  legends  uma puta pediu pra atual...    Relevante\n",
       "299             mulheres estou jogando league  legends  Irrelevante\n",
       "\n",
       "[300 rows x 2 columns]"
      ]
     },
     "execution_count": 122,
     "metadata": {},
     "output_type": "execute_result"
    }
   ],
   "source": [
    "# Normalização dos tweets\n",
    "train[\"Treinamento\"] = train[\"Treinamento\"].apply(normalize)\n",
    "\n",
    "# Criação das categorias de relevância\n",
    "train.Relevancia = train.Relevancia.astype('category')\n",
    "train.Relevancia.cat.categories = (['Irrelevante','Relevante'])\n",
    "\n",
    "train"
   ]
  },
  {
   "cell_type": "code",
   "execution_count": 123,
   "metadata": {},
   "outputs": [
    {
     "data": {
      "text/html": [
       "<div>\n",
       "<style scoped>\n",
       "    .dataframe tbody tr th:only-of-type {\n",
       "        vertical-align: middle;\n",
       "    }\n",
       "\n",
       "    .dataframe tbody tr th {\n",
       "        vertical-align: top;\n",
       "    }\n",
       "\n",
       "    .dataframe thead th {\n",
       "        text-align: right;\n",
       "    }\n",
       "</style>\n",
       "<table border=\"1\" class=\"dataframe\">\n",
       "  <thead>\n",
       "    <tr style=\"text-align: right;\">\n",
       "      <th></th>\n",
       "      <th>Treinamento</th>\n",
       "      <th>Relevancia</th>\n",
       "    </tr>\n",
       "  </thead>\n",
       "  <tbody>\n",
       "    <tr>\n",
       "      <th>2</th>\n",
       "      <td>faculdade  atrapalhando meu desempenho  leagu...</td>\n",
       "      <td>Relevante</td>\n",
       "    </tr>\n",
       "    <tr>\n",
       "      <th>3</th>\n",
       "      <td>league  legends  pior  que perder  vida sim</td>\n",
       "      <td>Relevante</td>\n",
       "    </tr>\n",
       "    <tr>\n",
       "      <th>4</th>\n",
       "      <td>odeio league  legends lixo  jogo lixo</td>\n",
       "      <td>Relevante</td>\n",
       "    </tr>\n",
       "    <tr>\n",
       "      <th>7</th>\n",
       "      <td>league  legends   jogo podre nojento</td>\n",
       "      <td>Relevante</td>\n",
       "    </tr>\n",
       "    <tr>\n",
       "      <th>8</th>\n",
       "      <td>vezes  acho que  fato  não poder jogar league...</td>\n",
       "      <td>Relevante</td>\n",
       "    </tr>\n",
       "  </tbody>\n",
       "</table>\n",
       "</div>"
      ],
      "text/plain": [
       "                                         Treinamento Relevancia\n",
       "2   faculdade  atrapalhando meu desempenho  leagu...  Relevante\n",
       "3       league  legends  pior  que perder  vida sim   Relevante\n",
       "4              odeio league  legends lixo  jogo lixo  Relevante\n",
       "7               league  legends   jogo podre nojento  Relevante\n",
       "8   vezes  acho que  fato  não poder jogar league...  Relevante"
      ]
     },
     "execution_count": 123,
     "metadata": {},
     "output_type": "execute_result"
    }
   ],
   "source": [
    "relevante = train['Relevancia'] == 'Relevante'\n",
    "train_R = train.loc[relevante]\n",
    "\n",
    "train_R.head()"
   ]
  },
  {
   "cell_type": "code",
   "execution_count": 124,
   "metadata": {},
   "outputs": [
    {
     "data": {
      "text/html": [
       "<div>\n",
       "<style scoped>\n",
       "    .dataframe tbody tr th:only-of-type {\n",
       "        vertical-align: middle;\n",
       "    }\n",
       "\n",
       "    .dataframe tbody tr th {\n",
       "        vertical-align: top;\n",
       "    }\n",
       "\n",
       "    .dataframe thead th {\n",
       "        text-align: right;\n",
       "    }\n",
       "</style>\n",
       "<table border=\"1\" class=\"dataframe\">\n",
       "  <thead>\n",
       "    <tr style=\"text-align: right;\">\n",
       "      <th></th>\n",
       "      <th>Treinamento</th>\n",
       "      <th>Relevancia</th>\n",
       "    </tr>\n",
       "  </thead>\n",
       "  <tbody>\n",
       "    <tr>\n",
       "      <th>0</th>\n",
       "      <td>tem  champ  league  legends que  chama akali...</td>\n",
       "      <td>Irrelevante</td>\n",
       "    </tr>\n",
       "    <tr>\n",
       "      <th>1</th>\n",
       "      <td>kkkkkkkkkkkkkkkkkkkkkkkkkkkkkkkkkkkkkkkkkkk...</td>\n",
       "      <td>Irrelevante</td>\n",
       "    </tr>\n",
       "    <tr>\n",
       "      <th>5</th>\n",
       "      <td>unico defeito  kim heechul  ser diamante  jog...</td>\n",
       "      <td>Irrelevante</td>\n",
       "    </tr>\n",
       "    <tr>\n",
       "      <th>6</th>\n",
       "      <td>league  legends  segredos para chegar  mestre ...</td>\n",
       "      <td>Irrelevante</td>\n",
       "    </tr>\n",
       "    <tr>\n",
       "      <th>10</th>\n",
       "      <td>vivo jogando league  legends</td>\n",
       "      <td>Irrelevante</td>\n",
       "    </tr>\n",
       "  </tbody>\n",
       "</table>\n",
       "</div>"
      ],
      "text/plain": [
       "                                          Treinamento   Relevancia\n",
       "0     tem  champ  league  legends que  chama akali...  Irrelevante\n",
       "1      kkkkkkkkkkkkkkkkkkkkkkkkkkkkkkkkkkkkkkkkkkk...  Irrelevante\n",
       "5    unico defeito  kim heechul  ser diamante  jog...  Irrelevante\n",
       "6   league  legends  segredos para chegar  mestre ...  Irrelevante\n",
       "10                      vivo jogando league  legends   Irrelevante"
      ]
     },
     "execution_count": 124,
     "metadata": {},
     "output_type": "execute_result"
    }
   ],
   "source": [
    "irrelevante = train['Relevancia'] == 'Irrelevante'\n",
    "train_I = train.loc[irrelevante]\n",
    "\n",
    "train_I.head()"
   ]
  },
  {
   "cell_type": "code",
   "execution_count": 125,
   "metadata": {},
   "outputs": [],
   "source": [
    "classificador_tweets_lol = classificador(train, \"Treinamento\", \"Relevancia\")"
   ]
  },
  {
   "cell_type": "code",
   "execution_count": 126,
   "metadata": {},
   "outputs": [
    {
     "data": {
      "text/plain": [
       "{'Irrelevante': 2491, 'Relevante': 1286}"
      ]
     },
     "execution_count": 126,
     "metadata": {},
     "output_type": "execute_result"
    }
   ],
   "source": [
    "{cat: val[\"length\"] for cat, val in classificador_tweets_lol.categories.items()}"
   ]
  },
  {
   "cell_type": "code",
   "execution_count": 127,
   "metadata": {},
   "outputs": [
    {
     "data": {
      "text/html": [
       "<div>\n",
       "<style scoped>\n",
       "    .dataframe tbody tr th:only-of-type {\n",
       "        vertical-align: middle;\n",
       "    }\n",
       "\n",
       "    .dataframe tbody tr th {\n",
       "        vertical-align: top;\n",
       "    }\n",
       "\n",
       "    .dataframe thead th {\n",
       "        text-align: right;\n",
       "    }\n",
       "</style>\n",
       "<table border=\"1\" class=\"dataframe\">\n",
       "  <thead>\n",
       "    <tr style=\"text-align: right;\">\n",
       "      <th></th>\n",
       "      <th>Treinamento</th>\n",
       "      <th>Relevancia</th>\n",
       "    </tr>\n",
       "  </thead>\n",
       "  <tbody>\n",
       "    <tr>\n",
       "      <th>1</th>\n",
       "      <td>Relevante</td>\n",
       "      <td>5.248769e-11</td>\n",
       "    </tr>\n",
       "    <tr>\n",
       "      <th>0</th>\n",
       "      <td>Irrelevante</td>\n",
       "      <td>1.467939e-11</td>\n",
       "    </tr>\n",
       "  </tbody>\n",
       "</table>\n",
       "</div>"
      ],
      "text/plain": [
       "   Treinamento    Relevancia\n",
       "1    Relevante  5.248769e-11\n",
       "0  Irrelevante  1.467939e-11"
      ]
     },
     "execution_count": 127,
     "metadata": {},
     "output_type": "execute_result"
    }
   ],
   "source": [
    "frase = \"lalaaaa bib tsd\"\n",
    "\n",
    "P_frase = classificador_tweets_lol.probabilidades(frase)\n",
    "\n",
    "P_frase.sort_values(by=\"Relevancia\", ascending=False).head()"
   ]
  },
  {
   "cell_type": "markdown",
   "metadata": {},
   "source": [
    "### Teste"
   ]
  },
  {
   "cell_type": "code",
   "execution_count": 128,
   "metadata": {},
   "outputs": [
    {
     "data": {
      "text/html": [
       "<div>\n",
       "<style scoped>\n",
       "    .dataframe tbody tr th:only-of-type {\n",
       "        vertical-align: middle;\n",
       "    }\n",
       "\n",
       "    .dataframe tbody tr th {\n",
       "        vertical-align: top;\n",
       "    }\n",
       "\n",
       "    .dataframe thead th {\n",
       "        text-align: right;\n",
       "    }\n",
       "</style>\n",
       "<table border=\"1\" class=\"dataframe\">\n",
       "  <thead>\n",
       "    <tr style=\"text-align: right;\">\n",
       "      <th></th>\n",
       "      <th>Teste</th>\n",
       "      <th>Relevancia</th>\n",
       "    </tr>\n",
       "  </thead>\n",
       "  <tbody>\n",
       "    <tr>\n",
       "      <th>0</th>\n",
       "      <td>uma call  supermercado vendo anime   outra jog...</td>\n",
       "      <td>Irrelevante</td>\n",
       "    </tr>\n",
       "    <tr>\n",
       "      <th>1</th>\n",
       "      <td>pulgapreta leagueoflegends nimotv pulgapreta e...</td>\n",
       "      <td>Irrelevante</td>\n",
       "    </tr>\n",
       "    <tr>\n",
       "      <th>2</th>\n",
       "      <td>fico  cara que vem uns  buceta fala  mas   tan...</td>\n",
       "      <td>Irrelevante</td>\n",
       "    </tr>\n",
       "    <tr>\n",
       "      <th>3</th>\n",
       "      <td>esquece league  legends  baixa algum moba  ce...</td>\n",
       "      <td>Irrelevante</td>\n",
       "    </tr>\n",
       "    <tr>\n",
       "      <th>4</th>\n",
       "      <td>saudade  jogar league  legends com elas</td>\n",
       "      <td>Relevante</td>\n",
       "    </tr>\n",
       "    <tr>\n",
       "      <th>...</th>\n",
       "      <td>...</td>\n",
       "      <td>...</td>\n",
       "    </tr>\n",
       "    <tr>\n",
       "      <th>195</th>\n",
       "      <td>depois  assalto  valença que levaram meu celul...</td>\n",
       "      <td>Relevante</td>\n",
       "    </tr>\n",
       "    <tr>\n",
       "      <th>196</th>\n",
       "      <td>time  league  legends  furb  dos lineups  fur...</td>\n",
       "      <td>Irrelevante</td>\n",
       "    </tr>\n",
       "    <tr>\n",
       "      <th>197</th>\n",
       "      <td>mal vejo  hora  chegar  casa pra jogar aquele ...</td>\n",
       "      <td>Relevante</td>\n",
       "    </tr>\n",
       "    <tr>\n",
       "      <th>198</th>\n",
       "      <td>como  bom xingar  jogo league  legends</td>\n",
       "      <td>Relevante</td>\n",
       "    </tr>\n",
       "    <tr>\n",
       "      <th>199</th>\n",
       "      <td>league  legends tem  poder  acabar com meu dia</td>\n",
       "      <td>Relevante</td>\n",
       "    </tr>\n",
       "  </tbody>\n",
       "</table>\n",
       "<p>200 rows × 2 columns</p>\n",
       "</div>"
      ],
      "text/plain": [
       "                                                 Teste   Relevancia\n",
       "0    uma call  supermercado vendo anime   outra jog...  Irrelevante\n",
       "1    pulgapreta leagueoflegends nimotv pulgapreta e...  Irrelevante\n",
       "2    fico  cara que vem uns  buceta fala  mas   tan...  Irrelevante\n",
       "3     esquece league  legends  baixa algum moba  ce...  Irrelevante\n",
       "4              saudade  jogar league  legends com elas    Relevante\n",
       "..                                                 ...          ...\n",
       "195  depois  assalto  valença que levaram meu celul...    Relevante\n",
       "196   time  league  legends  furb  dos lineups  fur...  Irrelevante\n",
       "197  mal vejo  hora  chegar  casa pra jogar aquele ...    Relevante\n",
       "198             como  bom xingar  jogo league  legends    Relevante\n",
       "199     league  legends tem  poder  acabar com meu dia    Relevante\n",
       "\n",
       "[200 rows x 2 columns]"
      ]
     },
     "execution_count": 128,
     "metadata": {},
     "output_type": "execute_result"
    }
   ],
   "source": [
    "test.Relevancia = test.Relevancia.astype('category')\n",
    "test.Relevancia.cat.categories = (['Irrelevante','Relevante'])\n",
    "\n",
    "test['Teste'] = test['Teste'].apply(normalize)\n",
    "test"
   ]
  },
  {
   "cell_type": "markdown",
   "metadata": {},
   "source": [
    "### P ser relevante ou irrelevante\n"
   ]
  },
  {
   "cell_type": "markdown",
   "metadata": {},
   "source": [
    "___\n",
    "### Verificando a performance do Classificador\n",
    "\n",
    "Agora você deve testar o seu classificador com a base de Testes."
   ]
  },
  {
   "cell_type": "code",
   "execution_count": 132,
   "metadata": {},
   "outputs": [
    {
     "data": {
      "text/html": [
       "<div>\n",
       "<style scoped>\n",
       "    .dataframe tbody tr th:only-of-type {\n",
       "        vertical-align: middle;\n",
       "    }\n",
       "\n",
       "    .dataframe tbody tr th {\n",
       "        vertical-align: top;\n",
       "    }\n",
       "\n",
       "    .dataframe thead th {\n",
       "        text-align: right;\n",
       "    }\n",
       "</style>\n",
       "<table border=\"1\" class=\"dataframe\">\n",
       "  <thead>\n",
       "    <tr style=\"text-align: right;\">\n",
       "      <th>A/E</th>\n",
       "      <th>False</th>\n",
       "      <th>True</th>\n",
       "    </tr>\n",
       "    <tr>\n",
       "      <th>verifica</th>\n",
       "      <th></th>\n",
       "      <th></th>\n",
       "    </tr>\n",
       "  </thead>\n",
       "  <tbody>\n",
       "    <tr>\n",
       "      <th>Irrelevante</th>\n",
       "      <td>1</td>\n",
       "      <td>15</td>\n",
       "    </tr>\n",
       "    <tr>\n",
       "      <th>Relevante</th>\n",
       "      <td>94</td>\n",
       "      <td>90</td>\n",
       "    </tr>\n",
       "  </tbody>\n",
       "</table>\n",
       "</div>"
      ],
      "text/plain": [
       "A/E          False  True \n",
       "verifica                 \n",
       "Irrelevante      1     15\n",
       "Relevante       94     90"
      ]
     },
     "execution_count": 132,
     "metadata": {},
     "output_type": "execute_result"
    }
   ],
   "source": [
    "test['verifica'] = test['Teste'].apply(classificador_tweets_lol.classifica)\n",
    "test['A/E'] = test.loc[:,'verifica'] == test['Relevancia']\n",
    "#test\n",
    "pd.crosstab(test['verifica'],test['A/E'])"
   ]
  },
  {
   "cell_type": "markdown",
   "metadata": {},
   "source": [
    "___\n",
    "### Concluindo"
   ]
  },
  {
   "cell_type": "markdown",
   "metadata": {},
   "source": [
    "* nosso classificador errou muito\n",
    "* como o classificador apenas classifica como relevante e irrelevante a partir das nossas avaliações manuais do arquivo excel, ele não identifica sarcasmo e dupla negação. Entretanto, pelo formato de classificação ser binário, as caracteristicas desses comentário são irrelevantes na hora da maquina classificar.\n",
    "* Uma proposta de melhoria seria adotar as caracteristicas citadas acima, e também dar importancia para a ordem das palavras. Assim a maquina poderá iterar e classificar comentários de uma forma mais realista.\n",
    "* Classificar email como spam(aberto)\n",
    "* Interpretação de texto via machine learning\n",
    "* Por que eles devem continuar financiando o seu projeto? por que ao expandir a forma do classificador no questio interpretação, podemos identificar eventuais problemas que os consumidores estão passando, ou pontos que mantem-os como fieis jogadores. E isso pode ajudar nas melhorias a longo prazo, e quissá, trazer novos players com os feedbacks positivos que a empresa terá ROUBANDO DADOS DA GALERA PELO TWITI!"
   ]
  },
  {
   "cell_type": "markdown",
   "metadata": {},
   "source": [
    "___\n",
    "### Qualidade do Classificador a partir de novas separações dos tweets entre Treinamento e Teste\n",
    "\n",
    "Caso for fazer esse item do Projeto"
   ]
  },
  {
   "cell_type": "code",
   "execution_count": 269,
   "metadata": {},
   "outputs": [],
   "source": [
    "test_reset = pd.read_excel(filename, sheet_name = 'Teste')\n",
    "train_reset = pd.read_excel(filename)\n",
    "test_reset['Tweet'] = test_reset['Teste']\n",
    "train_reset['Tweet'] = train_reset['Treinamento']\n",
    "del train_reset['Treinamento']\n",
    "del test_reset['Teste']\n"
   ]
  },
  {
   "cell_type": "code",
   "execution_count": 345,
   "metadata": {},
   "outputs": [
    {
     "name": "stderr",
     "output_type": "stream",
     "text": [
      "<ipython-input-345-43c7765dcfe6>:21: SettingWithCopyWarning: \n",
      "A value is trying to be set on a copy of a slice from a DataFrame.\n",
      "Try using .loc[row_indexer,col_indexer] = value instead\n",
      "\n",
      "See the caveats in the documentation: https://pandas.pydata.org/pandas-docs/stable/user_guide/indexing.html#returning-a-view-versus-a-copy\n",
      "  novo_test['verifica'] = novo_test['Tweet'].apply(classificador_tweets_lol.classifica)\n",
      "<ipython-input-345-43c7765dcfe6>:25: SettingWithCopyWarning: \n",
      "A value is trying to be set on a copy of a slice from a DataFrame.\n",
      "Try using .loc[row_indexer,col_indexer] = value instead\n",
      "\n",
      "See the caveats in the documentation: https://pandas.pydata.org/pandas-docs/stable/user_guide/indexing.html#returning-a-view-versus-a-copy\n",
      "  novo_test['A/E'] = novo_test.loc[:,'verifica'] == novo_test['Relevancia']\n"
     ]
    }
   ],
   "source": [
    "\n",
    "lister = train_reset.append(test_reset,ignore_index=True)\n",
    "\n",
    "lister[\"Tweet\"] = lister[\"Tweet\"].apply(normalize)\n",
    "lister.Relevancia = lister.Relevancia.astype('category')\n",
    "lister.Relevancia.cat.categories = (['Irrelevante','Relevante'])\n",
    "acerto_R_list = []\n",
    "acerto_I_list = []\n",
    "erro_R_list = []\n",
    "erro_I_list = []\n",
    "\n",
    "for i in range(100):\n",
    "    lister_2 = lister.reindex(random.permutation(lister.index))\n",
    "    novo_test = lister_2.iloc[0:200]\n",
    "    novo_train = lister_2.iloc[200:500]\n",
    "\n",
    "    classificador_tweets_lol = classificador(novo_train, \"Tweet\", \"Relevancia\")\n",
    "    novo_test['verifica'] = novo_test['Tweet'].apply(classificador_tweets_lol.classifica)\n",
    "\n",
    "    #pd.crosstab(novo_test['Relevancia'],novo_test['verifica'])\n",
    "\n",
    "    novo_test['A/E'] = novo_test.loc[:,'verifica'] == novo_test['Relevancia']\n",
    "    #test\n",
    "    cros = pd.crosstab(novo_test['verifica'],novo_test['A/E'],normalize=True)\n",
    "    acerto_R = cros.loc['Relevante',True]\n",
    "    acerto_I = cros.loc['Irrelevante',True]\n",
    "    erro_R = cros.loc['Relevante',False]\n",
    "    erro_I = cros.loc['Irrelevante',False]\n",
    "\n",
    "    acerto_R_list.append(acerto_R)\n",
    "    acerto_I_list.append(acerto_I)\n",
    "    erro_R_list.append(erro_R)\n",
    "    erro_I_list.append(erro_I)"
   ]
  },
  {
   "cell_type": "code",
   "execution_count": null,
   "metadata": {},
   "outputs": [],
   "source": [
    "print(acerto_R_list)\n",
    "print(acerto_I_list)\n",
    "print(erro_R_list)\n",
    "print(erro_I_list)"
   ]
  },
  {
   "cell_type": "code",
   "execution_count": 349,
   "metadata": {},
   "outputs": [
    {
     "data": {
      "image/png": "[encoded data removed]",
      "text/plain": [
       "<Figure size 720x720 with 4 Axes>"
      ]
     },
     "metadata": {
      "needs_background": "light"
     },
     "output_type": "display_data"
    }
   ],
   "source": [
    "fig= plt.figure(figsize=(10,10))\n",
    "\n",
    "\n",
    "plt.subplot(2,2,1)\n",
    "plt.hist(acerto_R_list, density=True)\n",
    "plt.title('Acertos Relevantes')\n",
    "\n",
    "\n",
    "plt.subplot(2,2,2)\n",
    "plt.hist(acerto_I_list, density=True)\n",
    "plt.title('Acertos Irrelevantes')\n",
    "\n",
    "\n",
    "\n",
    "\n",
    "plt.subplot(2,2,3)\n",
    "plt.hist(erro_R_list, density=True)\n",
    "plt.title('Erros Relevantes')\n",
    "\n",
    "\n",
    "plt.subplot(2,2,4)\n",
    "plt.hist(erro_I_list, density=True)\n",
    "plt.title('Erros Irrelevantes')\n",
    "\n",
    "plt.show()"
   ]
  },
  {
   "cell_type": "markdown",
   "metadata": {},
   "source": [
    "___\n",
    "## Aperfeiçoamento:\n",
    "\n",
    "Os trabalhos vão evoluir em conceito dependendo da quantidade de itens avançados:\n",
    "\n",
    "* Limpar: \\n, :, \", ', (, ), etc SEM remover emojis\n",
    "* Corrigir separação de espaços entre palavras e emojis ou entre emojis e emojis\n",
    "* Propor outras limpezas e transformações que não afetem a qualidade da informação ou classificação\n",
    "* Criar categorias intermediárias de relevância baseadas na probabilidade: ex.: muito relevante, relevante, neutro, irrelevante, muito irrelevante (3 categorias: C, mais categorias conta para B)\n",
    "* Explicar por que não posso usar o próprio classificador para gerar mais amostras de treinamento\n",
    "* Propor diferentes cenários para Naïve Bayes fora do contexto do projeto\n",
    "* Sugerir e explicar melhorias reais com indicações concretas de como implementar (indicar como fazer e indicar material de pesquisa)\n"
   ]
  },
  {
   "cell_type": "markdown",
   "metadata": {},
   "source": [
    "___\n",
    "## Referências"
   ]
  },
  {
   "cell_type": "markdown",
   "metadata": {},
   "source": [
    "[Naive Bayes and Text Classification](https://arxiv.org/pdf/1410.5329.pdf)  **Mais completo**\n",
    "\n",
    "[A practical explanation of a Naive Bayes Classifier](https://monkeylearn.com/blog/practical-explanation-naive-bayes-classifier/) **Mais simples**"
   ]
  }
 ],
 "metadata": {
  "kernelspec": {
   "display_name": "Python 3",
   "language": "python",
   "name": "python3"
  },
  "language_info": {
   "codemirror_mode": {
    "name": "ipython",
    "version": 3
   },
   "file_extension": ".py",
   "mimetype": "text/x-python",
   "name": "python",
   "nbconvert_exporter": "python",
   "pygments_lexer": "ipython3",
   "version": "3.8.3"
  }
 },
 "nbformat": 4,
 "nbformat_minor": 4
}
