{
 "cells": [
  {
   "cell_type": "markdown",
   "metadata": {},
   "source": [
    "# Projeto 1 - Ciência dos Dados\n",
    "## Classificador Naive Bayes\n",
    "\n",
    "Nome: Pedro Cliquet Amaral\n",
    "\n",
    "Nome: Luciano Felix Dias"
   ]
  },
  {
   "cell_type": "markdown",
   "metadata": {},
   "source": [
    "## Etapa 2 - Construção de um modelo de classificação"
   ]
  },
  {
   "cell_type": "markdown",
   "metadata": {},
   "source": [
    "---\n",
    "## 1) Preparando o ambiente no Jupyter:"
   ]
  },
  {
   "cell_type": "code",
   "execution_count": 2,
   "metadata": {},
   "outputs": [],
   "source": [
    "%matplotlib inline\n",
    "import pandas as pd\n",
    "import matplotlib.pyplot as plt\n",
    "import numpy as np\n",
    "import os\n",
    "import re\n",
    "from numpy import random"
   ]
  },
  {
   "cell_type": "markdown",
   "metadata": {},
   "source": [
    "---\n",
    "## 2) Carregando a base de dados"
   ]
  },
  {
   "cell_type": "code",
   "execution_count": 3,
   "metadata": {},
   "outputs": [],
   "source": [
    "filename = 'League of Legends_1.xlsx'"
   ]
  },
  {
   "cell_type": "code",
   "execution_count": 4,
   "metadata": {},
   "outputs": [
    {
     "data": {
      "text/html": [
       "<div>\n",
       "<style scoped>\n",
       "    .dataframe tbody tr th:only-of-type {\n",
       "        vertical-align: middle;\n",
       "    }\n",
       "\n",
       "    .dataframe tbody tr th {\n",
       "        vertical-align: top;\n",
       "    }\n",
       "\n",
       "    .dataframe thead th {\n",
       "        text-align: right;\n",
       "    }\n",
       "</style>\n",
       "<table border=\"1\" class=\"dataframe\">\n",
       "  <thead>\n",
       "    <tr style=\"text-align: right;\">\n",
       "      <th></th>\n",
       "      <th>Tweets</th>\n",
       "      <th>Relevancia</th>\n",
       "    </tr>\n",
       "  </thead>\n",
       "  <tbody>\n",
       "    <tr>\n",
       "      <th>0</th>\n",
       "      <td>@aakkari @furia tem um champ no league of lege...</td>\n",
       "      <td>0</td>\n",
       "    </tr>\n",
       "    <tr>\n",
       "      <th>1</th>\n",
       "      <td>@raylerchil @noideapraisso @paulokogos_ofc kkk...</td>\n",
       "      <td>0</td>\n",
       "    </tr>\n",
       "    <tr>\n",
       "      <th>2</th>\n",
       "      <td>a faculdade ta atrapalhando meu desempenho no ...</td>\n",
       "      <td>1</td>\n",
       "    </tr>\n",
       "    <tr>\n",
       "      <th>3</th>\n",
       "      <td>league of legends é pior do que perder q vida ...</td>\n",
       "      <td>1</td>\n",
       "    </tr>\n",
       "    <tr>\n",
       "      <th>4</th>\n",
       "      <td>eu te odeio league of legends lixo de jogo lixo</td>\n",
       "      <td>1</td>\n",
       "    </tr>\n",
       "  </tbody>\n",
       "</table>\n",
       "</div>"
      ],
      "text/plain": [
       "                                              Tweets  Relevancia\n",
       "0  @aakkari @furia tem um champ no league of lege...           0\n",
       "1  @raylerchil @noideapraisso @paulokogos_ofc kkk...           0\n",
       "2  a faculdade ta atrapalhando meu desempenho no ...           1\n",
       "3  league of legends é pior do que perder q vida ...           1\n",
       "4    eu te odeio league of legends lixo de jogo lixo           1"
      ]
     },
     "execution_count": 4,
     "metadata": {},
     "output_type": "execute_result"
    }
   ],
   "source": [
    "train = pd.read_excel(filename, sheet_name = 'Treinamento')\n",
    "train.head(5)"
   ]
  },
  {
   "cell_type": "code",
   "execution_count": 5,
   "metadata": {},
   "outputs": [
    {
     "data": {
      "text/html": [
       "<div>\n",
       "<style scoped>\n",
       "    .dataframe tbody tr th:only-of-type {\n",
       "        vertical-align: middle;\n",
       "    }\n",
       "\n",
       "    .dataframe tbody tr th {\n",
       "        vertical-align: top;\n",
       "    }\n",
       "\n",
       "    .dataframe thead th {\n",
       "        text-align: right;\n",
       "    }\n",
       "</style>\n",
       "<table border=\"1\" class=\"dataframe\">\n",
       "  <thead>\n",
       "    <tr style=\"text-align: right;\">\n",
       "      <th></th>\n",
       "      <th>Tweets</th>\n",
       "      <th>Relevancia</th>\n",
       "    </tr>\n",
       "  </thead>\n",
       "  <tbody>\n",
       "    <tr>\n",
       "      <th>0</th>\n",
       "      <td>uma call do supermercado vendo anime e a outra...</td>\n",
       "      <td>0</td>\n",
       "    </tr>\n",
       "    <tr>\n",
       "      <th>1</th>\n",
       "      <td>#pulgapreta #leagueoflegends #nimotv pulgapret...</td>\n",
       "      <td>0</td>\n",
       "    </tr>\n",
       "    <tr>\n",
       "      <th>2</th>\n",
       "      <td>fico de cara que vem uns zé buceta fala \"ah ma...</td>\n",
       "      <td>0</td>\n",
       "    </tr>\n",
       "    <tr>\n",
       "      <th>3</th>\n",
       "      <td>@hastadvalorant esquece league of legends e ba...</td>\n",
       "      <td>0</td>\n",
       "    </tr>\n",
       "    <tr>\n",
       "      <th>4</th>\n",
       "      <td>saudade de jogar league of legends com elas</td>\n",
       "      <td>1</td>\n",
       "    </tr>\n",
       "  </tbody>\n",
       "</table>\n",
       "</div>"
      ],
      "text/plain": [
       "                                              Tweets  Relevancia\n",
       "0  uma call do supermercado vendo anime e a outra...           0\n",
       "1  #pulgapreta #leagueoflegends #nimotv pulgapret...           0\n",
       "2  fico de cara que vem uns zé buceta fala \"ah ma...           0\n",
       "3  @hastadvalorant esquece league of legends e ba...           0\n",
       "4        saudade de jogar league of legends com elas           1"
      ]
     },
     "execution_count": 5,
     "metadata": {},
     "output_type": "execute_result"
    }
   ],
   "source": [
    "test = pd.read_excel(filename, sheet_name = 'Teste')\n",
    "test.head(5)"
   ]
  },
  {
   "cell_type": "markdown",
   "metadata": {},
   "source": [
    "___\n",
    "## 3) Modelo de classificação\n"
   ]
  },
  {
   "cell_type": "markdown",
   "metadata": {},
   "source": [
    "### 3.1) Cleaner"
   ]
  },
  {
   "cell_type": "code",
   "execution_count": 6,
   "metadata": {},
   "outputs": [],
   "source": [
    "def normalize (text):\n",
    "    \"\"\"\n",
    "        Função que normaliza os caracteres dos tweets.\n",
    "    \"\"\"\n",
    "    text_lower = text.lower()\n",
    "    matches = [\n",
    "        R\"[!-.\\:\\;\\\"\\'/\\\\]\",         # Pontuações\n",
    "        R\"\\b\\w{,2}\\b\",               # Palavras curtas\n",
    "        R\"[@#]\\S+\",                  # Marcações e Hashtags\n",
    "        R\"https?:\\/\\/\\S+|www.\\S+\"    # Links\n",
    "    ]\n",
    "    match_pattern = \"|\".join(matches)\n",
    "    pattern = re.compile(match_pattern)\n",
    "    normalized = re.sub(pattern, '', text_lower)\n",
    "    return normalized"
   ]
  },
  {
   "cell_type": "markdown",
   "metadata": {},
   "source": [
    "### 3.2) Dicionário de palavras"
   ]
  },
  {
   "cell_type": "code",
   "execution_count": 7,
   "metadata": {},
   "outputs": [],
   "source": [
    "def extract_words (series):\n",
    "    \"\"\"\n",
    "        Função que extrai as palavras de uma Series.\n",
    "    \"\"\"\n",
    "    split = [line.split() for line in series]\n",
    "    words = [word for line in split for word in line]\n",
    "    \n",
    "    return pd.Series(words)\n"
   ]
  },
  {
   "cell_type": "markdown",
   "metadata": {},
   "source": [
    "### 3.3) Naive Bayes"
   ]
  },
  {
   "cell_type": "code",
   "execution_count": 8,
   "metadata": {},
   "outputs": [],
   "source": [
    "def P_palavra (palavra, dicio, length):\n",
    "    \"\"\"\n",
    "        Função que calcula a probabilidade de uma palavra dado um dicionário de palavras com suavização por Naive-Bayes.\n",
    "    \"\"\"\n",
    "    ocor = dicio[palavra] if palavra in dicio else 0\n",
    "    prob = (ocor + 1) / (length + len(dicio))\n",
    "\n",
    "    return prob\n"
   ]
  },
  {
   "cell_type": "markdown",
   "metadata": {},
   "source": [
    "### 3.4) Classificador"
   ]
  },
  {
   "cell_type": "code",
   "execution_count": 9,
   "metadata": {},
   "outputs": [],
   "source": [
    "class classificador:\n",
    "    def __init__ (self, df, data_column, category_column):\n",
    "        self.columns = (data_column, category_column)\n",
    "\n",
    "        data = df[data_column]\n",
    "        words = extract_words(data)\n",
    "        self.length = len(words)\n",
    "\n",
    "        categories = df[category_column].cat.categories\n",
    "\n",
    "        self.categories = {}\n",
    "        for category in categories:\n",
    "            cat_filter = df[category_column] == category\n",
    "            filtered = df.loc[cat_filter]\n",
    "            data = filtered[data_column]\n",
    "            words = extract_words(data)\n",
    "\n",
    "            self.categories[category] = {\n",
    "                \"table\": words.value_counts(),\n",
    "                \"length\": len(words)\n",
    "            }\n",
    "    \n",
    "    def probabilidades (self, frase):\n",
    "        normalized = normalize(frase)\n",
    "        \n",
    "        P_list = []\n",
    "        for category, data in self.categories.items():\n",
    "            table = data[\"table\"]\n",
    "            length = data[\"length\"]\n",
    "            \n",
    "            P_cat = length / self.length\n",
    "            P_frase_dado_cat = 1\n",
    "\n",
    "            for palavra in normalized.split():\n",
    "                P = P_palavra(palavra, table, length)\n",
    "                P_frase_dado_cat *= P\n",
    "\n",
    "            P_cat_dado_frase = P_frase_dado_cat * P_cat\n",
    "            P_list.append((category, P_cat_dado_frase))\n",
    "\n",
    "        return pd.DataFrame(P_list, columns=self.columns)\n",
    "\n",
    "    def classifica (self, frase):\n",
    "        sorted_prob = self.probabilidades(frase).sort_values(by=\"Relevancia\", ascending=False)\n",
    "\n",
    "        return sorted_prob.iloc[0, 0]\n"
   ]
  },
  {
   "cell_type": "markdown",
   "metadata": {},
   "source": [
    "---\n",
    "## 4) Treinamento do modelo"
   ]
  },
  {
   "cell_type": "markdown",
   "metadata": {},
   "source": [
    "### 4.1) Normalização e categorização da base de dados de treinamento"
   ]
  },
  {
   "cell_type": "code",
   "execution_count": 10,
   "metadata": {},
   "outputs": [
    {
     "data": {
      "text/html": [
       "<div>\n",
       "<style scoped>\n",
       "    .dataframe tbody tr th:only-of-type {\n",
       "        vertical-align: middle;\n",
       "    }\n",
       "\n",
       "    .dataframe tbody tr th {\n",
       "        vertical-align: top;\n",
       "    }\n",
       "\n",
       "    .dataframe thead th {\n",
       "        text-align: right;\n",
       "    }\n",
       "</style>\n",
       "<table border=\"1\" class=\"dataframe\">\n",
       "  <thead>\n",
       "    <tr style=\"text-align: right;\">\n",
       "      <th></th>\n",
       "      <th>Tweets</th>\n",
       "      <th>Relevancia</th>\n",
       "    </tr>\n",
       "  </thead>\n",
       "  <tbody>\n",
       "    <tr>\n",
       "      <th>0</th>\n",
       "      <td>tem  champ  league  legends que  chama akali...</td>\n",
       "      <td>Irrelevante</td>\n",
       "    </tr>\n",
       "    <tr>\n",
       "      <th>1</th>\n",
       "      <td>kkkkkkkkkkkkkkkkkkkkkkkkkkkkkkkkkkkkkkkkkkk...</td>\n",
       "      <td>Irrelevante</td>\n",
       "    </tr>\n",
       "    <tr>\n",
       "      <th>2</th>\n",
       "      <td>faculdade  atrapalhando meu desempenho  leagu...</td>\n",
       "      <td>Relevante</td>\n",
       "    </tr>\n",
       "    <tr>\n",
       "      <th>3</th>\n",
       "      <td>league  legends  pior  que perder  vida sim</td>\n",
       "      <td>Relevante</td>\n",
       "    </tr>\n",
       "    <tr>\n",
       "      <th>4</th>\n",
       "      <td>odeio league  legends lixo  jogo lixo</td>\n",
       "      <td>Relevante</td>\n",
       "    </tr>\n",
       "    <tr>\n",
       "      <th>...</th>\n",
       "      <td>...</td>\n",
       "      <td>...</td>\n",
       "    </tr>\n",
       "    <tr>\n",
       "      <th>295</th>\n",
       "      <td>não sei   continuo jogando esse jogo desgraça...</td>\n",
       "      <td>Relevante</td>\n",
       "    </tr>\n",
       "    <tr>\n",
       "      <th>296</th>\n",
       "      <td>larguei  league  legends vou voltar virar gente</td>\n",
       "      <td>Relevante</td>\n",
       "    </tr>\n",
       "    <tr>\n",
       "      <th>297</th>\n",
       "      <td>odeio league  legends</td>\n",
       "      <td>Relevante</td>\n",
       "    </tr>\n",
       "    <tr>\n",
       "      <th>298</th>\n",
       "      <td>esse league  legends  uma puta pediu pra atual...</td>\n",
       "      <td>Relevante</td>\n",
       "    </tr>\n",
       "    <tr>\n",
       "      <th>299</th>\n",
       "      <td>mulheres estou jogando league  legends</td>\n",
       "      <td>Irrelevante</td>\n",
       "    </tr>\n",
       "  </tbody>\n",
       "</table>\n",
       "<p>300 rows × 2 columns</p>\n",
       "</div>"
      ],
      "text/plain": [
       "                                                Tweets   Relevancia\n",
       "0      tem  champ  league  legends que  chama akali...  Irrelevante\n",
       "1       kkkkkkkkkkkkkkkkkkkkkkkkkkkkkkkkkkkkkkkkkkk...  Irrelevante\n",
       "2     faculdade  atrapalhando meu desempenho  leagu...    Relevante\n",
       "3         league  legends  pior  que perder  vida sim     Relevante\n",
       "4                odeio league  legends lixo  jogo lixo    Relevante\n",
       "..                                                 ...          ...\n",
       "295   não sei   continuo jogando esse jogo desgraça...    Relevante\n",
       "296    larguei  league  legends vou voltar virar gente    Relevante\n",
       "297                              odeio league  legends    Relevante\n",
       "298  esse league  legends  uma puta pediu pra atual...    Relevante\n",
       "299             mulheres estou jogando league  legends  Irrelevante\n",
       "\n",
       "[300 rows x 2 columns]"
      ]
     },
     "execution_count": 10,
     "metadata": {},
     "output_type": "execute_result"
    }
   ],
   "source": [
    "# Normalização dos tweets\n",
    "train[\"Tweets\"] = train[\"Tweets\"].apply(normalize)\n",
    "\n",
    "# Criação das categorias de relevância\n",
    "train.Relevancia = train.Relevancia.astype(\"category\")\n",
    "train.Relevancia.cat.categories = [\"Irrelevante\",\"Relevante\"]\n",
    "\n",
    "train"
   ]
  },
  {
   "cell_type": "code",
   "execution_count": 11,
   "metadata": {},
   "outputs": [
    {
     "data": {
      "text/html": [
       "<div>\n",
       "<style scoped>\n",
       "    .dataframe tbody tr th:only-of-type {\n",
       "        vertical-align: middle;\n",
       "    }\n",
       "\n",
       "    .dataframe tbody tr th {\n",
       "        vertical-align: top;\n",
       "    }\n",
       "\n",
       "    .dataframe thead th {\n",
       "        text-align: right;\n",
       "    }\n",
       "</style>\n",
       "<table border=\"1\" class=\"dataframe\">\n",
       "  <thead>\n",
       "    <tr style=\"text-align: right;\">\n",
       "      <th></th>\n",
       "      <th>Tweets</th>\n",
       "      <th>Relevancia</th>\n",
       "    </tr>\n",
       "  </thead>\n",
       "  <tbody>\n",
       "    <tr>\n",
       "      <th>2</th>\n",
       "      <td>faculdade  atrapalhando meu desempenho  leagu...</td>\n",
       "      <td>Relevante</td>\n",
       "    </tr>\n",
       "    <tr>\n",
       "      <th>3</th>\n",
       "      <td>league  legends  pior  que perder  vida sim</td>\n",
       "      <td>Relevante</td>\n",
       "    </tr>\n",
       "    <tr>\n",
       "      <th>4</th>\n",
       "      <td>odeio league  legends lixo  jogo lixo</td>\n",
       "      <td>Relevante</td>\n",
       "    </tr>\n",
       "    <tr>\n",
       "      <th>7</th>\n",
       "      <td>league  legends   jogo podre nojento</td>\n",
       "      <td>Relevante</td>\n",
       "    </tr>\n",
       "    <tr>\n",
       "      <th>8</th>\n",
       "      <td>vezes  acho que  fato  não poder jogar league...</td>\n",
       "      <td>Relevante</td>\n",
       "    </tr>\n",
       "  </tbody>\n",
       "</table>\n",
       "</div>"
      ],
      "text/plain": [
       "                                              Tweets Relevancia\n",
       "2   faculdade  atrapalhando meu desempenho  leagu...  Relevante\n",
       "3       league  legends  pior  que perder  vida sim   Relevante\n",
       "4              odeio league  legends lixo  jogo lixo  Relevante\n",
       "7               league  legends   jogo podre nojento  Relevante\n",
       "8   vezes  acho que  fato  não poder jogar league...  Relevante"
      ]
     },
     "execution_count": 11,
     "metadata": {},
     "output_type": "execute_result"
    }
   ],
   "source": [
    "relevante = train[\"Relevancia\"] == \"Relevante\"\n",
    "train_R = train.loc[relevante]\n",
    "\n",
    "train_R.head()"
   ]
  },
  {
   "cell_type": "code",
   "execution_count": 12,
   "metadata": {},
   "outputs": [
    {
     "data": {
      "text/html": [
       "<div>\n",
       "<style scoped>\n",
       "    .dataframe tbody tr th:only-of-type {\n",
       "        vertical-align: middle;\n",
       "    }\n",
       "\n",
       "    .dataframe tbody tr th {\n",
       "        vertical-align: top;\n",
       "    }\n",
       "\n",
       "    .dataframe thead th {\n",
       "        text-align: right;\n",
       "    }\n",
       "</style>\n",
       "<table border=\"1\" class=\"dataframe\">\n",
       "  <thead>\n",
       "    <tr style=\"text-align: right;\">\n",
       "      <th></th>\n",
       "      <th>Tweets</th>\n",
       "      <th>Relevancia</th>\n",
       "    </tr>\n",
       "  </thead>\n",
       "  <tbody>\n",
       "    <tr>\n",
       "      <th>0</th>\n",
       "      <td>tem  champ  league  legends que  chama akali...</td>\n",
       "      <td>Irrelevante</td>\n",
       "    </tr>\n",
       "    <tr>\n",
       "      <th>1</th>\n",
       "      <td>kkkkkkkkkkkkkkkkkkkkkkkkkkkkkkkkkkkkkkkkkkk...</td>\n",
       "      <td>Irrelevante</td>\n",
       "    </tr>\n",
       "    <tr>\n",
       "      <th>5</th>\n",
       "      <td>unico defeito  kim heechul  ser diamante  jog...</td>\n",
       "      <td>Irrelevante</td>\n",
       "    </tr>\n",
       "    <tr>\n",
       "      <th>6</th>\n",
       "      <td>league  legends  segredos para chegar  mestre ...</td>\n",
       "      <td>Irrelevante</td>\n",
       "    </tr>\n",
       "    <tr>\n",
       "      <th>10</th>\n",
       "      <td>vivo jogando league  legends</td>\n",
       "      <td>Irrelevante</td>\n",
       "    </tr>\n",
       "  </tbody>\n",
       "</table>\n",
       "</div>"
      ],
      "text/plain": [
       "                                               Tweets   Relevancia\n",
       "0     tem  champ  league  legends que  chama akali...  Irrelevante\n",
       "1      kkkkkkkkkkkkkkkkkkkkkkkkkkkkkkkkkkkkkkkkkkk...  Irrelevante\n",
       "5    unico defeito  kim heechul  ser diamante  jog...  Irrelevante\n",
       "6   league  legends  segredos para chegar  mestre ...  Irrelevante\n",
       "10                      vivo jogando league  legends   Irrelevante"
      ]
     },
     "execution_count": 12,
     "metadata": {},
     "output_type": "execute_result"
    }
   ],
   "source": [
    "irrelevante = train[\"Relevancia\"] == \"Irrelevante\"\n",
    "train_I = train.loc[irrelevante]\n",
    "\n",
    "train_I.head()"
   ]
  },
  {
   "cell_type": "markdown",
   "metadata": {},
   "source": [
    "### 4.2) Aplicação do modelo classificador"
   ]
  },
  {
   "cell_type": "code",
   "execution_count": 13,
   "metadata": {},
   "outputs": [],
   "source": [
    "classificador_tweets_lol = classificador(train, \"Tweets\", \"Relevancia\")"
   ]
  },
  {
   "cell_type": "markdown",
   "metadata": {},
   "source": [
    "### 4.3) Verificação dos dicionários"
   ]
  },
  {
   "cell_type": "code",
   "execution_count": 14,
   "metadata": {},
   "outputs": [
    {
     "data": {
      "text/plain": [
       "{'Irrelevante': 2491, 'Relevante': 1286}"
      ]
     },
     "execution_count": 14,
     "metadata": {},
     "output_type": "execute_result"
    }
   ],
   "source": [
    "{cat: val[\"length\"] for cat, val in classificador_tweets_lol.categories.items()}"
   ]
  },
  {
   "cell_type": "markdown",
   "metadata": {},
   "source": [
    "### 4.4) Teste unitário"
   ]
  },
  {
   "cell_type": "code",
   "execution_count": 15,
   "metadata": {},
   "outputs": [
    {
     "data": {
      "text/html": [
       "<div>\n",
       "<style scoped>\n",
       "    .dataframe tbody tr th:only-of-type {\n",
       "        vertical-align: middle;\n",
       "    }\n",
       "\n",
       "    .dataframe tbody tr th {\n",
       "        vertical-align: top;\n",
       "    }\n",
       "\n",
       "    .dataframe thead th {\n",
       "        text-align: right;\n",
       "    }\n",
       "</style>\n",
       "<table border=\"1\" class=\"dataframe\">\n",
       "  <thead>\n",
       "    <tr style=\"text-align: right;\">\n",
       "      <th></th>\n",
       "      <th>Tweets</th>\n",
       "      <th>Relevancia</th>\n",
       "    </tr>\n",
       "  </thead>\n",
       "  <tbody>\n",
       "    <tr>\n",
       "      <th>1</th>\n",
       "      <td>Relevante</td>\n",
       "      <td>5.248769e-11</td>\n",
       "    </tr>\n",
       "    <tr>\n",
       "      <th>0</th>\n",
       "      <td>Irrelevante</td>\n",
       "      <td>1.467939e-11</td>\n",
       "    </tr>\n",
       "  </tbody>\n",
       "</table>\n",
       "</div>"
      ],
      "text/plain": [
       "        Tweets    Relevancia\n",
       "1    Relevante  5.248769e-11\n",
       "0  Irrelevante  1.467939e-11"
      ]
     },
     "execution_count": 15,
     "metadata": {},
     "output_type": "execute_result"
    }
   ],
   "source": [
    "frase = \"lalaaaa bib tsd\"\n",
    "\n",
    "P_frase = classificador_tweets_lol.probabilidades(frase)\n",
    "\n",
    "P_frase.sort_values(by=\"Relevancia\", ascending=False).head()"
   ]
  },
  {
   "cell_type": "markdown",
   "metadata": {},
   "source": [
    "---\n",
    "## 5) Teste to modelo"
   ]
  },
  {
   "cell_type": "markdown",
   "metadata": {},
   "source": [
    "### 5.1) Normalização, categorização e verificação da base de dados de teste"
   ]
  },
  {
   "cell_type": "code",
   "execution_count": 16,
   "metadata": {},
   "outputs": [
    {
     "data": {
      "text/html": [
       "<div>\n",
       "<style scoped>\n",
       "    .dataframe tbody tr th:only-of-type {\n",
       "        vertical-align: middle;\n",
       "    }\n",
       "\n",
       "    .dataframe tbody tr th {\n",
       "        vertical-align: top;\n",
       "    }\n",
       "\n",
       "    .dataframe thead th {\n",
       "        text-align: right;\n",
       "    }\n",
       "</style>\n",
       "<table border=\"1\" class=\"dataframe\">\n",
       "  <thead>\n",
       "    <tr style=\"text-align: right;\">\n",
       "      <th></th>\n",
       "      <th>Tweets</th>\n",
       "      <th>Relevancia</th>\n",
       "      <th>Verifica</th>\n",
       "      <th>Acerto</th>\n",
       "    </tr>\n",
       "  </thead>\n",
       "  <tbody>\n",
       "    <tr>\n",
       "      <th>0</th>\n",
       "      <td>uma call  supermercado vendo anime   outra jog...</td>\n",
       "      <td>Irrelevante</td>\n",
       "      <td>Relevante</td>\n",
       "      <td>Errou</td>\n",
       "    </tr>\n",
       "    <tr>\n",
       "      <th>1</th>\n",
       "      <td>pulgapreta leagueoflegends nimotv pulgapreta e...</td>\n",
       "      <td>Irrelevante</td>\n",
       "      <td>Irrelevante</td>\n",
       "      <td>Acertou</td>\n",
       "    </tr>\n",
       "    <tr>\n",
       "      <th>2</th>\n",
       "      <td>fico  cara que vem uns  buceta fala  mas   tan...</td>\n",
       "      <td>Irrelevante</td>\n",
       "      <td>Relevante</td>\n",
       "      <td>Errou</td>\n",
       "    </tr>\n",
       "    <tr>\n",
       "      <th>3</th>\n",
       "      <td>esquece league  legends  baixa algum moba  ce...</td>\n",
       "      <td>Irrelevante</td>\n",
       "      <td>Relevante</td>\n",
       "      <td>Errou</td>\n",
       "    </tr>\n",
       "    <tr>\n",
       "      <th>4</th>\n",
       "      <td>saudade  jogar league  legends com elas</td>\n",
       "      <td>Relevante</td>\n",
       "      <td>Relevante</td>\n",
       "      <td>Acertou</td>\n",
       "    </tr>\n",
       "    <tr>\n",
       "      <th>...</th>\n",
       "      <td>...</td>\n",
       "      <td>...</td>\n",
       "      <td>...</td>\n",
       "      <td>...</td>\n",
       "    </tr>\n",
       "    <tr>\n",
       "      <th>195</th>\n",
       "      <td>depois  assalto  valença que levaram meu celul...</td>\n",
       "      <td>Relevante</td>\n",
       "      <td>Relevante</td>\n",
       "      <td>Acertou</td>\n",
       "    </tr>\n",
       "    <tr>\n",
       "      <th>196</th>\n",
       "      <td>time  league  legends  furb  dos lineups  fur...</td>\n",
       "      <td>Irrelevante</td>\n",
       "      <td>Relevante</td>\n",
       "      <td>Errou</td>\n",
       "    </tr>\n",
       "    <tr>\n",
       "      <th>197</th>\n",
       "      <td>mal vejo  hora  chegar  casa pra jogar aquele ...</td>\n",
       "      <td>Relevante</td>\n",
       "      <td>Relevante</td>\n",
       "      <td>Acertou</td>\n",
       "    </tr>\n",
       "    <tr>\n",
       "      <th>198</th>\n",
       "      <td>como  bom xingar  jogo league  legends</td>\n",
       "      <td>Relevante</td>\n",
       "      <td>Relevante</td>\n",
       "      <td>Acertou</td>\n",
       "    </tr>\n",
       "    <tr>\n",
       "      <th>199</th>\n",
       "      <td>league  legends tem  poder  acabar com meu dia</td>\n",
       "      <td>Relevante</td>\n",
       "      <td>Relevante</td>\n",
       "      <td>Acertou</td>\n",
       "    </tr>\n",
       "  </tbody>\n",
       "</table>\n",
       "<p>200 rows × 4 columns</p>\n",
       "</div>"
      ],
      "text/plain": [
       "                                                Tweets   Relevancia  \\\n",
       "0    uma call  supermercado vendo anime   outra jog...  Irrelevante   \n",
       "1    pulgapreta leagueoflegends nimotv pulgapreta e...  Irrelevante   \n",
       "2    fico  cara que vem uns  buceta fala  mas   tan...  Irrelevante   \n",
       "3     esquece league  legends  baixa algum moba  ce...  Irrelevante   \n",
       "4              saudade  jogar league  legends com elas    Relevante   \n",
       "..                                                 ...          ...   \n",
       "195  depois  assalto  valença que levaram meu celul...    Relevante   \n",
       "196   time  league  legends  furb  dos lineups  fur...  Irrelevante   \n",
       "197  mal vejo  hora  chegar  casa pra jogar aquele ...    Relevante   \n",
       "198             como  bom xingar  jogo league  legends    Relevante   \n",
       "199     league  legends tem  poder  acabar com meu dia    Relevante   \n",
       "\n",
       "        Verifica   Acerto  \n",
       "0      Relevante    Errou  \n",
       "1    Irrelevante  Acertou  \n",
       "2      Relevante    Errou  \n",
       "3      Relevante    Errou  \n",
       "4      Relevante  Acertou  \n",
       "..           ...      ...  \n",
       "195    Relevante  Acertou  \n",
       "196    Relevante    Errou  \n",
       "197    Relevante  Acertou  \n",
       "198    Relevante  Acertou  \n",
       "199    Relevante  Acertou  \n",
       "\n",
       "[200 rows x 4 columns]"
      ]
     },
     "execution_count": 16,
     "metadata": {},
     "output_type": "execute_result"
    }
   ],
   "source": [
    "# Normalização dos tweets\n",
    "test[\"Tweets\"] = test[\"Tweets\"].apply(normalize)\n",
    "\n",
    "# Criação das categorias de relevância\n",
    "test.Relevancia = test.Relevancia.astype(\"category\")\n",
    "test.Relevancia.cat.categories = [\"Irrelevante\",\"Relevante\"]\n",
    "\n",
    "# Verificação da base de dados utilizando o modelo de classificção\n",
    "test[\"Verifica\"] = test[\"Tweets\"].apply(classificador_tweets_lol.classifica)\n",
    "\n",
    "test[\"Acerto\"] = test[\"Verifica\"] == test[\"Relevancia\"]\n",
    "test[\"Acerto\"] = test[\"Acerto\"].astype(\"category\")\n",
    "test[\"Acerto\"].cat.categories = [\"Errou\", \"Acertou\"]\n",
    "\n",
    "test"
   ]
  },
  {
   "cell_type": "markdown",
   "metadata": {},
   "source": [
    "___\n",
    "## 6) Verificando a performance do Classificador"
   ]
  },
  {
   "cell_type": "code",
   "execution_count": 17,
   "metadata": {},
   "outputs": [
    {
     "data": {
      "text/html": [
       "<div>\n",
       "<style scoped>\n",
       "    .dataframe tbody tr th:only-of-type {\n",
       "        vertical-align: middle;\n",
       "    }\n",
       "\n",
       "    .dataframe tbody tr th {\n",
       "        vertical-align: top;\n",
       "    }\n",
       "\n",
       "    .dataframe thead th {\n",
       "        text-align: right;\n",
       "    }\n",
       "</style>\n",
       "<table border=\"1\" class=\"dataframe\">\n",
       "  <thead>\n",
       "    <tr style=\"text-align: right;\">\n",
       "      <th>Acerto</th>\n",
       "      <th>Errou</th>\n",
       "      <th>Acertou</th>\n",
       "    </tr>\n",
       "    <tr>\n",
       "      <th>Relevancia</th>\n",
       "      <th></th>\n",
       "      <th></th>\n",
       "    </tr>\n",
       "  </thead>\n",
       "  <tbody>\n",
       "    <tr>\n",
       "      <th>Irrelevante</th>\n",
       "      <td>0.470</td>\n",
       "      <td>0.075</td>\n",
       "    </tr>\n",
       "    <tr>\n",
       "      <th>Relevante</th>\n",
       "      <td>0.005</td>\n",
       "      <td>0.450</td>\n",
       "    </tr>\n",
       "  </tbody>\n",
       "</table>\n",
       "</div>"
      ],
      "text/plain": [
       "Acerto       Errou  Acertou\n",
       "Relevancia                 \n",
       "Irrelevante  0.470    0.075\n",
       "Relevante    0.005    0.450"
      ]
     },
     "execution_count": 17,
     "metadata": {},
     "output_type": "execute_result"
    }
   ],
   "source": [
    "pd.crosstab(test[\"Relevancia\"], test[\"Acerto\"], normalize=True)"
   ]
  },
  {
   "cell_type": "markdown",
   "metadata": {},
   "source": [
    "___\n",
    "### 7) Conclusão"
   ]
  },
  {
   "cell_type": "markdown",
   "metadata": {},
   "source": [
    "* nosso classificador errou muito\n",
    "* como o classificador apenas classifica como relevante e irrelevante a partir das nossas avaliações manuais do arquivo excel, ele não identifica sarcasmo e dupla negação. Entretanto, pelo formato de classificação ser binário, as caracteristicas desses comentário são irrelevantes na hora da maquina classificar.\n",
    "* Uma proposta de melhoria seria adotar as caracteristicas citadas acima, e também dar importancia para a ordem das palavras. Assim a maquina poderá iterar e classificar comentários de uma forma mais realista.\n",
    "* Classificar email como spam(aberto)\n",
    "* Interpretação de texto via machine learning\n",
    "* Por que eles devem continuar financiando o seu projeto? por que ao expandir a forma do classificador no questio interpretação, podemos identificar eventuais problemas que os consumidores estão passando, ou pontos que mantem-os como fieis jogadores. E isso pode ajudar nas melhorias a longo prazo, e quissá, trazer novos players com os feedbacks positivos que a empresa terá ROUBANDO DADOS DA GALERA PELO TWITI!"
   ]
  },
  {
   "cell_type": "markdown",
   "metadata": {},
   "source": [
    "___\n",
    "## 8) Qualidade do Classificador a partir de novas separações dos tweets entre Treinamento e Teste"
   ]
  },
  {
   "cell_type": "markdown",
   "metadata": {},
   "source": [
    "### 8.1) Fusão da base de dados"
   ]
  },
  {
   "cell_type": "code",
   "execution_count": 18,
   "metadata": {},
   "outputs": [
    {
     "data": {
      "text/html": [
       "<div>\n",
       "<style scoped>\n",
       "    .dataframe tbody tr th:only-of-type {\n",
       "        vertical-align: middle;\n",
       "    }\n",
       "\n",
       "    .dataframe tbody tr th {\n",
       "        vertical-align: top;\n",
       "    }\n",
       "\n",
       "    .dataframe thead th {\n",
       "        text-align: right;\n",
       "    }\n",
       "</style>\n",
       "<table border=\"1\" class=\"dataframe\">\n",
       "  <thead>\n",
       "    <tr style=\"text-align: right;\">\n",
       "      <th></th>\n",
       "      <th>Tweets</th>\n",
       "      <th>Relevancia</th>\n",
       "    </tr>\n",
       "  </thead>\n",
       "  <tbody>\n",
       "    <tr>\n",
       "      <th>0</th>\n",
       "      <td>tem  champ  league  legends que  chama akali...</td>\n",
       "      <td>Irrelevante</td>\n",
       "    </tr>\n",
       "    <tr>\n",
       "      <th>1</th>\n",
       "      <td>kkkkkkkkkkkkkkkkkkkkkkkkkkkkkkkkkkkkkkkkkkk...</td>\n",
       "      <td>Irrelevante</td>\n",
       "    </tr>\n",
       "    <tr>\n",
       "      <th>2</th>\n",
       "      <td>faculdade  atrapalhando meu desempenho  leagu...</td>\n",
       "      <td>Relevante</td>\n",
       "    </tr>\n",
       "    <tr>\n",
       "      <th>3</th>\n",
       "      <td>league  legends  pior  que perder  vida sim</td>\n",
       "      <td>Relevante</td>\n",
       "    </tr>\n",
       "    <tr>\n",
       "      <th>4</th>\n",
       "      <td>odeio league  legends lixo  jogo lixo</td>\n",
       "      <td>Relevante</td>\n",
       "    </tr>\n",
       "    <tr>\n",
       "      <th>...</th>\n",
       "      <td>...</td>\n",
       "      <td>...</td>\n",
       "    </tr>\n",
       "    <tr>\n",
       "      <th>495</th>\n",
       "      <td>depois  assalto  valença que levaram meu celul...</td>\n",
       "      <td>Relevante</td>\n",
       "    </tr>\n",
       "    <tr>\n",
       "      <th>496</th>\n",
       "      <td>time  league  legends  furb  dos lineups  fur...</td>\n",
       "      <td>Irrelevante</td>\n",
       "    </tr>\n",
       "    <tr>\n",
       "      <th>497</th>\n",
       "      <td>mal vejo  hora  chegar  casa pra jogar aquele ...</td>\n",
       "      <td>Relevante</td>\n",
       "    </tr>\n",
       "    <tr>\n",
       "      <th>498</th>\n",
       "      <td>como  bom xingar  jogo league  legends</td>\n",
       "      <td>Relevante</td>\n",
       "    </tr>\n",
       "    <tr>\n",
       "      <th>499</th>\n",
       "      <td>league  legends tem  poder  acabar com meu dia</td>\n",
       "      <td>Relevante</td>\n",
       "    </tr>\n",
       "  </tbody>\n",
       "</table>\n",
       "<p>500 rows × 2 columns</p>\n",
       "</div>"
      ],
      "text/plain": [
       "                                                Tweets   Relevancia\n",
       "0      tem  champ  league  legends que  chama akali...  Irrelevante\n",
       "1       kkkkkkkkkkkkkkkkkkkkkkkkkkkkkkkkkkkkkkkkkkk...  Irrelevante\n",
       "2     faculdade  atrapalhando meu desempenho  leagu...    Relevante\n",
       "3         league  legends  pior  que perder  vida sim     Relevante\n",
       "4                odeio league  legends lixo  jogo lixo    Relevante\n",
       "..                                                 ...          ...\n",
       "495  depois  assalto  valença que levaram meu celul...    Relevante\n",
       "496   time  league  legends  furb  dos lineups  fur...  Irrelevante\n",
       "497  mal vejo  hora  chegar  casa pra jogar aquele ...    Relevante\n",
       "498             como  bom xingar  jogo league  legends    Relevante\n",
       "499     league  legends tem  poder  acabar com meu dia    Relevante\n",
       "\n",
       "[500 rows x 2 columns]"
      ]
     },
     "execution_count": 18,
     "metadata": {},
     "output_type": "execute_result"
    }
   ],
   "source": [
    "assert_train = pd.read_excel(filename, sheet_name = \"Treinamento\")\n",
    "assert_test = pd.read_excel(filename, sheet_name = \"Teste\")\n",
    "assert_df = pd.concat([assert_train, assert_test], ignore_index=True)\n",
    "\n",
    "assert_df[\"Tweets\"] = assert_df[\"Tweets\"].apply(normalize)\n",
    "\n",
    "assert_df[\"Relevancia\"] = assert_df[\"Relevancia\"].astype(\"category\")\n",
    "assert_df[\"Relevancia\"].cat.categories = ([\"Irrelevante\",\"Relevante\"])\n",
    "\n",
    "assert_df"
   ]
  },
  {
   "cell_type": "markdown",
   "metadata": {},
   "source": [
    "### 8.2) Embaralhamento e divisão da base de dados, Treinamento e teste do modelo de classificação"
   ]
  },
  {
   "cell_type": "code",
   "execution_count": 21,
   "metadata": {},
   "outputs": [
    {
     "name": "stderr",
     "output_type": "stream",
     "text": [
      "<ipython-input-21-a827e8841abe>:12: SettingWithCopyWarning: \n",
      "A value is trying to be set on a copy of a slice from a DataFrame.\n",
      "Try using .loc[row_indexer,col_indexer] = value instead\n",
      "\n",
      "See the caveats in the documentation: https://pandas.pydata.org/pandas-docs/stable/user_guide/indexing.html#returning-a-view-versus-a-copy\n",
      "  permute_test[\"verifica\"] = permute_test[\"Tweets\"].apply(classificador_tweets_lol.classifica)\n"
     ]
    }
   ],
   "source": [
    "\n",
    "acerto_R_list = []\n",
    "acerto_I_list = []\n",
    "erro_R_list   = []\n",
    "erro_I_list   = []\n",
    "\n",
    "for i in range(1000):\n",
    "    df_permute    = assert_df.reindex(random.permutation(assert_df.index))\n",
    "    permute_test  = df_permute.iloc[0:200]\n",
    "    permute_train = df_permute.iloc[200:500]\n",
    "\n",
    "    classificador_tweets_lol = classificador(permute_train, \"Tweets\", \"Relevancia\")\n",
    "    permute_test[\"verifica\"] = permute_test[\"Tweets\"].apply(classificador_tweets_lol.classifica)\n",
    "\n",
    "    hits = permute_test[\"verifica\"] == permute_test[\"Relevancia\"]\n",
    "    cross_table = pd.crosstab(permute_test[\"verifica\"], hits, normalize=True)\n",
    "\n",
    "    acerto_R = cross_table.loc[\"Relevante\", True]\n",
    "    acerto_I = cross_table.loc[\"Irrelevante\", True]\n",
    "    erro_R   = cross_table.loc[\"Relevante\", False]\n",
    "    erro_I   = cross_table.loc[\"Irrelevante\", False]\n",
    "\n",
    "    acerto_R_list.append(acerto_R)\n",
    "    acerto_I_list.append(acerto_I)\n",
    "    erro_R_list.append(erro_R)\n",
    "    erro_I_list.append(erro_I)"
   ]
  },
  {
   "cell_type": "markdown",
   "metadata": {},
   "source": [
    "### 8.3) Gráficos conclusivos da qualidade do modelo"
   ]
  },
  {
   "cell_type": "code",
   "execution_count": 27,
   "metadata": {},
   "outputs": [
    {
     "data": {
      "image/png": "[encoded data removed]",
      "text/plain": [
       "<Figure size 1080x720 with 4 Axes>"
      ]
     },
     "metadata": {
      "needs_background": "light"
     },
     "output_type": "display_data"
    }
   ],
   "source": [
    "bins_1 = np.arange(0.3,0.6,0.01)\n",
    "bins_2 = np.arange(0,0.2,0.01)\n",
    "bins_3 = np.arange(0.3,0.6,0.01)\n",
    "bins_4 = np.arange(0,0.1,0.01)\n",
    "plt.figure(figsize=(15, 10))\n",
    "\n",
    "plt.subplot(2, 2, 1)\n",
    "plt.hist(acerto_R_list, color=\"#22BB22\", edgecolor=\"w\", bins=bins_1, density=True)\n",
    "plt.title(\"Acertos: Relevantes\")\n",
    "plt.xlabel(\"% de Acertos\")\n",
    "plt.ylabel(\"% de ocorrencias\")\n",
    "plt.grid(axis=\"y\")\n",
    "\n",
    "plt.subplot(2, 2, 2)\n",
    "plt.hist(acerto_I_list, color=\"#22BB22\", edgecolor=\"w\",bins=bins_2, density=True)\n",
    "plt.title(\"Acertos: Irrelevantes\")\n",
    "plt.xlabel(\"% de Acertos\")\n",
    "plt.ylabel(\"% de ocorrencias\")\n",
    "plt.grid(axis=\"y\")\n",
    "\n",
    "plt.subplot(2, 2, 3)\n",
    "plt.hist(erro_R_list, color=\"#FF2222\", edgecolor=\"w\",bins=bins_3, density=True)\n",
    "plt.title(\"Erros: Relevantes\")\n",
    "plt.xlabel(\"% de Erros\")\n",
    "plt.ylabel(\"% de ocorrencias\")\n",
    "plt.grid(axis=\"y\")\n",
    "\n",
    "plt.subplot(2, 2, 4)\n",
    "plt.hist(erro_I_list, color=\"#FF2222\", edgecolor=\"w\",bins=bins_4, density=True)\n",
    "plt.title(\"Erros: Irrelevantes\")\n",
    "plt.xlabel(\"% de Erros\")\n",
    "plt.ylabel(\"% de ocorrencias\")\n",
    "plt.grid(axis=\"y\")\n",
    "\n",
    "plt.savefig('plots/qualidade.png', dpi=300)\n",
    "plt.show()"
   ]
  },
  {
   "cell_type": "markdown",
   "metadata": {},
   "source": [
    "___\n",
    "## 9) Aperfeiçoamento:\n",
    "\n",
    "Os trabalhos vão evoluir em conceito dependendo da quantidade de itens avançados:\n",
    "\n",
    "* Limpar: \\n, :, \", ', (, ), etc SEM remover emojis\n",
    "* Corrigir separação de espaços entre palavras e emojis ou entre emojis e emojis\n",
    "* Propor outras limpezas e transformações que não afetem a qualidade da informação ou classificação\n",
    "* Criar categorias intermediárias de relevância baseadas na probabilidade: ex.: muito relevante, relevante, neutro, irrelevante, muito irrelevante (3 categorias: C, mais categorias conta para B)\n",
    "* Explicar por que não posso usar o próprio classificador para gerar mais amostras de treinamento\n",
    "* Propor diferentes cenários para Naïve Bayes fora do contexto do projeto\n",
    "* Sugerir e explicar melhorias reais com indicações concretas de como implementar (indicar como fazer e indicar material de pesquisa)\n"
   ]
  },
  {
   "cell_type": "markdown",
   "metadata": {},
   "source": [
    "___\n",
    "## 10) Referências\n",
    "\n",
    "[Naive Bayes and Text Classification](https://arxiv.org/pdf/1410.5329.pdf)\n",
    "\n",
    "[A practical explanation of a Naive Bayes Classifier](https://monkeylearn.com/blog/practical-explanation-naive-bayes-classifier/)"
   ]
  }
 ],
 "metadata": {
  "kernelspec": {
   "display_name": "Python 3",
   "language": "python",
   "name": "python3"
  },
  "language_info": {
   "codemirror_mode": {
    "name": "ipython",
    "version": 3
   },
   "file_extension": ".py",
   "mimetype": "text/x-python",
   "name": "python",
   "nbconvert_exporter": "python",
   "pygments_lexer": "ipython3",
   "version": "3.8.3"
  }
 },
 "nbformat": 4,
 "nbformat_minor": 4
}
